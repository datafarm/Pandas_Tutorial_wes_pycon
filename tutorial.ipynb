<!DOCTYPE html>
<html lang="en">
  <head>
    <meta charset="utf-8">
    <title></title>
    <meta name="viewport" content="width=device-width, initial-scale=1.0">
    <meta name="description" content="">
    <meta name="author" content="">
    <!--NEW RELIC Start Perf Measurement-->
    <script type="text/javascript">var NREUMQ=NREUMQ||[];NREUMQ.push(["mark","firstbyte",new Date().getTime()]);</script>
    <!--NREND-->

    <!-- Le styles -->
    <!--<link href="/static/css/bootstrap.css" rel="stylesheet">-->
    <link href="/static/css/docs.css" rel="stylesheet">
    <link href="/static/css/bootstrap.css" rel="stylesheet">
    <link href="/static/css/bootstrap-responsive.css" rel="stylesheet">

    <!-- Le HTML5 shim, for IE6-8 support of HTML5 elements -->
    <!--[if lt IE 9]>
      <script src="http://html5shim.googlecode.com/svn/trunk/html5.js"></script>
    <![endif]-->

    <!-- Le fav and touch icons -->
    <link rel="shortcut icon" href="/static/ico/ipynb_icon_16x16.png">
    <link rel="apple-touch-icon-precomposed" sizes="144x144" href="/static/ico/apple-touch-icon-144-precomposed.png">
    <link rel="apple-touch-icon-precomposed" sizes="114x114" href="/static/ico/apple-touch-icon-114-precomposed.png">
    <link rel="apple-touch-icon-precomposed" sizes="72x72" href="/static/ico/apple-touch-icon-72-precomposed.png">
    <link rel="apple-touch-icon-precomposed" href="/static/ico/apple-touch-icon-57-precomposed.png">
    
    
    
    <link href="/static/ipython.min.css" rel="stylesheet">
    <link href="/static/css/pygments.css" rel="stylesheet">
    <style type="text/css" media='screen and (min-width:980px)'>
    .navbar-inner {
        opacity: 0.5;
        transition: opacity 0.5s ease-in-out;
        -webkit-transition: opacity 0.5s ease-in-out;
    }

    .navbar-inner ul{
        opacity: 0.5;
        transition: opacity 0.5s ease-in-out;
        -webkit-transition: opacity 0.5s ease-in-out;
    }

    body{
        padding-top:50px;
    }

    </style>
    <style type="text/css" >
    .imgwrap {
        text-align: center;
    }
    .input_area{
        padding: 0.4em;
    }
    div.input_area > div.highlight > pre {
        margin: 0px;
        padding: 0px;
        border: none;
    }

    .navbar-inner:hover {
        opacity: 1.0;
    }

    .navbar-inner:hover ul{
        opacity: 1.0;
    }

    </style>
    
    <script src="https://c328740.ssl.cf1.rackcdn.com/mathjax/latest/MathJax.js?config=TeX-AMS_HTML"type="text/javascript">
    </script>
    <script type="text/javascript">
    init_mathjax = function() {
        if (window.MathJax) {
            // MathJax loaded
            MathJax.Hub.Config({
                tex2jax: {
                    inlineMath: [ ['$','$'], ["\\(","\\)"] ],
                    displayMath: [ ['$$','$$'], ["\\[","\\]"] ]
                },
                displayAlign: 'left', // Change this to 'center' to center equations.
                "HTML-CSS": {
                    styles: {'.MathJax_Display': {"margin": 0}}
                }
            });
            MathJax.Hub.Queue(["Typeset",MathJax.Hub]);
        }
    }
    init_mathjax();
    </script>
    
  </head>

  <body data-spy="scroll" data-target=".subnav" data-offset="50">


  <!-- Navbar
  ================================================== -->
    <div class="navbar navbar-fixed-top">
      <div class="navbar-inner">
        <div class="container">
          <button type="button" class="btn btn-navbar" data-toggle="collapse" data-target=".nav-collapse">
            <span class="icon-bar"></span>
            <span class="icon-bar"></span>
            <span class="icon-bar"></span>
          </button>
          <div class="nav-collapse collapse">
            <ul class="nav">
              <li>
                <a href="/">Home</a>
              </li>
              <li>
                <a href="/faq">FAQ</a>
              </li>
              <li class="">
                <a href="http://www.ipython.org">IPython</a>
              </li>
              <li>
              <a href="http://penandpants.com/2012/10/16/open-in-nbviewer-bookmarklet/">Bookmarklet</a>
              </li>
              

            </ul>
              
    <ul class="nav pull-right"> 
        <li class="">
            <a href="https://gist.github.com/wesm/5773719/raw/1399562c0a02b9edc3d13c71a70387a31d87260b/tutorial.ipynb" download="PyConSGTutorial.ipynb">Download Notebook</a>
        </li>
    </ul>
    
          </div>
        </div>
      </div>
    </div>
    <div class="container">


    
<div class="cell border-box-sizing code_cell vbox">
<div class="input hbox">
<div class="prompt input_prompt">
In&nbsp;[1]:
</div>
<div class="input_area box-flex1">
<div class="highlight"><pre><span class="kn">import</span> <span class="nn">pandas</span> <span class="kn">as</span> <span class="nn">pd</span>
<span class="kn">import</span> <span class="nn">numpy</span> <span class="kn">as</span> <span class="nn">np</span>
<span class="n">pd</span><span class="o">.</span><span class="n">__version__</span>
</pre></div>

</div>
</div>

<div class="vbox output_wrapper">
<div class="output vbox">


<div class="hbox output_area"><div class="prompt output_prompt">
    Out[1]:</div>
<div class="box-flex1 output_subarea output_pyout">


<pre>
&apos;0.11.0&apos;
</pre>

</div>
</div>

</div>
</div>

</div>
<div class="cell border-box-sizing code_cell vbox">
<div class="input hbox">
<div class="prompt input_prompt">
In&nbsp;[2]:
</div>
<div class="input_area box-flex1">
<div class="highlight"><pre><span class="n">values</span> <span class="o">=</span> <span class="p">[</span><span class="mf">1.5</span><span class="p">,</span> <span class="mi">5</span><span class="p">,</span> <span class="o">-</span><span class="mi">5</span><span class="p">,</span> <span class="mi">4</span><span class="p">,</span> <span class="mi">2</span><span class="p">]</span>

<span class="n">s</span> <span class="o">=</span> <span class="n">pd</span><span class="o">.</span><span class="n">Series</span><span class="p">(</span><span class="n">values</span><span class="p">)</span>
<span class="n">s</span>
</pre></div>

</div>
</div>

<div class="vbox output_wrapper">
<div class="output vbox">


<div class="hbox output_area"><div class="prompt output_prompt">
    Out[2]:</div>
<div class="box-flex1 output_subarea output_pyout">


<pre>
0    1.5
1    5.0
2   -5.0
3    4.0
4    2.0
dtype: float64
</pre>

</div>
</div>

</div>
</div>

</div>
<div class="cell border-box-sizing code_cell vbox">
<div class="input hbox">
<div class="prompt input_prompt">
In&nbsp;[3]:
</div>
<div class="input_area box-flex1">
<div class="highlight"><pre><span class="n">s</span><span class="o">.</span><span class="n">values</span>
</pre></div>

</div>
</div>

<div class="vbox output_wrapper">
<div class="output vbox">


<div class="hbox output_area"><div class="prompt output_prompt">
    Out[3]:</div>
<div class="box-flex1 output_subarea output_pyout">


<pre>
array([ 1.5,  5. , -5. ,  4. ,  2. ])
</pre>

</div>
</div>

</div>
</div>

</div>
<div class="cell border-box-sizing code_cell vbox">
<div class="input hbox">
<div class="prompt input_prompt">
In&nbsp;[4]:
</div>
<div class="input_area box-flex1">
<div class="highlight"><pre><span class="n">s</span><span class="o">.</span><span class="n">index</span>
</pre></div>

</div>
</div>

<div class="vbox output_wrapper">
<div class="output vbox">


<div class="hbox output_area"><div class="prompt output_prompt">
    Out[4]:</div>
<div class="box-flex1 output_subarea output_pyout">


<pre>
Int64Index([0, 1, 2, 3, 4], dtype=int64)
</pre>

</div>
</div>

</div>
</div>

</div>
<div class="cell border-box-sizing code_cell vbox">
<div class="input hbox">
<div class="prompt input_prompt">
In&nbsp;[5]:
</div>
<div class="input_area box-flex1">
<div class="highlight"><pre><span class="n">labels</span> <span class="o">=</span> <span class="p">[</span><span class="s">&#39;a&#39;</span><span class="p">,</span> <span class="s">&#39;b&#39;</span><span class="p">,</span> <span class="s">&#39;c&#39;</span><span class="p">,</span> <span class="s">&#39;d&#39;</span><span class="p">,</span> <span class="s">&#39;e&#39;</span><span class="p">]</span>

<span class="n">s2</span> <span class="o">=</span> <span class="n">pd</span><span class="o">.</span><span class="n">Series</span><span class="p">(</span><span class="n">values</span><span class="p">,</span> <span class="n">index</span><span class="o">=</span><span class="n">labels</span><span class="p">)</span>
<span class="n">s2</span>
</pre></div>

</div>
</div>

<div class="vbox output_wrapper">
<div class="output vbox">


<div class="hbox output_area"><div class="prompt output_prompt">
    Out[5]:</div>
<div class="box-flex1 output_subarea output_pyout">


<pre>
a    1.5
b    5.0
c   -5.0
d    4.0
e    2.0
dtype: float64
</pre>

</div>
</div>

</div>
</div>

</div>
<div class="cell border-box-sizing code_cell vbox">
<div class="input hbox">
<div class="prompt input_prompt">
In&nbsp;[6]:
</div>
<div class="input_area box-flex1">
<div class="highlight"><pre><span class="n">s2</span><span class="o">.</span><span class="n">index</span>
</pre></div>

</div>
</div>

<div class="vbox output_wrapper">
<div class="output vbox">


<div class="hbox output_area"><div class="prompt output_prompt">
    Out[6]:</div>
<div class="box-flex1 output_subarea output_pyout">


<pre>
Index([a, b, c, d, e], dtype=object)
</pre>

</div>
</div>

</div>
</div>

</div>
<div class="cell border-box-sizing code_cell vbox">
<div class="input hbox">
<div class="prompt input_prompt">
In&nbsp;[7]:
</div>
<div class="input_area box-flex1">
<div class="highlight"><pre><span class="n">s2</span><span class="o">.</span><span class="n">index</span><span class="p">[</span><span class="mi">0</span><span class="p">]</span>
</pre></div>

</div>
</div>

<div class="vbox output_wrapper">
<div class="output vbox">


<div class="hbox output_area"><div class="prompt output_prompt">
    Out[7]:</div>
<div class="box-flex1 output_subarea output_pyout">


<pre>
&apos;a&apos;
</pre>

</div>
</div>

</div>
</div>

</div>
<div class="cell border-box-sizing code_cell vbox">
<div class="input hbox">
<div class="prompt input_prompt">
In&nbsp;[8]:
</div>
<div class="input_area box-flex1">
<div class="highlight"><pre><span class="n">s2</span><span class="p">[</span><span class="mi">2</span><span class="p">]</span>
</pre></div>

</div>
</div>

<div class="vbox output_wrapper">
<div class="output vbox">


<div class="hbox output_area"><div class="prompt output_prompt">
    Out[8]:</div>
<div class="box-flex1 output_subarea output_pyout">


<pre>
-5.0
</pre>

</div>
</div>

</div>
</div>

</div>
<div class="cell border-box-sizing code_cell vbox">
<div class="input hbox">
<div class="prompt input_prompt">
In&nbsp;[9]:
</div>
<div class="input_area box-flex1">
<div class="highlight"><pre><span class="n">s2</span><span class="p">[</span><span class="s">&#39;c&#39;</span><span class="p">]</span>
</pre></div>

</div>
</div>

<div class="vbox output_wrapper">
<div class="output vbox">


<div class="hbox output_area"><div class="prompt output_prompt">
    Out[9]:</div>
<div class="box-flex1 output_subarea output_pyout">


<pre>
-5.0
</pre>

</div>
</div>

</div>
</div>

</div>
<div class="cell border-box-sizing code_cell vbox">
<div class="input hbox">
<div class="prompt input_prompt">
In&nbsp;[10]:
</div>
<div class="input_area box-flex1">
<div class="highlight"><pre><span class="n">s2</span><span class="p">[:</span><span class="mi">3</span><span class="p">]</span>
</pre></div>

</div>
</div>

<div class="vbox output_wrapper">
<div class="output vbox">


<div class="hbox output_area"><div class="prompt output_prompt">
    Out[10]:</div>
<div class="box-flex1 output_subarea output_pyout">


<pre>
a    1.5
b    5.0
c   -5.0
dtype: float64
</pre>

</div>
</div>

</div>
</div>

</div>
<div class="cell border-box-sizing code_cell vbox">
<div class="input hbox">
<div class="prompt input_prompt">
In&nbsp;[11]:
</div>
<div class="input_area box-flex1">
<div class="highlight"><pre><span class="n">s2</span><span class="p">[[</span><span class="s">&#39;a&#39;</span><span class="p">,</span> <span class="s">&#39;c&#39;</span><span class="p">,</span> <span class="s">&#39;d&#39;</span><span class="p">]]</span>
</pre></div>

</div>
</div>

<div class="vbox output_wrapper">
<div class="output vbox">


<div class="hbox output_area"><div class="prompt output_prompt">
    Out[11]:</div>
<div class="box-flex1 output_subarea output_pyout">


<pre>
a    1.5
c   -5.0
d    4.0
dtype: float64
</pre>

</div>
</div>

</div>
</div>

</div>
<div class="cell border-box-sizing code_cell vbox">
<div class="input hbox">
<div class="prompt input_prompt">
In&nbsp;[12]:
</div>
<div class="input_area box-flex1">
<div class="highlight"><pre><span class="c"># missing data</span>
<span class="n">s2</span><span class="p">[[</span><span class="s">&#39;a&#39;</span><span class="p">,</span> <span class="s">&#39;c&#39;</span><span class="p">,</span> <span class="s">&#39;d&#39;</span><span class="p">,</span> <span class="s">&#39;f&#39;</span><span class="p">]]</span>
</pre></div>

</div>
</div>

<div class="vbox output_wrapper">
<div class="output vbox">


<div class="hbox output_area"><div class="prompt output_prompt">
    Out[12]:</div>
<div class="box-flex1 output_subarea output_pyout">


<pre>
a    1.5
c   -5.0
d    4.0
f    NaN
dtype: float64
</pre>

</div>
</div>

</div>
</div>

</div>
<div class="cell border-box-sizing code_cell vbox">
<div class="input hbox">
<div class="prompt input_prompt">
In&nbsp;[13]:
</div>
<div class="input_area box-flex1">
<div class="highlight"><pre><span class="n">s3</span> <span class="o">=</span> <span class="n">s2</span><span class="p">[[</span><span class="s">&#39;a&#39;</span><span class="p">,</span> <span class="s">&#39;c&#39;</span><span class="p">,</span> <span class="s">&#39;d&#39;</span><span class="p">,</span> <span class="s">&#39;f&#39;</span><span class="p">]]</span>
<span class="n">s3</span><span class="p">[</span><span class="n">s3</span><span class="o">.</span><span class="n">isnull</span><span class="p">()]</span>
</pre></div>

</div>
</div>

<div class="vbox output_wrapper">
<div class="output vbox">


<div class="hbox output_area"><div class="prompt output_prompt">
    Out[13]:</div>
<div class="box-flex1 output_subarea output_pyout">


<pre>
f   NaN
dtype: float64
</pre>

</div>
</div>

</div>
</div>

</div>
<div class="cell border-box-sizing code_cell vbox">
<div class="input hbox">
<div class="prompt input_prompt">
In&nbsp;[14]:
</div>
<div class="input_area box-flex1">
<div class="highlight"><pre><span class="n">s3</span><span class="p">[</span><span class="n">s3</span><span class="o">.</span><span class="n">notnull</span><span class="p">()]</span>
</pre></div>

</div>
</div>

<div class="vbox output_wrapper">
<div class="output vbox">


<div class="hbox output_area"><div class="prompt output_prompt">
    Out[14]:</div>
<div class="box-flex1 output_subarea output_pyout">


<pre>
a    1.5
c   -5.0
d    4.0
dtype: float64
</pre>

</div>
</div>

</div>
</div>

</div>
<div class="cell border-box-sizing code_cell vbox">
<div class="input hbox">
<div class="prompt input_prompt">
In&nbsp;[15]:
</div>
<div class="input_area box-flex1">
<div class="highlight"><pre><span class="n">s3</span><span class="o">.</span><span class="n">dropna</span><span class="p">()</span>
</pre></div>

</div>
</div>

<div class="vbox output_wrapper">
<div class="output vbox">


<div class="hbox output_area"><div class="prompt output_prompt">
    Out[15]:</div>
<div class="box-flex1 output_subarea output_pyout">


<pre>
a    1.5
c   -5.0
d    4.0
dtype: float64
</pre>

</div>
</div>

</div>
</div>

</div>
<div class="cell border-box-sizing code_cell vbox">
<div class="input hbox">
<div class="prompt input_prompt">
In&nbsp;[16]:
</div>
<div class="input_area box-flex1">
<div class="highlight"><pre><span class="n">s3</span><span class="o">.</span><span class="n">fillna</span><span class="p">(</span><span class="mi">0</span><span class="p">)</span>
</pre></div>

</div>
</div>

<div class="vbox output_wrapper">
<div class="output vbox">


<div class="hbox output_area"><div class="prompt output_prompt">
    Out[16]:</div>
<div class="box-flex1 output_subarea output_pyout">


<pre>
a    1.5
c   -5.0
d    4.0
f    0.0
dtype: float64
</pre>

</div>
</div>

</div>
</div>

</div>
<div class="cell border-box-sizing code_cell vbox">
<div class="input hbox">
<div class="prompt input_prompt">
In&nbsp;[17]:
</div>
<div class="input_area box-flex1">
<div class="highlight"><pre><span class="n">s3</span><span class="o">.</span><span class="n">mean</span><span class="p">()</span>
</pre></div>

</div>
</div>

<div class="vbox output_wrapper">
<div class="output vbox">


<div class="hbox output_area"><div class="prompt output_prompt">
    Out[17]:</div>
<div class="box-flex1 output_subarea output_pyout">


<pre>
0.16666666666666666
</pre>

</div>
</div>

</div>
</div>

</div>
<div class="cell border-box-sizing code_cell vbox">
<div class="input hbox">
<div class="prompt input_prompt">
In&nbsp;[18]:
</div>
<div class="input_area box-flex1">
<div class="highlight"><pre><span class="n">s3</span><span class="o">.</span><span class="n">fillna</span><span class="p">(</span><span class="n">s3</span><span class="o">.</span><span class="n">mean</span><span class="p">())</span>
</pre></div>

</div>
</div>

<div class="vbox output_wrapper">
<div class="output vbox">


<div class="hbox output_area"><div class="prompt output_prompt">
    Out[18]:</div>
<div class="box-flex1 output_subarea output_pyout">


<pre>
a    1.500000
c   -5.000000
d    4.000000
f    0.166667
dtype: float64
</pre>

</div>
</div>

</div>
</div>

</div>
<div class="cell border-box-sizing code_cell vbox">
<div class="input hbox">
<div class="prompt input_prompt">
In&nbsp;[19]:
</div>
<div class="input_area box-flex1">
<div class="highlight"><pre><span class="n">data</span> <span class="o">=</span> <span class="p">{</span>
  <span class="s">&#39;two&#39;</span><span class="p">:</span> <span class="n">s2</span><span class="p">,</span>
  <span class="s">&#39;three&#39;</span><span class="p">:</span> <span class="n">s3</span><span class="o">.</span><span class="n">fillna</span><span class="p">(</span><span class="n">s3</span><span class="o">.</span><span class="n">mean</span><span class="p">())</span>
<span class="p">}</span>

<span class="n">df</span> <span class="o">=</span> <span class="n">pd</span><span class="o">.</span><span class="n">DataFrame</span><span class="p">(</span><span class="n">data</span><span class="p">)</span>
<span class="n">df</span>
</pre></div>

</div>
</div>

<div class="vbox output_wrapper">
<div class="output vbox">


<div class="hbox output_area"><div class="prompt output_prompt">
    Out[19]:</div>
<div class="box-flex1 output_subarea output_pyout">

<div class="output_html rendered_html">
<div style="max-height:1000px;max-width:1500px;overflow:auto;">
<table border="1" class="dataframe">
  <thead>
    <tr style="text-align: right;">
      <th></th>
      <th>three</th>
      <th>two</th>
    </tr>
  </thead>
  <tbody>
    <tr>
      <th>a</th>
      <td> 1.500000</td>
      <td> 1.5</td>
    </tr>
    <tr>
      <th>b</th>
      <td>      NaN</td>
      <td> 5.0</td>
    </tr>
    <tr>
      <th>c</th>
      <td>-5.000000</td>
      <td>-5.0</td>
    </tr>
    <tr>
      <th>d</th>
      <td> 4.000000</td>
      <td> 4.0</td>
    </tr>
    <tr>
      <th>e</th>
      <td>      NaN</td>
      <td> 2.0</td>
    </tr>
    <tr>
      <th>f</th>
      <td> 0.166667</td>
      <td> NaN</td>
    </tr>
  </tbody>
</table>
</div>
</div>

</div>
</div>

</div>
</div>

</div>
<div class="cell border-box-sizing code_cell vbox">
<div class="input hbox">
<div class="prompt input_prompt">
In&nbsp;[20]:
</div>
<div class="input_area box-flex1">
<div class="highlight"><pre><span class="n">df</span><span class="o">.</span><span class="n">index</span><span class="o">.</span><span class="n">name</span> <span class="o">=</span> <span class="s">&#39;edition&#39;</span>
<span class="n">df</span><span class="o">.</span><span class="n">columns</span><span class="o">.</span><span class="n">name</span> <span class="o">=</span> <span class="s">&#39;number&#39;</span>
<span class="n">df</span>
</pre></div>

</div>
</div>

<div class="vbox output_wrapper">
<div class="output vbox">


<div class="hbox output_area"><div class="prompt output_prompt">
    Out[20]:</div>
<div class="box-flex1 output_subarea output_pyout">

<div class="output_html rendered_html">
<div style="max-height:1000px;max-width:1500px;overflow:auto;">
<table border="1" class="dataframe">
  <thead>
    <tr style="text-align: right;">
      <th>number</th>
      <th>three</th>
      <th>two</th>
    </tr>
    <tr>
      <th>edition</th>
      <th></th>
      <th></th>
    </tr>
  </thead>
  <tbody>
    <tr>
      <th>a</th>
      <td> 1.500000</td>
      <td> 1.5</td>
    </tr>
    <tr>
      <th>b</th>
      <td>      NaN</td>
      <td> 5.0</td>
    </tr>
    <tr>
      <th>c</th>
      <td>-5.000000</td>
      <td>-5.0</td>
    </tr>
    <tr>
      <th>d</th>
      <td> 4.000000</td>
      <td> 4.0</td>
    </tr>
    <tr>
      <th>e</th>
      <td>      NaN</td>
      <td> 2.0</td>
    </tr>
    <tr>
      <th>f</th>
      <td> 0.166667</td>
      <td> NaN</td>
    </tr>
  </tbody>
</table>
</div>
</div>

</div>
</div>

</div>
</div>

</div>
<div class="cell border-box-sizing code_cell vbox">
<div class="input hbox">
<div class="prompt input_prompt">
In&nbsp;[21]:
</div>
<div class="input_area box-flex1">
<div class="highlight"><pre><span class="n">np</span><span class="o">.</span><span class="n">set_printoptions</span><span class="p">(</span><span class="n">precision</span><span class="o">=</span><span class="mi">4</span><span class="p">)</span>
<span class="n">np</span><span class="o">.</span><span class="n">random</span><span class="o">.</span><span class="n">randn</span><span class="p">(</span><span class="mi">5</span><span class="p">,</span> <span class="mi">3</span><span class="p">)</span><span class="o">.</span><span class="n">T</span>
</pre></div>

</div>
</div>

<div class="vbox output_wrapper">
<div class="output vbox">


<div class="hbox output_area"><div class="prompt output_prompt">
    Out[21]:</div>
<div class="box-flex1 output_subarea output_pyout">


<pre>
array([[-0.5463, -0.3112, -0.9632,  1.8207,  2.6747],
       [ 0.3955,  0.8636, -0.0378, -0.3928, -0.4491],
       [-0.4356,  0.9094, -0.9029, -2.0247,  0.2625]])
</pre>

</div>
</div>

</div>
</div>

</div>
<div class="cell border-box-sizing code_cell vbox">
<div class="input hbox">
<div class="prompt input_prompt">
In&nbsp;[22]:
</div>
<div class="input_area box-flex1">
<div class="highlight"><pre><span class="n">df</span><span class="o">.</span><span class="n">T</span>
</pre></div>

</div>
</div>

<div class="vbox output_wrapper">
<div class="output vbox">


<div class="hbox output_area"><div class="prompt output_prompt">
    Out[22]:</div>
<div class="box-flex1 output_subarea output_pyout">

<div class="output_html rendered_html">
<div style="max-height:1000px;max-width:1500px;overflow:auto;">
<table border="1" class="dataframe">
  <thead>
    <tr style="text-align: right;">
      <th>edition</th>
      <th>a</th>
      <th>b</th>
      <th>c</th>
      <th>d</th>
      <th>e</th>
      <th>f</th>
    </tr>
    <tr>
      <th>number</th>
      <th></th>
      <th></th>
      <th></th>
      <th></th>
      <th></th>
      <th></th>
    </tr>
  </thead>
  <tbody>
    <tr>
      <th>three</th>
      <td> 1.5</td>
      <td>NaN</td>
      <td>-5</td>
      <td> 4</td>
      <td>NaN</td>
      <td> 0.166667</td>
    </tr>
    <tr>
      <th>two</th>
      <td> 1.5</td>
      <td>  5</td>
      <td>-5</td>
      <td> 4</td>
      <td>  2</td>
      <td>      NaN</td>
    </tr>
  </tbody>
</table>
</div>
</div>

</div>
</div>

</div>
</div>

</div>
<div class="cell border-box-sizing code_cell vbox">
<div class="input hbox">
<div class="prompt input_prompt">
In&nbsp;[23]:
</div>
<div class="input_area box-flex1">
<div class="highlight"><pre><span class="n">df</span><span class="p">[</span><span class="s">&#39;three&#39;</span><span class="p">]</span>
</pre></div>

</div>
</div>

<div class="vbox output_wrapper">
<div class="output vbox">


<div class="hbox output_area"><div class="prompt output_prompt">
    Out[23]:</div>
<div class="box-flex1 output_subarea output_pyout">


<pre>
edition
a          1.500000
b               NaN
c         -5.000000
d          4.000000
e               NaN
f          0.166667
Name: three, dtype: float64
</pre>

</div>
</div>

</div>
</div>

</div>
<div class="cell border-box-sizing code_cell vbox">
<div class="input hbox">
<div class="prompt input_prompt">
In&nbsp;[24]:
</div>
<div class="input_area box-flex1">
<div class="highlight"><pre><span class="n">df</span>
</pre></div>

</div>
</div>

<div class="vbox output_wrapper">
<div class="output vbox">


<div class="hbox output_area"><div class="prompt output_prompt">
    Out[24]:</div>
<div class="box-flex1 output_subarea output_pyout">

<div class="output_html rendered_html">
<div style="max-height:1000px;max-width:1500px;overflow:auto;">
<table border="1" class="dataframe">
  <thead>
    <tr style="text-align: right;">
      <th>number</th>
      <th>three</th>
      <th>two</th>
    </tr>
    <tr>
      <th>edition</th>
      <th></th>
      <th></th>
    </tr>
  </thead>
  <tbody>
    <tr>
      <th>a</th>
      <td> 1.500000</td>
      <td> 1.5</td>
    </tr>
    <tr>
      <th>b</th>
      <td>      NaN</td>
      <td> 5.0</td>
    </tr>
    <tr>
      <th>c</th>
      <td>-5.000000</td>
      <td>-5.0</td>
    </tr>
    <tr>
      <th>d</th>
      <td> 4.000000</td>
      <td> 4.0</td>
    </tr>
    <tr>
      <th>e</th>
      <td>      NaN</td>
      <td> 2.0</td>
    </tr>
    <tr>
      <th>f</th>
      <td> 0.166667</td>
      <td> NaN</td>
    </tr>
  </tbody>
</table>
</div>
</div>

</div>
</div>

</div>
</div>

</div>
<div class="cell border-box-sizing code_cell vbox">
<div class="input hbox">
<div class="prompt input_prompt">
In&nbsp;[25]:
</div>
<div class="input_area box-flex1">
<div class="highlight"><pre><span class="n">df2</span> <span class="o">=</span> <span class="n">pd</span><span class="o">.</span><span class="n">DataFrame</span><span class="p">(</span><span class="n">data</span><span class="p">,</span> <span class="n">columns</span><span class="o">=</span><span class="p">[</span><span class="s">&#39;one&#39;</span><span class="p">,</span> <span class="s">&#39;two&#39;</span><span class="p">,</span> <span class="s">&#39;three&#39;</span><span class="p">])</span>
<span class="n">df2</span>
</pre></div>

</div>
</div>

<div class="vbox output_wrapper">
<div class="output vbox">


<div class="hbox output_area"><div class="prompt output_prompt">
    Out[25]:</div>
<div class="box-flex1 output_subarea output_pyout">

<div class="output_html rendered_html">
<div style="max-height:1000px;max-width:1500px;overflow:auto;">
<table border="1" class="dataframe">
  <thead>
    <tr style="text-align: right;">
      <th></th>
      <th>one</th>
      <th>two</th>
      <th>three</th>
    </tr>
  </thead>
  <tbody>
    <tr>
      <th>a</th>
      <td> NaN</td>
      <td> 1.5</td>
      <td> 1.500000</td>
    </tr>
    <tr>
      <th>b</th>
      <td> NaN</td>
      <td> 5.0</td>
      <td>      NaN</td>
    </tr>
    <tr>
      <th>c</th>
      <td> NaN</td>
      <td>-5.0</td>
      <td>-5.000000</td>
    </tr>
    <tr>
      <th>d</th>
      <td> NaN</td>
      <td> 4.0</td>
      <td> 4.000000</td>
    </tr>
    <tr>
      <th>e</th>
      <td> NaN</td>
      <td> 2.0</td>
      <td>      NaN</td>
    </tr>
    <tr>
      <th>f</th>
      <td> NaN</td>
      <td> NaN</td>
      <td> 0.166667</td>
    </tr>
  </tbody>
</table>
</div>
</div>

</div>
</div>

</div>
</div>

</div>
<div class="cell border-box-sizing code_cell vbox">
<div class="input hbox">
<div class="prompt input_prompt">
In&nbsp;[26]:
</div>
<div class="input_area box-flex1">
<div class="highlight"><pre><span class="n">df</span>
</pre></div>

</div>
</div>

<div class="vbox output_wrapper">
<div class="output vbox">


<div class="hbox output_area"><div class="prompt output_prompt">
    Out[26]:</div>
<div class="box-flex1 output_subarea output_pyout">

<div class="output_html rendered_html">
<div style="max-height:1000px;max-width:1500px;overflow:auto;">
<table border="1" class="dataframe">
  <thead>
    <tr style="text-align: right;">
      <th>number</th>
      <th>three</th>
      <th>two</th>
    </tr>
    <tr>
      <th>edition</th>
      <th></th>
      <th></th>
    </tr>
  </thead>
  <tbody>
    <tr>
      <th>a</th>
      <td> 1.500000</td>
      <td> 1.5</td>
    </tr>
    <tr>
      <th>b</th>
      <td>      NaN</td>
      <td> 5.0</td>
    </tr>
    <tr>
      <th>c</th>
      <td>-5.000000</td>
      <td>-5.0</td>
    </tr>
    <tr>
      <th>d</th>
      <td> 4.000000</td>
      <td> 4.0</td>
    </tr>
    <tr>
      <th>e</th>
      <td>      NaN</td>
      <td> 2.0</td>
    </tr>
    <tr>
      <th>f</th>
      <td> 0.166667</td>
      <td> NaN</td>
    </tr>
  </tbody>
</table>
</div>
</div>

</div>
</div>

</div>
</div>

</div>
<div class="cell border-box-sizing code_cell vbox">
<div class="input hbox">
<div class="prompt input_prompt">
In&nbsp;[27]:
</div>
<div class="input_area box-flex1">
<div class="highlight"><pre><span class="n">df</span><span class="p">[[</span><span class="s">&#39;two&#39;</span><span class="p">,</span> <span class="s">&#39;three&#39;</span><span class="p">]]</span>
</pre></div>

</div>
</div>

<div class="vbox output_wrapper">
<div class="output vbox">


<div class="hbox output_area"><div class="prompt output_prompt">
    Out[27]:</div>
<div class="box-flex1 output_subarea output_pyout">

<div class="output_html rendered_html">
<div style="max-height:1000px;max-width:1500px;overflow:auto;">
<table border="1" class="dataframe">
  <thead>
    <tr style="text-align: right;">
      <th>number</th>
      <th>two</th>
      <th>three</th>
    </tr>
    <tr>
      <th>edition</th>
      <th></th>
      <th></th>
    </tr>
  </thead>
  <tbody>
    <tr>
      <th>a</th>
      <td> 1.5</td>
      <td> 1.500000</td>
    </tr>
    <tr>
      <th>b</th>
      <td> 5.0</td>
      <td>      NaN</td>
    </tr>
    <tr>
      <th>c</th>
      <td>-5.0</td>
      <td>-5.000000</td>
    </tr>
    <tr>
      <th>d</th>
      <td> 4.0</td>
      <td> 4.000000</td>
    </tr>
    <tr>
      <th>e</th>
      <td> 2.0</td>
      <td>      NaN</td>
    </tr>
    <tr>
      <th>f</th>
      <td> NaN</td>
      <td> 0.166667</td>
    </tr>
  </tbody>
</table>
</div>
</div>

</div>
</div>

</div>
</div>

</div>
<div class="cell border-box-sizing code_cell vbox">
<div class="input hbox">
<div class="prompt input_prompt">
In&nbsp;[28]:
</div>
<div class="input_area box-flex1">
<div class="highlight"><pre><span class="n">df</span><span class="o">.</span><span class="n">ix</span><span class="p">[</span><span class="s">&#39;c&#39;</span><span class="p">]</span>
</pre></div>

</div>
</div>

<div class="vbox output_wrapper">
<div class="output vbox">


<div class="hbox output_area"><div class="prompt output_prompt">
    Out[28]:</div>
<div class="box-flex1 output_subarea output_pyout">


<pre>
number
three    -5
two      -5
Name: c, dtype: float64
</pre>

</div>
</div>

</div>
</div>

</div>
<div class="cell border-box-sizing code_cell vbox">
<div class="input hbox">
<div class="prompt input_prompt">
In&nbsp;[29]:
</div>
<div class="input_area box-flex1">
<div class="highlight"><pre><span class="n">df</span><span class="o">.</span><span class="n">ix</span><span class="p">[</span><span class="s">&#39;c&#39;</span><span class="p">:]</span>
</pre></div>

</div>
</div>

<div class="vbox output_wrapper">
<div class="output vbox">


<div class="hbox output_area"><div class="prompt output_prompt">
    Out[29]:</div>
<div class="box-flex1 output_subarea output_pyout">

<div class="output_html rendered_html">
<div style="max-height:1000px;max-width:1500px;overflow:auto;">
<table border="1" class="dataframe">
  <thead>
    <tr style="text-align: right;">
      <th>number</th>
      <th>three</th>
      <th>two</th>
    </tr>
    <tr>
      <th>edition</th>
      <th></th>
      <th></th>
    </tr>
  </thead>
  <tbody>
    <tr>
      <th>c</th>
      <td>-5.000000</td>
      <td> -5</td>
    </tr>
    <tr>
      <th>d</th>
      <td> 4.000000</td>
      <td>  4</td>
    </tr>
    <tr>
      <th>e</th>
      <td>      NaN</td>
      <td>  2</td>
    </tr>
    <tr>
      <th>f</th>
      <td> 0.166667</td>
      <td>NaN</td>
    </tr>
  </tbody>
</table>
</div>
</div>

</div>
</div>

</div>
</div>

</div>
<div class="cell border-box-sizing code_cell vbox">
<div class="input hbox">
<div class="prompt input_prompt">
In&nbsp;[30]:
</div>
<div class="input_area box-flex1">
<div class="highlight"><pre><span class="n">df</span><span class="o">.</span><span class="n">ix</span><span class="p">[[</span><span class="s">&#39;c&#39;</span><span class="p">,</span> <span class="s">&#39;e&#39;</span><span class="p">]]</span>
</pre></div>

</div>
</div>

<div class="vbox output_wrapper">
<div class="output vbox">


<div class="hbox output_area"><div class="prompt output_prompt">
    Out[30]:</div>
<div class="box-flex1 output_subarea output_pyout">

<div class="output_html rendered_html">
<div style="max-height:1000px;max-width:1500px;overflow:auto;">
<table border="1" class="dataframe">
  <thead>
    <tr style="text-align: right;">
      <th>number</th>
      <th>three</th>
      <th>two</th>
    </tr>
  </thead>
  <tbody>
    <tr>
      <th>c</th>
      <td> -5</td>
      <td>-5</td>
    </tr>
    <tr>
      <th>e</th>
      <td>NaN</td>
      <td> 2</td>
    </tr>
  </tbody>
</table>
</div>
</div>

</div>
</div>

</div>
</div>

</div>
<div class="cell border-box-sizing code_cell vbox">
<div class="input hbox">
<div class="prompt input_prompt">
In&nbsp;[31]:
</div>
<div class="input_area box-flex1">
<div class="highlight"><pre><span class="n">df</span><span class="o">.</span><span class="n">ix</span><span class="p">[[</span><span class="s">&#39;c&#39;</span><span class="p">,</span> <span class="s">&#39;e&#39;</span><span class="p">],</span> <span class="s">&#39;three&#39;</span><span class="p">]</span>
</pre></div>

</div>
</div>

<div class="vbox output_wrapper">
<div class="output vbox">


<div class="hbox output_area"><div class="prompt output_prompt">
    Out[31]:</div>
<div class="box-flex1 output_subarea output_pyout">


<pre>
c    -5
e   NaN
Name: three, dtype: float64
</pre>

</div>
</div>

</div>
</div>

</div>
<div class="cell border-box-sizing code_cell vbox">
<div class="input hbox">
<div class="prompt input_prompt">
In&nbsp;[32]:
</div>
<div class="input_area box-flex1">
<div class="highlight"><pre><span class="n">df</span><span class="o">.</span><span class="n">ix</span><span class="p">[[</span><span class="s">&#39;c&#39;</span><span class="p">,</span> <span class="s">&#39;e&#39;</span><span class="p">],</span> <span class="p">[</span><span class="s">&#39;two&#39;</span><span class="p">,</span> <span class="s">&#39;three&#39;</span><span class="p">]]</span>
</pre></div>

</div>
</div>

<div class="vbox output_wrapper">
<div class="output vbox">


<div class="hbox output_area"><div class="prompt output_prompt">
    Out[32]:</div>
<div class="box-flex1 output_subarea output_pyout">

<div class="output_html rendered_html">
<div style="max-height:1000px;max-width:1500px;overflow:auto;">
<table border="1" class="dataframe">
  <thead>
    <tr style="text-align: right;">
      <th></th>
      <th>two</th>
      <th>three</th>
    </tr>
  </thead>
  <tbody>
    <tr>
      <th>c</th>
      <td>-5</td>
      <td> -5</td>
    </tr>
    <tr>
      <th>e</th>
      <td> 2</td>
      <td>NaN</td>
    </tr>
  </tbody>
</table>
</div>
</div>

</div>
</div>

</div>
</div>

</div>
<div class="cell border-box-sizing code_cell vbox">
<div class="input hbox">
<div class="prompt input_prompt">
In&nbsp;[33]:
</div>
<div class="input_area box-flex1">
<div class="highlight"><pre><span class="n">df</span><span class="p">[</span><span class="s">&#39;four&#39;</span><span class="p">]</span> <span class="o">=</span> <span class="n">df</span><span class="p">[</span><span class="s">&#39;two&#39;</span><span class="p">]</span> <span class="o">*</span> <span class="mi">2</span>
<span class="n">df</span>
</pre></div>

</div>
</div>

<div class="vbox output_wrapper">
<div class="output vbox">


<div class="hbox output_area"><div class="prompt output_prompt">
    Out[33]:</div>
<div class="box-flex1 output_subarea output_pyout">

<div class="output_html rendered_html">
<div style="max-height:1000px;max-width:1500px;overflow:auto;">
<table border="1" class="dataframe">
  <thead>
    <tr style="text-align: right;">
      <th>number</th>
      <th>three</th>
      <th>two</th>
      <th>four</th>
    </tr>
    <tr>
      <th>edition</th>
      <th></th>
      <th></th>
      <th></th>
    </tr>
  </thead>
  <tbody>
    <tr>
      <th>a</th>
      <td> 1.500000</td>
      <td> 1.5</td>
      <td>  3</td>
    </tr>
    <tr>
      <th>b</th>
      <td>      NaN</td>
      <td> 5.0</td>
      <td> 10</td>
    </tr>
    <tr>
      <th>c</th>
      <td>-5.000000</td>
      <td>-5.0</td>
      <td>-10</td>
    </tr>
    <tr>
      <th>d</th>
      <td> 4.000000</td>
      <td> 4.0</td>
      <td>  8</td>
    </tr>
    <tr>
      <th>e</th>
      <td>      NaN</td>
      <td> 2.0</td>
      <td>  4</td>
    </tr>
    <tr>
      <th>f</th>
      <td> 0.166667</td>
      <td> NaN</td>
      <td>NaN</td>
    </tr>
  </tbody>
</table>
</div>
</div>

</div>
</div>

</div>
</div>

</div>
<div class="cell border-box-sizing code_cell vbox">
<div class="input hbox">
<div class="prompt input_prompt">
In&nbsp;[34]:
</div>
<div class="input_area box-flex1">
<div class="highlight"><pre><span class="k">del</span> <span class="n">df</span><span class="p">[</span><span class="s">&#39;four&#39;</span><span class="p">]</span>
<span class="n">df</span>
</pre></div>

</div>
</div>

<div class="vbox output_wrapper">
<div class="output vbox">


<div class="hbox output_area"><div class="prompt output_prompt">
    Out[34]:</div>
<div class="box-flex1 output_subarea output_pyout">

<div class="output_html rendered_html">
<div style="max-height:1000px;max-width:1500px;overflow:auto;">
<table border="1" class="dataframe">
  <thead>
    <tr style="text-align: right;">
      <th></th>
      <th>three</th>
      <th>two</th>
    </tr>
    <tr>
      <th>edition</th>
      <th></th>
      <th></th>
    </tr>
  </thead>
  <tbody>
    <tr>
      <th>a</th>
      <td> 1.500000</td>
      <td> 1.5</td>
    </tr>
    <tr>
      <th>b</th>
      <td>      NaN</td>
      <td> 5.0</td>
    </tr>
    <tr>
      <th>c</th>
      <td>-5.000000</td>
      <td>-5.0</td>
    </tr>
    <tr>
      <th>d</th>
      <td> 4.000000</td>
      <td> 4.0</td>
    </tr>
    <tr>
      <th>e</th>
      <td>      NaN</td>
      <td> 2.0</td>
    </tr>
    <tr>
      <th>f</th>
      <td> 0.166667</td>
      <td> NaN</td>
    </tr>
  </tbody>
</table>
</div>
</div>

</div>
</div>

</div>
</div>

</div>
<div class="cell border-box-sizing code_cell vbox">
<div class="input hbox">
<div class="prompt input_prompt">
In&nbsp;[35]:
</div>
<div class="input_area box-flex1">
<div class="highlight"><pre><span class="n">df</span><span class="o">.</span><span class="n">three</span>
</pre></div>

</div>
</div>

<div class="vbox output_wrapper">
<div class="output vbox">


<div class="hbox output_area"><div class="prompt output_prompt">
    Out[35]:</div>
<div class="box-flex1 output_subarea output_pyout">


<pre>
edition
a          1.500000
b               NaN
c         -5.000000
d          4.000000
e               NaN
f          0.166667
Name: three, dtype: float64
</pre>

</div>
</div>

</div>
</div>

</div>
<div class="cell border-box-sizing code_cell vbox">
<div class="input hbox">
<div class="prompt input_prompt">
In&nbsp;[36]:
</div>
<div class="input_area box-flex1">
<div class="highlight"><pre><span class="n">df</span><span class="p">[</span><span class="s">&#39;three&#39;</span><span class="p">]</span>
</pre></div>

</div>
</div>

<div class="vbox output_wrapper">
<div class="output vbox">


<div class="hbox output_area"><div class="prompt output_prompt">
    Out[36]:</div>
<div class="box-flex1 output_subarea output_pyout">


<pre>
edition
a          1.500000
b               NaN
c         -5.000000
d          4.000000
e               NaN
f          0.166667
Name: three, dtype: float64
</pre>

</div>
</div>

</div>
</div>

</div>
<div class="cell border-box-sizing code_cell vbox">
<div class="input hbox">
<div class="prompt input_prompt">
In&nbsp;[37]:
</div>
<div class="input_area box-flex1">
<div class="highlight"><pre><span class="n">df</span><span class="p">[</span><span class="s">&#39;index&#39;</span><span class="p">]</span> <span class="o">=</span> <span class="mi">0</span>
<span class="n">df</span>
</pre></div>

</div>
</div>

<div class="vbox output_wrapper">
<div class="output vbox">


<div class="hbox output_area"><div class="prompt output_prompt">
    Out[37]:</div>
<div class="box-flex1 output_subarea output_pyout">

<div class="output_html rendered_html">
<div style="max-height:1000px;max-width:1500px;overflow:auto;">
<table border="1" class="dataframe">
  <thead>
    <tr style="text-align: right;">
      <th></th>
      <th>three</th>
      <th>two</th>
      <th>index</th>
    </tr>
    <tr>
      <th>edition</th>
      <th></th>
      <th></th>
      <th></th>
    </tr>
  </thead>
  <tbody>
    <tr>
      <th>a</th>
      <td> 1.500000</td>
      <td> 1.5</td>
      <td> 0</td>
    </tr>
    <tr>
      <th>b</th>
      <td>      NaN</td>
      <td> 5.0</td>
      <td> 0</td>
    </tr>
    <tr>
      <th>c</th>
      <td>-5.000000</td>
      <td>-5.0</td>
      <td> 0</td>
    </tr>
    <tr>
      <th>d</th>
      <td> 4.000000</td>
      <td> 4.0</td>
      <td> 0</td>
    </tr>
    <tr>
      <th>e</th>
      <td>      NaN</td>
      <td> 2.0</td>
      <td> 0</td>
    </tr>
    <tr>
      <th>f</th>
      <td> 0.166667</td>
      <td> NaN</td>
      <td> 0</td>
    </tr>
  </tbody>
</table>
</div>
</div>

</div>
</div>

</div>
</div>

</div>
<div class="cell border-box-sizing code_cell vbox">
<div class="input hbox">
<div class="prompt input_prompt">
In&nbsp;[38]:
</div>
<div class="input_area box-flex1">
<div class="highlight"><pre><span class="n">df</span><span class="o">.</span><span class="n">index</span>
</pre></div>

</div>
</div>

<div class="vbox output_wrapper">
<div class="output vbox">


<div class="hbox output_area"><div class="prompt output_prompt">
    Out[38]:</div>
<div class="box-flex1 output_subarea output_pyout">


<pre>
Index([a, b, c, d, e, f], dtype=object)
</pre>

</div>
</div>

</div>
</div>

</div>
<div class="cell border-box-sizing code_cell vbox">
<div class="input hbox">
<div class="prompt input_prompt">
In&nbsp;[39]:
</div>
<div class="input_area box-flex1">
<div class="highlight"><pre><span class="o">!</span>head -n 5 PandasUsers.csv
</pre></div>

</div>
</div>

<div class="vbox output_wrapper">
<div class="output vbox">


<div class="hbox output_area"><div class="prompt"></div>
<div class="box-flex1 output_subarea output_stream output_stdout">
<pre>
Id,Reputation,CreationDate,DisplayName,LastAccessDate,WebsiteUrl,Location,AboutMe,Views,UpVotes,DownVotes,EmailHash,Age
1843099,100,2012-11-21 19:25:04,user1843099,2013-02-03 03:46:50,,,,0,16,0,17a9c54b937f8b505dcb3b0b5b34cbb6,
854739,766,2011-07-20 20:29:21,mikebmassey,2013-02-02 17:40:38,http://Itsprivate...,&quot;Charlotte, NC&quot;,&quot;&lt;p&gt;I&apos;m a analytics guy for a financial company.  Passionate about new technology.  Trying to simultaneously learn 5 different programming languages and failing at all of them...&lt;/p&gt;
&quot;,0,242,3,61af09414341715d110f08b7505fe114,35.0
1479269,472,2012-06-25 07:10:33,dmvianna,2013-01-31 10:20:43,,&quot;Melbourne, Australia&quot;,&quot;&lt;p&gt;Former neuroscientist now data analyst.&lt;/p&gt;

</pre>
</div>
</div>

</div>
</div>

</div>
<div class="cell border-box-sizing code_cell vbox">
<div class="input hbox">
<div class="prompt input_prompt">
In&nbsp;[40]:
</div>
<div class="input_area box-flex1">
<div class="highlight"><pre><span class="n">askers</span> <span class="o">=</span> <span class="n">pd</span><span class="o">.</span><span class="n">read_csv</span><span class="p">(</span><span class="s">&#39;PandasUsers.csv&#39;</span><span class="p">)</span>
<span class="n">questions</span> <span class="o">=</span> <span class="n">pd</span><span class="o">.</span><span class="n">read_csv</span><span class="p">(</span><span class="s">&#39;PandasPosts.csv&#39;</span><span class="p">)</span>
<span class="n">helpers</span> <span class="o">=</span> <span class="n">pd</span><span class="o">.</span><span class="n">read_csv</span><span class="p">(</span><span class="s">&#39;PandasAnswerers.csv&#39;</span><span class="p">)</span>
<span class="n">answers</span> <span class="o">=</span> <span class="n">pd</span><span class="o">.</span><span class="n">read_csv</span><span class="p">(</span><span class="s">&#39;PandasAnswers.csv&#39;</span><span class="p">)</span>
</pre></div>

</div>
</div>

</div>
<div class="cell border-box-sizing code_cell vbox">
<div class="input hbox">
<div class="prompt input_prompt">
In&nbsp;[41]:
</div>
<div class="input_area box-flex1">
<div class="highlight"><pre><span class="n">askers</span>
</pre></div>

</div>
</div>

<div class="vbox output_wrapper">
<div class="output vbox">


<div class="hbox output_area"><div class="prompt output_prompt">
    Out[41]:</div>
<div class="box-flex1 output_subarea output_pyout">

<div class="output_html rendered_html">
<pre>
&ltclass 'pandas.core.frame.DataFrame'&gt
Int64Index: 490 entries, 0 to 489
Data columns (total 13 columns):
Id                490  non-null values
Reputation        490  non-null values
CreationDate      490  non-null values
DisplayName       490  non-null values
LastAccessDate    490  non-null values
WebsiteUrl        81  non-null values
Location          143  non-null values
AboutMe           105  non-null values
Views             490  non-null values
UpVotes           490  non-null values
DownVotes         490  non-null values
EmailHash         490  non-null values
Age               91  non-null values
dtypes: float64(1), int64(5), object(7)
</pre>
</div>

</div>
</div>

</div>
</div>

</div>
<div class="cell border-box-sizing code_cell vbox">
<div class="input hbox">
<div class="prompt input_prompt">
In&nbsp;[42]:
</div>
<div class="input_area box-flex1">
<div class="highlight"><pre><span class="n">askers</span><span class="o">.</span><span class="n">ix</span><span class="p">[</span><span class="mi">100</span><span class="p">]</span>
</pre></div>

</div>
</div>

<div class="vbox output_wrapper">
<div class="output vbox">


<div class="hbox output_area"><div class="prompt output_prompt">
    Out[42]:</div>
<div class="box-flex1 output_subarea output_pyout">


<pre>
Id                                                 1301710
Reputation                                            3110
CreationDate                           2012-03-29 19:23:17
DisplayName                                            bmu
LastAccessDate                         2013-02-02 22:18:29
WebsiteUrl                                             NaN
Location                                               NaN
AboutMe           &lt;p&gt;My about me is currently blank.&lt;/p&gt;\n
Views                                                    0
UpVotes                                                975
DownVotes                                               38
EmailHash                 c09e91f8758f4ea83dbaa5e199ebb71a
Age                                                    NaN
Name: 100, dtype: object
</pre>

</div>
</div>

</div>
</div>

</div>
<div class="cell border-box-sizing code_cell vbox">
<div class="input hbox">
<div class="prompt input_prompt">
In&nbsp;[43]:
</div>
<div class="input_area box-flex1">
<div class="highlight"><pre><span class="n">askers</span><span class="o">.</span><span class="n">ix</span><span class="p">[</span><span class="mi">100</span><span class="p">][</span><span class="s">&#39;CreationDate&#39;</span><span class="p">]</span>
</pre></div>

</div>
</div>

<div class="vbox output_wrapper">
<div class="output vbox">


<div class="hbox output_area"><div class="prompt output_prompt">
    Out[43]:</div>
<div class="box-flex1 output_subarea output_pyout">


<pre>
&apos;2012-03-29 19:23:17&apos;
</pre>

</div>
</div>

</div>
</div>

</div>
<div class="cell border-box-sizing code_cell vbox">
<div class="input hbox">
<div class="prompt input_prompt">
In&nbsp;[44]:
</div>
<div class="input_area box-flex1">
<div class="highlight"><pre><span class="n">questions</span>
</pre></div>

</div>
</div>

<div class="vbox output_wrapper">
<div class="output vbox">


<div class="hbox output_area"><div class="prompt output_prompt">
    Out[44]:</div>
<div class="box-flex1 output_subarea output_pyout">

<div class="output_html rendered_html">
<pre>
&ltclass 'pandas.core.frame.DataFrame'&gt
Int64Index: 952 entries, 0 to 951
Data columns (total 18 columns):
Id                  952  non-null values
PostTypeId          952  non-null values
AcceptedAnswerId    656  non-null values
CreationDate        952  non-null values
Score               952  non-null values
ViewCount           952  non-null values
Body                952  non-null values
OwnerUserId         952  non-null values
OwnerDisplayName    1  non-null values
LastEditorUserId    438  non-null values
LastEditDate        438  non-null values
LastActivityDate    952  non-null values
Title               952  non-null values
Tags                952  non-null values
AnswerCount         903  non-null values
CommentCount        438  non-null values
FavoriteCount       303  non-null values
ClosedDate          21  non-null values
dtypes: float64(5), int64(5), object(8)
</pre>
</div>

</div>
</div>

</div>
</div>

</div>
<div class="cell border-box-sizing code_cell vbox">
<div class="input hbox">
<div class="prompt input_prompt">
In&nbsp;[45]:
</div>
<div class="input_area box-flex1">
<div class="highlight"><pre><span class="n">answers</span>
</pre></div>

</div>
</div>

<div class="vbox output_wrapper">
<div class="output vbox">


<div class="hbox output_area"><div class="prompt output_prompt">
    Out[45]:</div>
<div class="box-flex1 output_subarea output_pyout">

<div class="output_html rendered_html">
<pre>
&ltclass 'pandas.core.frame.DataFrame'&gt
Int64Index: 1331 entries, 0 to 1330
Data columns (total 13 columns):
Id                       1331  non-null values
PostTypeId               1331  non-null values
ParentId                 1331  non-null values
CreationDate             1331  non-null values
Score                    1331  non-null values
Body                     1331  non-null values
OwnerUserId              1329  non-null values
OwnerDisplayName         2  non-null values
LastEditorUserId         366  non-null values
LastEditorDisplayName    2  non-null values
LastEditDate             368  non-null values
LastActivityDate         1331  non-null values
CommentCount             804  non-null values
dtypes: float64(3), int64(4), object(6)
</pre>
</div>

</div>
</div>

</div>
</div>

</div>
<div class="cell border-box-sizing code_cell vbox">
<div class="input hbox">
<div class="prompt input_prompt">
In&nbsp;[46]:
</div>
<div class="input_area box-flex1">
<div class="highlight"><pre><span class="n">askers</span><span class="o">.</span><span class="n">DisplayName</span>
</pre></div>

</div>
</div>

<div class="vbox output_wrapper">
<div class="output vbox">


<div class="hbox output_area"><div class="prompt output_prompt">
    Out[46]:</div>
<div class="box-flex1 output_subarea output_pyout">


<pre>
0          user1843099
1          mikebmassey
2             dmvianna
3            ezbentley
4                Ralph
5           Evan Davey
6      Nicola Vianello
7                Roger
8                Shane
9                roysc
10                RJCL
11                 PhE
12    Martin C. Martin
13               Einar
14              javier
...
475           briant57
476        user1470604
477            cpcloud
478             mhubig
479          akiladila
480        user1246428
481             Shakti
482            PlagTag
483          user14121
484               Tony
485             GBadge
486    Skylar Saveland
487          sashkello
488        user1498485
489          A Alstone
Name: DisplayName, Length: 490, dtype: object
</pre>

</div>
</div>

</div>
</div>

</div>
<div class="cell border-box-sizing code_cell vbox">
<div class="input hbox">
<div class="prompt input_prompt">
In&nbsp;[47]:
</div>
<div class="input_area box-flex1">
<div class="highlight"><pre><span class="n">asker_count</span> <span class="o">=</span> <span class="n">askers</span><span class="o">.</span><span class="n">DisplayName</span><span class="o">.</span><span class="n">value_counts</span><span class="p">()</span>
<span class="n">helper_count</span> <span class="o">=</span> <span class="n">helpers</span><span class="o">.</span><span class="n">DisplayName</span><span class="o">.</span><span class="n">value_counts</span><span class="p">()</span>
</pre></div>

</div>
</div>

</div>
<div class="cell border-box-sizing code_cell vbox">
<div class="input hbox">
<div class="prompt input_prompt">
In&nbsp;[48]:
</div>
<div class="input_area box-flex1">
<div class="highlight"><pre><span class="n">ask_and_answer</span> <span class="o">=</span> <span class="n">asker_count</span><span class="o">.</span><span class="n">index</span><span class="o">.</span><span class="n">intersection</span><span class="p">(</span><span class="n">helper_count</span><span class="o">.</span><span class="n">index</span><span class="p">)</span>
</pre></div>

</div>
</div>

</div>
<div class="cell border-box-sizing code_cell vbox">
<div class="input hbox">
<div class="prompt input_prompt">
In&nbsp;[49]:
</div>
<div class="input_area box-flex1">
<div class="highlight"><pre><span class="nb">len</span><span class="p">(</span><span class="n">ask_and_answer</span><span class="p">)</span>
</pre></div>

</div>
</div>

<div class="vbox output_wrapper">
<div class="output vbox">


<div class="hbox output_area"><div class="prompt output_prompt">
    Out[49]:</div>
<div class="box-flex1 output_subarea output_pyout">


<pre>
118
</pre>

</div>
</div>

</div>
</div>

</div>
<div class="cell border-box-sizing code_cell vbox">
<div class="input hbox">
<div class="prompt input_prompt">
In&nbsp;[50]:
</div>
<div class="input_area box-flex1">
<div class="highlight"><pre><span class="nb">len</span><span class="p">(</span><span class="n">askers</span><span class="p">)</span>
</pre></div>

</div>
</div>

<div class="vbox output_wrapper">
<div class="output vbox">


<div class="hbox output_area"><div class="prompt output_prompt">
    Out[50]:</div>
<div class="box-flex1 output_subarea output_pyout">


<pre>
490
</pre>

</div>
</div>

</div>
</div>

</div>
<div class="cell border-box-sizing code_cell vbox">
<div class="input hbox">
<div class="prompt input_prompt">
In&nbsp;[51]:
</div>
<div class="input_area box-flex1">
<div class="highlight"><pre><span class="nb">len</span><span class="p">(</span><span class="n">helpers</span><span class="p">)</span>
</pre></div>

</div>
</div>

<div class="vbox output_wrapper">
<div class="output vbox">


<div class="hbox output_area"><div class="prompt output_prompt">
    Out[51]:</div>
<div class="box-flex1 output_subarea output_pyout">


<pre>
319
</pre>

</div>
</div>

</div>
</div>

</div>
<div class="cell border-box-sizing code_cell vbox">
<div class="input hbox">
<div class="prompt input_prompt">
In&nbsp;[52]:
</div>
<div class="input_area box-flex1">
<div class="highlight"><pre><span class="n">users</span> <span class="o">=</span> <span class="n">askers</span><span class="o">.</span><span class="n">append</span><span class="p">(</span><span class="n">helpers</span><span class="p">,</span> <span class="n">ignore_index</span><span class="o">=</span><span class="bp">True</span><span class="p">)</span>
<span class="n">users</span>
</pre></div>

</div>
</div>

<div class="vbox output_wrapper">
<div class="output vbox">


<div class="hbox output_area"><div class="prompt output_prompt">
    Out[52]:</div>
<div class="box-flex1 output_subarea output_pyout">

<div class="output_html rendered_html">
<pre>
&ltclass 'pandas.core.frame.DataFrame'&gt
Int64Index: 809 entries, 0 to 808
Data columns (total 13 columns):
Id                809  non-null values
Reputation        809  non-null values
CreationDate      809  non-null values
DisplayName       809  non-null values
LastAccessDate    809  non-null values
WebsiteUrl        195  non-null values
Location          298  non-null values
AboutMe           240  non-null values
Views             809  non-null values
UpVotes           809  non-null values
DownVotes         809  non-null values
EmailHash         809  non-null values
Age               200  non-null values
dtypes: float64(1), int64(5), object(7)
</pre>
</div>

</div>
</div>

</div>
</div>

</div>
<div class="cell border-box-sizing code_cell vbox">
<div class="input hbox">
<div class="prompt input_prompt">
In&nbsp;[53]:
</div>
<div class="input_area box-flex1">
<div class="highlight"><pre><span class="n">users</span><span class="o">.</span><span class="n">DisplayName</span><span class="o">.</span><span class="n">duplicated</span><span class="p">()</span><span class="o">.</span><span class="n">sum</span><span class="p">()</span>
</pre></div>

</div>
</div>

<div class="vbox output_wrapper">
<div class="output vbox">


<div class="hbox output_area"><div class="prompt output_prompt">
    Out[53]:</div>
<div class="box-flex1 output_subarea output_pyout">


<pre>
120
</pre>

</div>
</div>

</div>
</div>

</div>
<div class="cell border-box-sizing code_cell vbox">
<div class="input hbox">
<div class="prompt input_prompt">
In&nbsp;[54]:
</div>
<div class="input_area box-flex1">
<div class="highlight"><pre><span class="o">-</span><span class="n">users</span><span class="o">.</span><span class="n">Id</span><span class="o">.</span><span class="n">duplicated</span><span class="p">()</span>
</pre></div>

</div>
</div>

<div class="vbox output_wrapper">
<div class="output vbox">


<div class="hbox output_area"><div class="prompt output_prompt">
    Out[54]:</div>
<div class="box-flex1 output_subarea output_pyout">


<pre>
0     True
1     True
2     True
3     True
4     True
5     True
6     True
7     True
8     True
9     True
10    True
11    True
12    True
13    True
14    True
...
794     True
795     True
796    False
797     True
798     True
799     True
800     True
801     True
802     True
803     True
804     True
805    False
806     True
807    False
808     True
Name: Id, Length: 809, dtype: bool
</pre>

</div>
</div>

</div>
</div>

</div>
<div class="cell border-box-sizing code_cell vbox">
<div class="input hbox">
<div class="prompt input_prompt">
In&nbsp;[55]:
</div>
<div class="input_area box-flex1">
<div class="highlight"><pre><span class="c"># converts to distinct users</span>
<span class="n">users</span> <span class="o">=</span> <span class="n">users</span><span class="p">[</span><span class="o">-</span><span class="n">users</span><span class="o">.</span><span class="n">Id</span><span class="o">.</span><span class="n">duplicated</span><span class="p">()]</span>
</pre></div>

</div>
</div>

</div>
<div class="cell border-box-sizing code_cell vbox">
<div class="input hbox">
<div class="prompt input_prompt">
In&nbsp;[56]:
</div>
<div class="input_area box-flex1">
<div class="highlight"><pre><span class="n">askers</span> <span class="o">=</span> <span class="n">askers</span><span class="o">.</span><span class="n">set_index</span><span class="p">(</span><span class="s">&#39;Id&#39;</span><span class="p">)</span>
<span class="n">helpers</span> <span class="o">=</span> <span class="n">helpers</span><span class="o">.</span><span class="n">set_index</span><span class="p">(</span><span class="s">&#39;Id&#39;</span><span class="p">)</span>

<span class="nb">len</span><span class="p">(</span><span class="n">askers</span><span class="o">.</span><span class="n">index</span><span class="o">.</span><span class="n">intersection</span><span class="p">(</span><span class="n">helpers</span><span class="o">.</span><span class="n">index</span><span class="p">))</span>
</pre></div>

</div>
</div>

<div class="vbox output_wrapper">
<div class="output vbox">


<div class="hbox output_area"><div class="prompt output_prompt">
    Out[56]:</div>
<div class="box-flex1 output_subarea output_pyout">


<pre>
115
</pre>

</div>
</div>

</div>
</div>

</div>
<div class="cell border-box-sizing code_cell vbox">
<div class="input hbox">
<div class="prompt input_prompt">
In&nbsp;[57]:
</div>
<div class="input_area box-flex1">
<div class="highlight"><pre><span class="n">users</span>
</pre></div>

</div>
</div>

<div class="vbox output_wrapper">
<div class="output vbox">


<div class="hbox output_area"><div class="prompt output_prompt">
    Out[57]:</div>
<div class="box-flex1 output_subarea output_pyout">

<div class="output_html rendered_html">
<pre>
&ltclass 'pandas.core.frame.DataFrame'&gt
Int64Index: 694 entries, 0 to 808
Data columns (total 13 columns):
Id                694  non-null values
Reputation        694  non-null values
CreationDate      694  non-null values
DisplayName       694  non-null values
LastAccessDate    694  non-null values
WebsiteUrl        167  non-null values
Location          255  non-null values
AboutMe           202  non-null values
Views             694  non-null values
UpVotes           694  non-null values
DownVotes         694  non-null values
EmailHash         694  non-null values
Age               170  non-null values
dtypes: float64(1), int64(5), object(7)
</pre>
</div>

</div>
</div>

</div>
</div>

</div>
<div class="cell border-box-sizing code_cell vbox">
<div class="input hbox">
<div class="prompt input_prompt">
In&nbsp;[58]:
</div>
<div class="input_area box-flex1">
<div class="highlight"><pre><span class="n">questions</span>
</pre></div>

</div>
</div>

<div class="vbox output_wrapper">
<div class="output vbox">


<div class="hbox output_area"><div class="prompt output_prompt">
    Out[58]:</div>
<div class="box-flex1 output_subarea output_pyout">

<div class="output_html rendered_html">
<pre>
&ltclass 'pandas.core.frame.DataFrame'&gt
Int64Index: 952 entries, 0 to 951
Data columns (total 18 columns):
Id                  952  non-null values
PostTypeId          952  non-null values
AcceptedAnswerId    656  non-null values
CreationDate        952  non-null values
Score               952  non-null values
ViewCount           952  non-null values
Body                952  non-null values
OwnerUserId         952  non-null values
OwnerDisplayName    1  non-null values
LastEditorUserId    438  non-null values
LastEditDate        438  non-null values
LastActivityDate    952  non-null values
Title               952  non-null values
Tags                952  non-null values
AnswerCount         903  non-null values
CommentCount        438  non-null values
FavoriteCount       303  non-null values
ClosedDate          21  non-null values
dtypes: float64(5), int64(5), object(8)
</pre>
</div>

</div>
</div>

</div>
</div>

</div>
<div class="cell border-box-sizing code_cell vbox">
<div class="input hbox">
<div class="prompt input_prompt">
In&nbsp;[59]:
</div>
<div class="input_area box-flex1">
<div class="highlight"><pre><span class="n">questions</span> <span class="o">=</span> <span class="n">pd</span><span class="o">.</span><span class="n">merge</span><span class="p">(</span><span class="n">questions</span><span class="p">,</span> <span class="n">users</span><span class="p">,</span>
                     <span class="n">left_on</span><span class="o">=</span><span class="s">&#39;OwnerUserId&#39;</span><span class="p">,</span>
                     <span class="n">right_on</span><span class="o">=</span><span class="s">&#39;Id&#39;</span><span class="p">,</span>
                     <span class="n">suffixes</span><span class="o">=</span><span class="p">[</span><span class="s">&#39;_post&#39;</span><span class="p">,</span> <span class="s">&#39;_user&#39;</span><span class="p">])</span>

<span class="n">answers</span> <span class="o">=</span> <span class="n">pd</span><span class="o">.</span><span class="n">merge</span><span class="p">(</span><span class="n">answers</span><span class="p">,</span> <span class="n">users</span><span class="p">,</span>
                   <span class="n">left_on</span><span class="o">=</span><span class="s">&#39;OwnerUserId&#39;</span><span class="p">,</span>
                   <span class="n">right_on</span><span class="o">=</span><span class="s">&#39;Id&#39;</span><span class="p">,</span>
                   <span class="n">suffixes</span><span class="o">=</span><span class="p">[</span><span class="s">&#39;_post&#39;</span><span class="p">,</span> <span class="s">&#39;_user&#39;</span><span class="p">])</span>
</pre></div>

</div>
</div>

</div>
<div class="cell border-box-sizing code_cell vbox">
<div class="input hbox">
<div class="prompt input_prompt">
In&nbsp;[60]:
</div>
<div class="input_area box-flex1">
<div class="highlight"><pre><span class="n">column_mapping</span> <span class="o">=</span> <span class="p">{</span>
    <span class="s">&#39;CreationDate_post&#39;</span><span class="p">:</span> <span class="s">&#39;PostTime&#39;</span><span class="p">,</span>
    <span class="s">&#39;CreationDate_user&#39;</span><span class="p">:</span> <span class="s">&#39;UserJoinTime&#39;</span>    
<span class="p">}</span>

<span class="n">questions</span> <span class="o">=</span> <span class="n">questions</span><span class="o">.</span><span class="n">rename</span><span class="p">(</span><span class="n">columns</span><span class="o">=</span><span class="n">column_mapping</span><span class="p">)</span>
<span class="n">answers</span> <span class="o">=</span> <span class="n">answers</span><span class="o">.</span><span class="n">rename</span><span class="p">(</span><span class="n">columns</span><span class="o">=</span><span class="n">column_mapping</span><span class="p">)</span>
</pre></div>

</div>
</div>

</div>
<div class="cell border-box-sizing code_cell vbox">
<div class="input hbox">
<div class="prompt input_prompt">
In&nbsp;[61]:
</div>
<div class="input_area box-flex1">
<div class="highlight"><pre><span class="n">questions</span><span class="o">.</span><span class="n">PostTime</span><span class="p">[</span><span class="mi">0</span><span class="p">]</span>
</pre></div>

</div>
</div>

<div class="vbox output_wrapper">
<div class="output vbox">


<div class="hbox output_area"><div class="prompt output_prompt">
    Out[61]:</div>
<div class="box-flex1 output_subarea output_pyout">


<pre>
&apos;2012-11-19 02:12:10&apos;
</pre>

</div>
</div>

</div>
</div>

</div>
<div class="cell border-box-sizing code_cell vbox">
<div class="input hbox">
<div class="prompt input_prompt">
In&nbsp;[62]:
</div>
<div class="input_area box-flex1">
<div class="highlight"><pre><span class="n">pd</span><span class="o">.</span><span class="n">to_datetime</span><span class="p">(</span><span class="s">&#39;2012-11-19 02:12:10&#39;</span><span class="p">)</span>
</pre></div>

</div>
</div>

<div class="vbox output_wrapper">
<div class="output vbox">


<div class="hbox output_area"><div class="prompt output_prompt">
    Out[62]:</div>
<div class="box-flex1 output_subarea output_pyout">


<pre>
datetime.datetime(2012, 11, 19, 2, 12, 10)
</pre>

</div>
</div>

</div>
</div>

</div>
<div class="cell border-box-sizing code_cell vbox">
<div class="input hbox">
<div class="prompt input_prompt">
In&nbsp;[63]:
</div>
<div class="input_area box-flex1">
<div class="highlight"><pre><span class="n">pd</span><span class="o">.</span><span class="n">to_datetime</span><span class="p">(</span><span class="s">&#39;11/12/2012&#39;</span><span class="p">,</span> <span class="n">dayfirst</span><span class="o">=</span><span class="bp">True</span><span class="p">)</span>
</pre></div>

</div>
</div>

<div class="vbox output_wrapper">
<div class="output vbox">


<div class="hbox output_area"><div class="prompt output_prompt">
    Out[63]:</div>
<div class="box-flex1 output_subarea output_pyout">


<pre>
datetime.datetime(2012, 12, 11, 0, 0)
</pre>

</div>
</div>

</div>
</div>

</div>
<div class="cell border-box-sizing code_cell vbox">
<div class="input hbox">
<div class="prompt input_prompt">
In&nbsp;[64]:
</div>
<div class="input_area box-flex1">
<div class="highlight"><pre><span class="n">pd</span><span class="o">.</span><span class="n">to_datetime</span><span class="p">(</span><span class="s">&#39;11/12/12&#39;</span><span class="p">,</span> <span class="n">format</span><span class="o">=</span><span class="s">&#39;</span><span class="si">%d</span><span class="s">/%m/%y&#39;</span><span class="p">)</span>
</pre></div>

</div>
</div>

<div class="vbox output_wrapper">
<div class="output vbox">


<div class="hbox output_area"><div class="prompt output_prompt">
    Out[64]:</div>
<div class="box-flex1 output_subarea output_pyout">


<pre>
datetime.datetime(2012, 11, 12, 0, 0)
</pre>

</div>
</div>

</div>
</div>

</div>
<div class="cell border-box-sizing code_cell vbox">
<div class="input hbox">
<div class="prompt input_prompt">
In&nbsp;[65]:
</div>
<div class="input_area box-flex1">
<div class="highlight"><pre><span class="n">questions</span><span class="o">.</span><span class="n">PostTime</span><span class="o">.</span><span class="n">dtype</span>
</pre></div>

</div>
</div>

<div class="vbox output_wrapper">
<div class="output vbox">


<div class="hbox output_area"><div class="prompt output_prompt">
    Out[65]:</div>
<div class="box-flex1 output_subarea output_pyout">


<pre>
dtype(&apos;O&apos;)
</pre>

</div>
</div>

</div>
</div>

</div>
<div class="cell border-box-sizing code_cell vbox">
<div class="input hbox">
<div class="prompt input_prompt">
In&nbsp;[66]:
</div>
<div class="input_area box-flex1">
<div class="highlight"><pre><span class="n">pd</span><span class="o">.</span><span class="n">to_datetime</span><span class="p">(</span><span class="n">questions</span><span class="o">.</span><span class="n">PostTime</span><span class="p">)</span>
</pre></div>

</div>
</div>

<div class="vbox output_wrapper">
<div class="output vbox">


<div class="hbox output_area"><div class="prompt output_prompt">
    Out[66]:</div>
<div class="box-flex1 output_subarea output_pyout">


<pre>
0    2012-11-19 02:12:10
1    2012-11-20 17:22:04
2    2012-12-30 17:19:57
3    2012-12-30 22:43:48
4    2012-12-31 20:22:16
5    2012-11-19 00:04:20
6    2012-11-08 22:04:48
7    2012-11-17 15:59:38
8    2012-11-19 16:15:37
9    2012-11-21 11:23:14
10   2012-11-19 13:15:45
11   2013-01-06 08:44:13
12   2012-08-29 21:47:00
13   2012-09-03 15:16:55
14   2012-09-11 10:58:50
...
937   2012-11-11 13:26:27
938   2012-11-13 02:18:10
939   2012-11-08 01:51:17
940   2012-11-08 23:33:25
941   2012-11-14 23:29:30
942   2012-11-14 12:04:13
943   2012-11-15 19:11:57
944   2012-11-16 17:57:11
945   2012-11-16 17:58:23
946   2012-11-15 20:27:19
947   2012-11-16 12:10:27
948   2012-11-18 22:14:06
949   2012-11-14 22:14:50
950   2012-11-17 19:34:36
951   2012-11-18 22:22:39
Name: PostTime, Length: 952, dtype: datetime64[ns]
</pre>

</div>
</div>

</div>
</div>

</div>
<div class="cell border-box-sizing code_cell vbox">
<div class="input hbox">
<div class="prompt input_prompt">
In&nbsp;[67]:
</div>
<div class="input_area box-flex1">
<div class="highlight"><pre><span class="n">pd</span><span class="o">.</span><span class="n">to_datetime</span><span class="p">(</span><span class="n">questions</span><span class="o">.</span><span class="n">PostTime</span><span class="p">)[</span><span class="mi">0</span><span class="p">]</span>
</pre></div>

</div>
</div>

<div class="vbox output_wrapper">
<div class="output vbox">


<div class="hbox output_area"><div class="prompt output_prompt">
    Out[67]:</div>
<div class="box-flex1 output_subarea output_pyout">


<pre>
&lt;Timestamp: 2012-11-19 02:12:10&gt;
</pre>

</div>
</div>

</div>
</div>

</div>
<div class="cell border-box-sizing code_cell vbox">
<div class="input hbox">
<div class="prompt input_prompt">
In&nbsp;[68]:
</div>
<div class="input_area box-flex1">
<div class="highlight"><pre><span class="n">stamp</span> <span class="o">=</span> <span class="n">pd</span><span class="o">.</span><span class="n">to_datetime</span><span class="p">(</span><span class="n">questions</span><span class="o">.</span><span class="n">PostTime</span><span class="p">)[</span><span class="mi">0</span><span class="p">]</span>
<span class="n">stamp</span>
</pre></div>

</div>
</div>

<div class="vbox output_wrapper">
<div class="output vbox">


<div class="hbox output_area"><div class="prompt output_prompt">
    Out[68]:</div>
<div class="box-flex1 output_subarea output_pyout">


<pre>
&lt;Timestamp: 2012-11-19 02:12:10&gt;
</pre>

</div>
</div>

</div>
</div>

</div>
<div class="cell border-box-sizing code_cell vbox">
<div class="input hbox">
<div class="prompt input_prompt">
In&nbsp;[69]:
</div>
<div class="input_area box-flex1">
<div class="highlight"><pre><span class="n">stamp</span><span class="o">.</span><span class="n">tz_localize</span><span class="p">(</span><span class="s">&#39;utc&#39;</span><span class="p">)</span>
</pre></div>

</div>
</div>

<div class="vbox output_wrapper">
<div class="output vbox">


<div class="hbox output_area"><div class="prompt output_prompt">
    Out[69]:</div>
<div class="box-flex1 output_subarea output_pyout">


<pre>
&lt;Timestamp: 2012-11-19 02:12:10+0000 UTC, tz=UTC&gt;
</pre>

</div>
</div>

</div>
</div>

</div>
<div class="cell border-box-sizing code_cell vbox">
<div class="input hbox">
<div class="prompt input_prompt">
In&nbsp;[70]:
</div>
<div class="input_area box-flex1">
<div class="highlight"><pre><span class="n">stamp</span><span class="o">.</span><span class="n">tz_localize</span><span class="p">(</span><span class="s">&#39;utc&#39;</span><span class="p">)</span><span class="o">.</span><span class="n">tz_convert</span><span class="p">(</span><span class="s">&#39;Asia/Singapore&#39;</span><span class="p">)</span>
</pre></div>

</div>
</div>

<div class="vbox output_wrapper">
<div class="output vbox">


<div class="hbox output_area"><div class="prompt output_prompt">
    Out[70]:</div>
<div class="box-flex1 output_subarea output_pyout">


<pre>
&lt;Timestamp: 2012-11-19 10:12:10+0800 SGT, tz=Asia/Singapore&gt;
</pre>

</div>
</div>

</div>
</div>

</div>
<div class="cell border-box-sizing code_cell vbox">
<div class="input hbox">
<div class="prompt input_prompt">
In&nbsp;[71]:
</div>
<div class="input_area box-flex1">
<div class="highlight"><pre><span class="n">questions</span><span class="p">[</span><span class="s">&#39;PostTime&#39;</span><span class="p">]</span> <span class="o">=</span> <span class="n">pd</span><span class="o">.</span><span class="n">to_datetime</span><span class="p">(</span><span class="n">questions</span><span class="o">.</span><span class="n">PostTime</span><span class="p">)</span>
<span class="n">answers</span><span class="p">[</span><span class="s">&#39;PostTime&#39;</span><span class="p">]</span> <span class="o">=</span> <span class="n">pd</span><span class="o">.</span><span class="n">to_datetime</span><span class="p">(</span><span class="n">answers</span><span class="o">.</span><span class="n">PostTime</span><span class="p">)</span>
</pre></div>

</div>
</div>

</div>
<div class="cell border-box-sizing code_cell vbox">
<div class="input hbox">
<div class="prompt input_prompt">
In&nbsp;[72]:
</div>
<div class="input_area box-flex1">
<div class="highlight"><pre><span class="n">answers</span><span class="o">.</span><span class="n">PostTime</span><span class="p">[</span><span class="mi">5</span><span class="p">]</span>
</pre></div>

</div>
</div>

<div class="vbox output_wrapper">
<div class="output vbox">


<div class="hbox output_area"><div class="prompt output_prompt">
    Out[72]:</div>
<div class="box-flex1 output_subarea output_pyout">


<pre>
&lt;Timestamp: 2012-11-07 01:23:02&gt;
</pre>

</div>
</div>

</div>
</div>

</div>
<div class="cell border-box-sizing code_cell vbox">
<div class="input hbox">
<div class="prompt input_prompt">
In&nbsp;[73]:
</div>
<div class="input_area box-flex1">
<div class="highlight"><pre><span class="c"># you can do this in read_csv</span>
<span class="n">posts2</span> <span class="o">=</span> <span class="n">pd</span><span class="o">.</span><span class="n">read_csv</span><span class="p">(</span><span class="s">&#39;PandasPosts.csv&#39;</span><span class="p">,</span> <span class="n">parse_dates</span><span class="o">=</span><span class="p">[</span><span class="s">&#39;CreationDate&#39;</span><span class="p">])</span>
<span class="n">posts2</span><span class="o">.</span><span class="n">CreationDate</span><span class="p">[</span><span class="mi">0</span><span class="p">]</span>
</pre></div>

</div>
</div>

<div class="vbox output_wrapper">
<div class="output vbox">


<div class="hbox output_area"><div class="prompt output_prompt">
    Out[73]:</div>
<div class="box-flex1 output_subarea output_pyout">


<pre>
&lt;Timestamp: 2012-11-19 02:12:10&gt;
</pre>

</div>
</div>

</div>
</div>

</div>
<div class="cell border-box-sizing code_cell vbox">
<div class="input hbox">
<div class="prompt input_prompt">
In&nbsp;[74]:
</div>
<div class="input_area box-flex1">
<div class="highlight"><pre><span class="n">questions</span><span class="o">.</span><span class="n">sort</span><span class="p">(</span><span class="s">&#39;ViewCount&#39;</span><span class="p">,</span> <span class="n">ascending</span><span class="o">=</span><span class="bp">False</span><span class="p">)</span><span class="o">.</span><span class="n">ViewCount</span>
</pre></div>

</div>
</div>

<div class="vbox output_wrapper">
<div class="output vbox">


<div class="hbox output_area"><div class="prompt output_prompt">
    Out[74]:</div>
<div class="box-flex1 output_subarea output_pyout">


<pre>
444    6454
490    4228
615    3238
486    2913
515    2624
443    2484
672    2422
849    2066
612    2052
504    2035
681    1992
497    1884
269    1817
582    1777
550    1768
...
25     27
228    27
407    26
440    25
422    24
394    24
63     23
123    23
324    22
501    21
65     21
433    21
64     19
459    19
481     5
Name: ViewCount, Length: 952, dtype: int64
</pre>

</div>
</div>

</div>
</div>

</div>
<div class="cell border-box-sizing code_cell vbox">
<div class="input hbox">
<div class="prompt input_prompt">
In&nbsp;[75]:
</div>
<div class="input_area box-flex1">
<div class="highlight"><pre><span class="n">top10</span> <span class="o">=</span> <span class="n">questions</span><span class="o">.</span><span class="n">sort</span><span class="p">(</span><span class="s">&#39;ViewCount&#39;</span><span class="p">,</span> <span class="n">ascending</span><span class="o">=</span><span class="bp">False</span><span class="p">)[:</span><span class="mi">10</span><span class="p">]</span>
<span class="n">top10</span><span class="p">[[</span><span class="s">&#39;Title&#39;</span><span class="p">,</span> <span class="s">&#39;ViewCount&#39;</span><span class="p">]]</span>
</pre></div>

</div>
</div>

<div class="vbox output_wrapper">
<div class="output vbox">


<div class="hbox output_area"><div class="prompt output_prompt">
    Out[75]:</div>
<div class="box-flex1 output_subarea output_pyout">

<div class="output_html rendered_html">
<div style="max-height:1000px;max-width:1500px;overflow:auto;">
<table border="1" class="dataframe">
  <thead>
    <tr style="text-align: right;">
      <th></th>
      <th>Title</th>
      <th>ViewCount</th>
    </tr>
  </thead>
  <tbody>
    <tr>
      <th>444</th>
      <td>                   Tutorial on PANDAS and PYTABLES</td>
      <td> 6454</td>
    </tr>
    <tr>
      <th>490</th>
      <td> What is the most efficient way to loop through...</td>
      <td> 4228</td>
    </tr>
    <tr>
      <th>615</th>
      <td>                 add one row in a pandas.DataFrame</td>
      <td> 3238</td>
    </tr>
    <tr>
      <th>486</th>
      <td>                 append two data frame with pandas</td>
      <td> 2913</td>
    </tr>
    <tr>
      <th>515</th>
      <td>       Add indexed column to DataFrame with pandas</td>
      <td> 2624</td>
    </tr>
    <tr>
      <th>443</th>
      <td>       Sort a pandas DataMatrix in ascending order</td>
      <td> 2484</td>
    </tr>
    <tr>
      <th>672</th>
      <td>                        Renaming columns in pandas</td>
      <td> 2422</td>
    </tr>
    <tr>
      <th>849</th>
      <td>      How to fix Python Numpy/Pandas installation?</td>
      <td> 2066</td>
    </tr>
    <tr>
      <th>612</th>
      <td>   iterating row by row through a pandas dataframe</td>
      <td> 2052</td>
    </tr>
    <tr>
      <th>504</th>
      <td> How to get the correlation between two timeser...</td>
      <td> 2035</td>
    </tr>
  </tbody>
</table>
</div>
</div>

</div>
</div>

</div>
</div>

</div>
<div class="cell border-box-sizing code_cell vbox">
<div class="input hbox">
<div class="prompt input_prompt">
In&nbsp;[76]:
</div>
<div class="input_area box-flex1">
<div class="highlight"><pre><span class="n">views</span> <span class="o">=</span> <span class="n">questions</span><span class="o">.</span><span class="n">ViewCount</span><span class="o">.</span><span class="n">values</span>

<span class="n">views</span> <span class="o">=</span> <span class="n">pd</span><span class="o">.</span><span class="n">Series</span><span class="p">(</span><span class="n">views</span><span class="p">,</span> <span class="n">index</span><span class="o">=</span><span class="n">questions</span><span class="o">.</span><span class="n">PostTime</span><span class="p">)</span>
<span class="n">views</span>
</pre></div>

</div>
</div>

<div class="vbox output_wrapper">
<div class="output vbox">


<div class="hbox output_area"><div class="prompt output_prompt">
    Out[76]:</div>
<div class="box-flex1 output_subarea output_pyout">


<pre>
PostTime
2012-11-19 02:12:10     74
2012-11-20 17:22:04    107
2012-12-30 17:19:57     65
2012-12-30 22:43:48     53
2012-12-31 20:22:16     48
2012-11-19 00:04:20     71
2012-11-08 22:04:48     64
2012-11-17 15:59:38    238
2012-11-19 16:15:37     31
2012-11-21 11:23:14     44
2012-11-19 13:15:45    158
2013-01-06 08:44:13     67
2012-08-29 21:47:00    266
2012-09-03 15:16:55    365
2012-09-11 10:58:50    127
...
2012-11-11 13:26:27    114
2012-11-13 02:18:10    151
2012-11-08 01:51:17     92
2012-11-08 23:33:25    110
2012-11-14 23:29:30    135
2012-11-14 12:04:13     87
2012-11-15 19:11:57    140
2012-11-16 17:57:11     92
2012-11-16 17:58:23     65
2012-11-15 20:27:19    158
2012-11-16 12:10:27    125
2012-11-18 22:14:06    109
2012-11-14 22:14:50     40
2012-11-17 19:34:36     74
2012-11-18 22:22:39    154
Length: 952, dtype: int64
</pre>

</div>
</div>

</div>
</div>

</div>
<div class="cell border-box-sizing code_cell vbox">
<div class="input hbox">
<div class="prompt input_prompt">
In&nbsp;[77]:
</div>
<div class="input_area box-flex1">
<div class="highlight"><pre><span class="n">views</span><span class="o">.</span><span class="n">index</span>
</pre></div>

</div>
</div>

<div class="vbox output_wrapper">
<div class="output vbox">


<div class="hbox output_area"><div class="prompt output_prompt">
    Out[77]:</div>
<div class="box-flex1 output_subarea output_pyout">


<pre>
&lt;class &apos;pandas.tseries.index.DatetimeIndex&apos;&gt;
[2012-11-19 02:12:10, ..., 2012-11-18 22:22:39]
Length: 952, Freq: None, Timezone: None
</pre>

</div>
</div>

</div>
</div>

</div>
<div class="cell border-box-sizing code_cell vbox">
<div class="input hbox">
<div class="prompt input_prompt">
In&nbsp;[78]:
</div>
<div class="input_area box-flex1">
<div class="highlight"><pre><span class="n">views</span><span class="o">.</span><span class="n">index</span><span class="p">[</span><span class="mi">0</span><span class="p">]</span>
</pre></div>

</div>
</div>

<div class="vbox output_wrapper">
<div class="output vbox">


<div class="hbox output_area"><div class="prompt output_prompt">
    Out[78]:</div>
<div class="box-flex1 output_subarea output_pyout">


<pre>
&lt;Timestamp: 2012-11-19 02:12:10&gt;
</pre>

</div>
</div>

</div>
</div>

</div>
<div class="cell border-box-sizing code_cell vbox">
<div class="input hbox">
<div class="prompt input_prompt">
In&nbsp;[79]:
</div>
<div class="input_area box-flex1">
<div class="highlight"><pre><span class="n">views</span><span class="o">.</span><span class="n">index</span><span class="o">.</span><span class="n">year</span>
</pre></div>

</div>
</div>

<div class="vbox output_wrapper">
<div class="output vbox">


<div class="hbox output_area"><div class="prompt output_prompt">
    Out[79]:</div>
<div class="box-flex1 output_subarea output_pyout">


<pre>
array([2012, 2012, 2012, 2012, 2012, 2012, 2012, 2012, 2012, 2012, 2012,
       2013, 2012, 2012, 2012, 2012, 2012, 2012, 2012, 2012, 2012, 2012,
       2012, 2012, 2012, 2013, 2012, 2012, 2012, 2012, 2012, 2012, 2012,
       2012, 2013, 2012, 2012, 2012, 2012, 2012, 2013, 2012, 2012, 2012,
       2012, 2012, 2012, 2012, 2012, 2012, 2012, 2012, 2013, 2013, 2013,
       2012, 2012, 2012, 2012, 2013, 2013, 2013, 2013, 2013, 2013, 2013,
       2012, 2012, 2012, 2012, 2012, 2012, 2012, 2012, 2012, 2012, 2012,
       2012, 2012, 2012, 2012, 2012, 2012, 2012, 2012, 2012, 2012, 2012,
       2012, 2012, 2012, 2012, 2012, 2012, 2012, 2012, 2012, 2012, 2012,
       2012, 2012, 2012, 2012, 2012, 2012, 2012, 2012, 2012, 2012, 2012,
       2012, 2012, 2012, 2012, 2012, 2012, 2012, 2012, 2012, 2012, 2012,
       2012, 2012, 2013, 2012, 2012, 2012, 2012, 2012, 2012, 2012, 2013,
       2012, 2012, 2012, 2012, 2012, 2012, 2012, 2012, 2012, 2012, 2012,
       2012, 2012, 2012, 2012, 2012, 2012, 2012, 2013, 2013, 2013, 2012,
       2012, 2013, 2012, 2013, 2013, 2012, 2013, 2012, 2012, 2012, 2012,
       2012, 2012, 2012, 2012, 2012, 2012, 2012, 2012, 2012, 2012, 2012,
       2012, 2013, 2012, 2013, 2012, 2012, 2012, 2012, 2012, 2012, 2012,
       2013, 2013, 2012, 2013, 2012, 2012, 2012, 2012, 2012, 2012, 2012,
       2012, 2013, 2012, 2012, 2012, 2012, 2012, 2012, 2012, 2012, 2013,
       2013, 2013, 2012, 2012, 2012, 2012, 2012, 2012, 2012, 2012, 2013,
       2012, 2012, 2012, 2013, 2013, 2012, 2012, 2012, 2012, 2012, 2012,
       2012, 2012, 2012, 2012, 2012, 2012, 2012, 2013, 2012, 2012, 2012,
       2012, 2013, 2012, 2012, 2012, 2012, 2012, 2012, 2012, 2012, 2013,
       2012, 2012, 2013, 2013, 2013, 2013, 2013, 2013, 2012, 2012, 2012,
       2013, 2012, 2012, 2012, 2012, 2012, 2012, 2012, 2012, 2012, 2012,
       2012, 2012, 2013, 2012, 2012, 2012, 2013, 2013, 2013, 2013, 2012,
       2012, 2012, 2012, 2012, 2012, 2013, 2012, 2012, 2012, 2012, 2013,
       2012, 2012, 2012, 2012, 2013, 2013, 2013, 2013, 2012, 2012, 2012,
       2012, 2012, 2012, 2012, 2012, 2012, 2012, 2012, 2012, 2012, 2012,
       2012, 2012, 2012, 2013, 2013, 2013, 2012, 2013, 2012, 2012, 2012,
       2012, 2012, 2012, 2012, 2012, 2012, 2013, 2013, 2013, 2013, 2013,
       2013, 2013, 2013, 2012, 2013, 2013, 2013, 2013, 2012, 2012, 2013,
       2013, 2013, 2013, 2013, 2013, 2013, 2013, 2013, 2013, 2013, 2013,
       2013, 2012, 2013, 2013, 2013, 2013, 2013, 2013, 2013, 2012, 2012,
       2013, 2013, 2012, 2012, 2012, 2013, 2012, 2013, 2012, 2013, 2012,
       2012, 2012, 2012, 2013, 2013, 2013, 2013, 2013, 2013, 2013, 2013,
       2013, 2012, 2013, 2013, 2013, 2013, 2012, 2013, 2013, 2013, 2013,
       2013, 2013, 2012, 2012, 2012, 2012, 2012, 2012, 2013, 2013, 2013,
       2013, 2013, 2013, 2013, 2013, 2012, 2012, 2013, 2013, 2013, 2013,
       2013, 2013, 2013, 2013, 2013, 2013, 2013, 2013, 2013, 2012, 2013,
       2013, 2013, 2011, 2011, 2011, 2013, 2013, 2013, 2013, 2012, 2012,
       2013, 2013, 2013, 2013, 2013, 2013, 2013, 2013, 2013, 2013, 2013,
       2013, 2013, 2013, 2013, 2013, 2012, 2012, 2012, 2013, 2012, 2013,
       2013, 2012, 2013, 2013, 2013, 2013, 2013, 2011, 2013, 2011, 2011,
       2013, 2011, 2011, 2013, 2012, 2012, 2011, 2013, 2012, 2011, 2012,
       2012, 2012, 2012, 2012, 2012, 2012, 2013, 2011, 2012, 2011, 2012,
       2012, 2012, 2011, 2012, 2012, 2012, 2012, 2012, 2012, 2012, 2012,
       2012, 2012, 2012, 2012, 2012, 2012, 2012, 2012, 2012, 2012, 2012,
       2012, 2012, 2012, 2012, 2012, 2012, 2012, 2012, 2012, 2012, 2012,
       2012, 2012, 2012, 2012, 2012, 2012, 2012, 2012, 2012, 2012, 2012,
       2012, 2012, 2012, 2012, 2012, 2012, 2012, 2012, 2012, 2012, 2012,
       2012, 2012, 2012, 2012, 2012, 2012, 2012, 2012, 2012, 2012, 2012,
       2012, 2012, 2012, 2012, 2012, 2012, 2012, 2012, 2012, 2012, 2012,
       2012, 2012, 2012, 2012, 2012, 2012, 2012, 2012, 2012, 2012, 2012,
       2012, 2012, 2012, 2012, 2012, 2012, 2012, 2012, 2012, 2012, 2012,
       2012, 2012, 2012, 2012, 2012, 2012, 2012, 2012, 2012, 2012, 2012,
       2012, 2012, 2012, 2012, 2012, 2012, 2012, 2012, 2012, 2012, 2012,
       2012, 2012, 2012, 2012, 2012, 2012, 2012, 2012, 2012, 2012, 2012,
       2012, 2012, 2012, 2012, 2012, 2012, 2012, 2012, 2012, 2012, 2012,
       2012, 2012, 2012, 2012, 2012, 2012, 2012, 2012, 2012, 2012, 2012,
       2012, 2012, 2012, 2012, 2012, 2012, 2012, 2012, 2012, 2012, 2012,
       2012, 2012, 2012, 2012, 2012, 2012, 2012, 2012, 2012, 2012, 2012,
       2012, 2012, 2012, 2012, 2012, 2012, 2012, 2012, 2012, 2012, 2012,
       2012, 2012, 2012, 2012, 2012, 2012, 2012, 2012, 2012, 2012, 2012,
       2012, 2012, 2012, 2012, 2012, 2012, 2012, 2012, 2012, 2012, 2012,
       2012, 2012, 2012, 2012, 2012, 2012, 2012, 2012, 2012, 2012, 2012,
       2012, 2012, 2012, 2012, 2012, 2012, 2012, 2012, 2012, 2012, 2012,
       2012, 2012, 2012, 2012, 2012, 2012, 2012, 2012, 2012, 2012, 2012,
       2012, 2012, 2012, 2012, 2012, 2012, 2012, 2012, 2012, 2012, 2012,
       2012, 2012, 2012, 2012, 2012, 2012, 2012, 2012, 2012, 2012, 2012,
       2012, 2012, 2012, 2012, 2012, 2012, 2012, 2012, 2012, 2012, 2012,
       2012, 2012, 2012, 2012, 2012, 2012, 2012, 2012, 2012, 2012, 2012,
       2012, 2012, 2012, 2012, 2012, 2012, 2012, 2012, 2012, 2012, 2012,
       2012, 2012, 2012, 2012, 2012, 2012, 2012, 2012, 2012, 2012, 2012,
       2012, 2012, 2012, 2012, 2012, 2012, 2012, 2012, 2012, 2012, 2012,
       2012, 2012, 2012, 2012, 2012, 2012, 2012, 2012, 2012, 2012, 2012,
       2012, 2012, 2012, 2012, 2012, 2012, 2012, 2012, 2012, 2012, 2012,
       2012, 2012, 2012, 2012, 2012, 2012, 2012, 2012, 2012, 2012, 2012,
       2012, 2012, 2012, 2012, 2012, 2012, 2012, 2012, 2012, 2012, 2012,
       2012, 2012, 2012, 2012, 2012, 2012, 2012, 2012, 2012, 2012, 2012,
       2012, 2012, 2012, 2012, 2012, 2012, 2012, 2012, 2012, 2012, 2012,
       2012, 2012, 2012, 2012, 2012, 2012, 2012, 2012, 2012, 2012, 2012,
       2012, 2012, 2012, 2012, 2012, 2012, 2012, 2012, 2012, 2012, 2012,
       2012, 2012, 2012, 2012, 2012, 2012, 2012, 2012, 2012, 2012, 2012,
       2012, 2012, 2012, 2012, 2012, 2012, 2012, 2012, 2012, 2012, 2012,
       2012, 2012, 2012, 2012, 2012, 2012, 2012, 2012, 2012, 2012, 2012,
       2012, 2012, 2012, 2012, 2012, 2012], dtype=int32)
</pre>

</div>
</div>

</div>
</div>

</div>
<div class="cell border-box-sizing code_cell vbox">
<div class="input hbox">
<div class="prompt input_prompt">
In&nbsp;[80]:
</div>
<div class="input_area box-flex1">
<div class="highlight"><pre><span class="n">year</span> <span class="o">=</span> <span class="n">views</span><span class="o">.</span><span class="n">index</span><span class="o">.</span><span class="n">year</span>
<span class="n">month</span> <span class="o">=</span> <span class="n">views</span><span class="o">.</span><span class="n">index</span><span class="o">.</span><span class="n">month</span>

<span class="n">views</span><span class="o">.</span><span class="n">groupby</span><span class="p">(</span><span class="n">year</span><span class="p">)</span>
</pre></div>

</div>
</div>

<div class="vbox output_wrapper">
<div class="output vbox">


<div class="hbox output_area"><div class="prompt output_prompt">
    Out[80]:</div>
<div class="box-flex1 output_subarea output_pyout">


<pre>
&lt;pandas.core.groupby.SeriesGroupBy at 0x106ab0050&gt;
</pre>

</div>
</div>

</div>
</div>

</div>
<div class="cell border-box-sizing code_cell vbox">
<div class="input hbox">
<div class="prompt input_prompt">
In&nbsp;[81]:
</div>
<div class="input_area box-flex1">
<div class="highlight"><pre><span class="n">sizes</span> <span class="o">=</span> <span class="n">views</span><span class="o">.</span><span class="n">groupby</span><span class="p">(</span><span class="n">year</span><span class="p">)</span><span class="o">.</span><span class="n">size</span><span class="p">()</span>
<span class="n">sizes</span>
</pre></div>

</div>
</div>

<div class="vbox output_wrapper">
<div class="output vbox">


<div class="hbox output_area"><div class="prompt output_prompt">
    Out[81]:</div>
<div class="box-flex1 output_subarea output_pyout">


<pre>
2011     13
2012    766
2013    173
dtype: int64
</pre>

</div>
</div>

</div>
</div>

</div>
<div class="cell border-box-sizing code_cell vbox">
<div class="input hbox">
<div class="prompt input_prompt">
In&nbsp;[82]:
</div>
<div class="input_area box-flex1">
<div class="highlight"><pre><span class="n">sums</span> <span class="o">=</span> <span class="n">views</span><span class="o">.</span><span class="n">groupby</span><span class="p">(</span><span class="n">year</span><span class="p">)</span><span class="o">.</span><span class="n">sum</span><span class="p">()</span>
<span class="n">sums</span>
</pre></div>

</div>
</div>

<div class="vbox output_wrapper">
<div class="output vbox">


<div class="hbox output_area"><div class="prompt output_prompt">
    Out[82]:</div>
<div class="box-flex1 output_subarea output_pyout">


<pre>
2011     25083
2012    208237
2013     10520
dtype: int64
</pre>

</div>
</div>

</div>
</div>

</div>
<div class="cell border-box-sizing code_cell vbox">
<div class="input hbox">
<div class="prompt input_prompt">
In&nbsp;[83]:
</div>
<div class="input_area box-flex1">
<div class="highlight"><pre><span class="n">reordered</span> <span class="o">=</span> <span class="n">sizes</span><span class="p">[[</span><span class="mi">2013</span><span class="p">,</span> <span class="mi">2012</span><span class="p">,</span> <span class="mi">2011</span><span class="p">]]</span>
</pre></div>

</div>
</div>

</div>
<div class="cell border-box-sizing code_cell vbox">
<div class="input hbox">
<div class="prompt input_prompt">
In&nbsp;[84]:
</div>
<div class="input_area box-flex1">
<div class="highlight"><pre><span class="n">sums</span> <span class="o">/</span> <span class="n">reordered</span>
</pre></div>

</div>
</div>

<div class="vbox output_wrapper">
<div class="output vbox">


<div class="hbox output_area"><div class="prompt output_prompt">
    Out[84]:</div>
<div class="box-flex1 output_subarea output_pyout">


<pre>
2011    1929
2012     271
2013      60
dtype: int64
</pre>

</div>
</div>

</div>
</div>

</div>
<div class="cell border-box-sizing code_cell vbox">
<div class="input hbox">
<div class="prompt input_prompt">
In&nbsp;[85]:
</div>
<div class="input_area box-flex1">
<div class="highlight"><pre><span class="k">print</span> <span class="n">views</span><span class="o">.</span><span class="n">count</span><span class="p">()</span>  <span class="c"># excludes missing data (if any)</span>
<span class="k">print</span> <span class="nb">len</span><span class="p">(</span><span class="n">views</span><span class="p">)</span>
</pre></div>

</div>
</div>

<div class="vbox output_wrapper">
<div class="output vbox">


<div class="hbox output_area"><div class="prompt"></div>
<div class="box-flex1 output_subarea output_stream output_stdout">
<pre>
952
952

</pre>
</div>
</div>

</div>
</div>

</div>
<div class="cell border-box-sizing code_cell vbox">
<div class="input hbox">
<div class="prompt input_prompt">
In&nbsp;[86]:
</div>
<div class="input_area box-flex1">
<div class="highlight"><pre><span class="n">grouped</span> <span class="o">=</span> <span class="n">views</span><span class="o">.</span><span class="n">groupby</span><span class="p">(</span><span class="n">year</span><span class="p">)</span>

<span class="n">grouped</span><span class="o">.</span><span class="n">agg</span><span class="p">([</span><span class="s">&#39;count&#39;</span><span class="p">,</span> <span class="s">&#39;sum&#39;</span><span class="p">,</span> <span class="s">&#39;min&#39;</span><span class="p">,</span> <span class="s">&#39;max&#39;</span><span class="p">,</span> <span class="s">&#39;median&#39;</span><span class="p">,</span> <span class="s">&#39;mean&#39;</span><span class="p">])</span>
</pre></div>

</div>
</div>

<div class="vbox output_wrapper">
<div class="output vbox">


<div class="hbox output_area"><div class="prompt output_prompt">
    Out[86]:</div>
<div class="box-flex1 output_subarea output_pyout">

<div class="output_html rendered_html">
<div style="max-height:1000px;max-width:1500px;overflow:auto;">
<table border="1" class="dataframe">
  <thead>
    <tr style="text-align: right;">
      <th></th>
      <th>count</th>
      <th>sum</th>
      <th>min</th>
      <th>max</th>
      <th>median</th>
      <th>mean</th>
    </tr>
  </thead>
  <tbody>
    <tr>
      <th>2011</th>
      <td>  13</td>
      <td>  25083</td>
      <td> 368</td>
      <td> 6454</td>
      <td> 1128</td>
      <td> 1929.461538</td>
    </tr>
    <tr>
      <th>2012</th>
      <td> 766</td>
      <td> 208237</td>
      <td>  27</td>
      <td> 3238</td>
      <td>  143</td>
      <td>  271.849869</td>
    </tr>
    <tr>
      <th>2013</th>
      <td> 173</td>
      <td>  10520</td>
      <td>   5</td>
      <td>  518</td>
      <td>   51</td>
      <td>   60.809249</td>
    </tr>
  </tbody>
</table>
</div>
</div>

</div>
</div>

</div>
</div>

</div>
<div class="cell border-box-sizing code_cell vbox">
<div class="input hbox">
<div class="prompt input_prompt">
In&nbsp;[87]:
</div>
<div class="input_area box-flex1">
<div class="highlight"><pre><span class="n">views</span><span class="o">.</span><span class="n">order</span><span class="p">(</span><span class="n">ascending</span><span class="o">=</span><span class="bp">False</span><span class="p">)[:</span><span class="mi">5</span><span class="p">]</span>
</pre></div>

</div>
</div>

<div class="vbox output_wrapper">
<div class="output vbox">


<div class="hbox output_area"><div class="prompt output_prompt">
    Out[87]:</div>
<div class="box-flex1 output_subarea output_pyout">


<pre>
PostTime
2011-05-10 19:55:08    6454
2011-10-20 14:46:14    4228
2012-05-23 08:12:31    3238
2011-10-15 08:21:17    2913
2012-03-18 22:34:26    2624
dtype: int64
</pre>

</div>
</div>

</div>
</div>

</div>
<div class="cell border-box-sizing code_cell vbox">
<div class="input hbox">
<div class="prompt input_prompt">
In&nbsp;[88]:
</div>
<div class="input_area box-flex1">
<div class="highlight"><pre><span class="k">def</span> <span class="nf">topn</span><span class="p">(</span><span class="n">group</span><span class="p">,</span> <span class="n">n</span><span class="o">=</span><span class="mi">5</span><span class="p">):</span>
    <span class="k">return</span> <span class="n">group</span><span class="o">.</span><span class="n">order</span><span class="p">(</span><span class="n">ascending</span><span class="o">=</span><span class="bp">False</span><span class="p">)[:</span><span class="n">n</span><span class="p">]</span>
 
<span class="n">grouped</span> <span class="o">=</span> <span class="n">views</span><span class="o">.</span><span class="n">groupby</span><span class="p">(</span><span class="n">year</span><span class="p">)</span>

<span class="n">result</span> <span class="o">=</span> <span class="n">grouped</span><span class="o">.</span><span class="n">apply</span><span class="p">(</span><span class="n">topn</span><span class="p">)</span>
<span class="n">result</span>
</pre></div>

</div>
</div>

<div class="vbox output_wrapper">
<div class="output vbox">


<div class="hbox output_area"><div class="prompt output_prompt">
    Out[88]:</div>
<div class="box-flex1 output_subarea output_pyout">


<pre>
      PostTime           
2011  2011-05-10 19:55:08    6454
      2011-10-20 14:46:14    4228
      2011-10-15 08:21:17    2913
      2011-04-05 21:13:50    2484
      2011-06-24 12:31:45    2035
2012  2012-05-23 08:12:31    3238
      2012-03-18 22:34:26    2624
      2012-07-05 14:21:15    2422
      2012-09-15 11:30:35    2066
      2012-05-23 23:21:18    2052
2013  2013-01-15 23:45:53     518
      2013-01-07 15:42:28     459
      2013-01-10 16:20:32     335
      2013-01-11 18:18:42     184
      2013-01-16 09:35:36     158
dtype: int64
</pre>

</div>
</div>

</div>
</div>

</div>
<div class="cell border-box-sizing code_cell vbox">
<div class="input hbox">
<div class="prompt input_prompt">
In&nbsp;[89]:
</div>
<div class="input_area box-flex1">
<div class="highlight"><pre><span class="n">result</span><span class="p">[</span><span class="mi">2012</span><span class="p">]</span>
</pre></div>

</div>
</div>

<div class="vbox output_wrapper">
<div class="output vbox">


<div class="hbox output_area"><div class="prompt output_prompt">
    Out[89]:</div>
<div class="box-flex1 output_subarea output_pyout">


<pre>
PostTime
2012-05-23 08:12:31    3238
2012-03-18 22:34:26    2624
2012-07-05 14:21:15    2422
2012-09-15 11:30:35    2066
2012-05-23 23:21:18    2052
dtype: int64
</pre>

</div>
</div>

</div>
</div>

</div>
<div class="cell border-box-sizing code_cell vbox">
<div class="input hbox">
<div class="prompt input_prompt">
In&nbsp;[90]:
</div>
<div class="input_area box-flex1">
<div class="highlight"><pre><span class="n">result</span>
</pre></div>

</div>
</div>

<div class="vbox output_wrapper">
<div class="output vbox">


<div class="hbox output_area"><div class="prompt output_prompt">
    Out[90]:</div>
<div class="box-flex1 output_subarea output_pyout">


<pre>
      PostTime           
2011  2011-05-10 19:55:08    6454
      2011-10-20 14:46:14    4228
      2011-10-15 08:21:17    2913
      2011-04-05 21:13:50    2484
      2011-06-24 12:31:45    2035
2012  2012-05-23 08:12:31    3238
      2012-03-18 22:34:26    2624
      2012-07-05 14:21:15    2422
      2012-09-15 11:30:35    2066
      2012-05-23 23:21:18    2052
2013  2013-01-15 23:45:53     518
      2013-01-07 15:42:28     459
      2013-01-10 16:20:32     335
      2013-01-11 18:18:42     184
      2013-01-16 09:35:36     158
dtype: int64
</pre>

</div>
</div>

</div>
</div>

</div>
<div class="cell border-box-sizing code_cell vbox">
<div class="input hbox">
<div class="prompt input_prompt">
In&nbsp;[91]:
</div>
<div class="input_area box-flex1">
<div class="highlight"><pre><span class="n">year</span> <span class="o">=</span> <span class="n">views</span><span class="o">.</span><span class="n">index</span><span class="o">.</span><span class="n">year</span>
<span class="n">month</span> <span class="o">=</span> <span class="n">views</span><span class="o">.</span><span class="n">index</span><span class="o">.</span><span class="n">month</span>

<span class="n">keys</span> <span class="o">=</span> <span class="p">[</span><span class="n">year</span><span class="p">,</span> <span class="n">month</span><span class="p">]</span>
<span class="n">stats</span> <span class="o">=</span> <span class="p">[</span><span class="s">&#39;count&#39;</span><span class="p">]</span>

<span class="n">grouped</span> <span class="o">=</span> <span class="n">views</span><span class="o">.</span><span class="n">groupby</span><span class="p">(</span><span class="n">keys</span><span class="p">)</span>

<span class="n">result</span> <span class="o">=</span> <span class="n">grouped</span><span class="o">.</span><span class="n">agg</span><span class="p">(</span><span class="n">stats</span><span class="p">)</span>
<span class="n">result</span>
</pre></div>

</div>
</div>

<div class="vbox output_wrapper">
<div class="output vbox">


<div class="hbox output_area"><div class="prompt output_prompt">
    Out[91]:</div>
<div class="box-flex1 output_subarea output_pyout">

<div class="output_html rendered_html">
<div style="max-height:1000px;max-width:1500px;overflow:auto;">
<table border="1" class="dataframe">
  <thead>
    <tr style="text-align: right;">
      <th></th>
      <th></th>
      <th>count</th>
    </tr>
  </thead>
  <tbody>
    <tr>
      <th rowspan="8" valign="top">2011</th>
      <th>3 </th>
      <td>   1</td>
    </tr>
    <tr>
      <th>4 </th>
      <td>   2</td>
    </tr>
    <tr>
      <th>5 </th>
      <td>   1</td>
    </tr>
    <tr>
      <th>6 </th>
      <td>   1</td>
    </tr>
    <tr>
      <th>9 </th>
      <td>   1</td>
    </tr>
    <tr>
      <th>10</th>
      <td>   4</td>
    </tr>
    <tr>
      <th>11</th>
      <td>   2</td>
    </tr>
    <tr>
      <th>12</th>
      <td>   1</td>
    </tr>
    <tr>
      <th rowspan="12" valign="top">2012</th>
      <th>1 </th>
      <td>   6</td>
    </tr>
    <tr>
      <th>2 </th>
      <td>   4</td>
    </tr>
    <tr>
      <th>3 </th>
      <td>  29</td>
    </tr>
    <tr>
      <th>4 </th>
      <td>  27</td>
    </tr>
    <tr>
      <th>5 </th>
      <td>  44</td>
    </tr>
    <tr>
      <th>6 </th>
      <td>  50</td>
    </tr>
    <tr>
      <th>7 </th>
      <td>  67</td>
    </tr>
    <tr>
      <th>8 </th>
      <td>  91</td>
    </tr>
    <tr>
      <th>9 </th>
      <td>  94</td>
    </tr>
    <tr>
      <th>10</th>
      <td> 105</td>
    </tr>
    <tr>
      <th>11</th>
      <td> 121</td>
    </tr>
    <tr>
      <th>12</th>
      <td> 128</td>
    </tr>
    <tr>
      <th rowspan="2" valign="top">2013</th>
      <th>1 </th>
      <td> 161</td>
    </tr>
    <tr>
      <th>2 </th>
      <td>  12</td>
    </tr>
  </tbody>
</table>
</div>
</div>

</div>
</div>

</div>
</div>

</div>
<div class="text_cell_render border-box-sizing rendered_html">
<h1 id="stack-and-unstack">Stack and Unstack</h1>
</div>
<div class="cell border-box-sizing code_cell vbox">
<div class="input hbox">
<div class="prompt input_prompt">
In&nbsp;[92]:
</div>
<div class="input_area box-flex1">
<div class="highlight"><pre><span class="n">result</span><span class="o">.</span><span class="n">unstack</span><span class="p">(</span><span class="mi">0</span><span class="p">)</span>
</pre></div>

</div>
</div>

<div class="vbox output_wrapper">
<div class="output vbox">


<div class="hbox output_area"><div class="prompt output_prompt">
    Out[92]:</div>
<div class="box-flex1 output_subarea output_pyout">

<div class="output_html rendered_html">
<div style="max-height:1000px;max-width:1500px;overflow:auto;">
<table border="1" class="dataframe">
  <thead>
    <tr>
      <th></th>
      <th colspan="3" halign="left">count</th>
    </tr>
    <tr>
      <th></th>
      <th>2011</th>
      <th>2012</th>
      <th>2013</th>
    </tr>
  </thead>
  <tbody>
    <tr>
      <th>1 </th>
      <td>NaN</td>
      <td>   6</td>
      <td> 161</td>
    </tr>
    <tr>
      <th>2 </th>
      <td>NaN</td>
      <td>   4</td>
      <td>  12</td>
    </tr>
    <tr>
      <th>3 </th>
      <td>  1</td>
      <td>  29</td>
      <td> NaN</td>
    </tr>
    <tr>
      <th>4 </th>
      <td>  2</td>
      <td>  27</td>
      <td> NaN</td>
    </tr>
    <tr>
      <th>5 </th>
      <td>  1</td>
      <td>  44</td>
      <td> NaN</td>
    </tr>
    <tr>
      <th>6 </th>
      <td>  1</td>
      <td>  50</td>
      <td> NaN</td>
    </tr>
    <tr>
      <th>7 </th>
      <td>NaN</td>
      <td>  67</td>
      <td> NaN</td>
    </tr>
    <tr>
      <th>8 </th>
      <td>NaN</td>
      <td>  91</td>
      <td> NaN</td>
    </tr>
    <tr>
      <th>9 </th>
      <td>  1</td>
      <td>  94</td>
      <td> NaN</td>
    </tr>
    <tr>
      <th>10</th>
      <td>  4</td>
      <td> 105</td>
      <td> NaN</td>
    </tr>
    <tr>
      <th>11</th>
      <td>  2</td>
      <td> 121</td>
      <td> NaN</td>
    </tr>
    <tr>
      <th>12</th>
      <td>  1</td>
      <td> 128</td>
      <td> NaN</td>
    </tr>
  </tbody>
</table>
</div>
</div>

</div>
</div>

</div>
</div>

</div>
<div class="cell border-box-sizing code_cell vbox">
<div class="input hbox">
<div class="prompt input_prompt">
In&nbsp;[93]:
</div>
<div class="input_area box-flex1">
<div class="highlight"><pre><span class="n">result</span><span class="o">.</span><span class="n">unstack</span><span class="p">(</span><span class="mi">0</span><span class="p">)</span><span class="o">.</span><span class="n">fillna</span><span class="p">(</span><span class="mi">0</span><span class="p">)</span>
</pre></div>

</div>
</div>

<div class="vbox output_wrapper">
<div class="output vbox">


<div class="hbox output_area"><div class="prompt output_prompt">
    Out[93]:</div>
<div class="box-flex1 output_subarea output_pyout">

<div class="output_html rendered_html">
<div style="max-height:1000px;max-width:1500px;overflow:auto;">
<table border="1" class="dataframe">
  <thead>
    <tr>
      <th></th>
      <th colspan="3" halign="left">count</th>
    </tr>
    <tr>
      <th></th>
      <th>2011</th>
      <th>2012</th>
      <th>2013</th>
    </tr>
  </thead>
  <tbody>
    <tr>
      <th>1 </th>
      <td> 0</td>
      <td>   6</td>
      <td> 161</td>
    </tr>
    <tr>
      <th>2 </th>
      <td> 0</td>
      <td>   4</td>
      <td>  12</td>
    </tr>
    <tr>
      <th>3 </th>
      <td> 1</td>
      <td>  29</td>
      <td>   0</td>
    </tr>
    <tr>
      <th>4 </th>
      <td> 2</td>
      <td>  27</td>
      <td>   0</td>
    </tr>
    <tr>
      <th>5 </th>
      <td> 1</td>
      <td>  44</td>
      <td>   0</td>
    </tr>
    <tr>
      <th>6 </th>
      <td> 1</td>
      <td>  50</td>
      <td>   0</td>
    </tr>
    <tr>
      <th>7 </th>
      <td> 0</td>
      <td>  67</td>
      <td>   0</td>
    </tr>
    <tr>
      <th>8 </th>
      <td> 0</td>
      <td>  91</td>
      <td>   0</td>
    </tr>
    <tr>
      <th>9 </th>
      <td> 1</td>
      <td>  94</td>
      <td>   0</td>
    </tr>
    <tr>
      <th>10</th>
      <td> 4</td>
      <td> 105</td>
      <td>   0</td>
    </tr>
    <tr>
      <th>11</th>
      <td> 2</td>
      <td> 121</td>
      <td>   0</td>
    </tr>
    <tr>
      <th>12</th>
      <td> 1</td>
      <td> 128</td>
      <td>   0</td>
    </tr>
  </tbody>
</table>
</div>
</div>

</div>
</div>

</div>
</div>

</div>
<div class="cell border-box-sizing code_cell vbox">
<div class="input hbox">
<div class="prompt input_prompt">
In&nbsp;[94]:
</div>
<div class="input_area box-flex1">
<div class="highlight"><pre><span class="n">result</span>
</pre></div>

</div>
</div>

<div class="vbox output_wrapper">
<div class="output vbox">


<div class="hbox output_area"><div class="prompt output_prompt">
    Out[94]:</div>
<div class="box-flex1 output_subarea output_pyout">

<div class="output_html rendered_html">
<div style="max-height:1000px;max-width:1500px;overflow:auto;">
<table border="1" class="dataframe">
  <thead>
    <tr style="text-align: right;">
      <th></th>
      <th></th>
      <th>count</th>
    </tr>
  </thead>
  <tbody>
    <tr>
      <th rowspan="8" valign="top">2011</th>
      <th>3 </th>
      <td>   1</td>
    </tr>
    <tr>
      <th>4 </th>
      <td>   2</td>
    </tr>
    <tr>
      <th>5 </th>
      <td>   1</td>
    </tr>
    <tr>
      <th>6 </th>
      <td>   1</td>
    </tr>
    <tr>
      <th>9 </th>
      <td>   1</td>
    </tr>
    <tr>
      <th>10</th>
      <td>   4</td>
    </tr>
    <tr>
      <th>11</th>
      <td>   2</td>
    </tr>
    <tr>
      <th>12</th>
      <td>   1</td>
    </tr>
    <tr>
      <th rowspan="12" valign="top">2012</th>
      <th>1 </th>
      <td>   6</td>
    </tr>
    <tr>
      <th>2 </th>
      <td>   4</td>
    </tr>
    <tr>
      <th>3 </th>
      <td>  29</td>
    </tr>
    <tr>
      <th>4 </th>
      <td>  27</td>
    </tr>
    <tr>
      <th>5 </th>
      <td>  44</td>
    </tr>
    <tr>
      <th>6 </th>
      <td>  50</td>
    </tr>
    <tr>
      <th>7 </th>
      <td>  67</td>
    </tr>
    <tr>
      <th>8 </th>
      <td>  91</td>
    </tr>
    <tr>
      <th>9 </th>
      <td>  94</td>
    </tr>
    <tr>
      <th>10</th>
      <td> 105</td>
    </tr>
    <tr>
      <th>11</th>
      <td> 121</td>
    </tr>
    <tr>
      <th>12</th>
      <td> 128</td>
    </tr>
    <tr>
      <th rowspan="2" valign="top">2013</th>
      <th>1 </th>
      <td> 161</td>
    </tr>
    <tr>
      <th>2 </th>
      <td>  12</td>
    </tr>
  </tbody>
</table>
</div>
</div>

</div>
</div>

</div>
</div>

</div>
<div class="cell border-box-sizing code_cell vbox">
<div class="input hbox">
<div class="prompt input_prompt">
In&nbsp;[95]:
</div>
<div class="input_area box-flex1">
<div class="highlight"><pre><span class="n">result</span><span class="o">.</span><span class="n">index</span><span class="o">.</span><span class="n">names</span> <span class="o">=</span> <span class="p">[</span><span class="s">&#39;year&#39;</span><span class="p">,</span> <span class="s">&#39;month&#39;</span><span class="p">]</span>
<span class="n">result</span>
</pre></div>

</div>
</div>

<div class="vbox output_wrapper">
<div class="output vbox">


<div class="hbox output_area"><div class="prompt output_prompt">
    Out[95]:</div>
<div class="box-flex1 output_subarea output_pyout">

<div class="output_html rendered_html">
<div style="max-height:1000px;max-width:1500px;overflow:auto;">
<table border="1" class="dataframe">
  <thead>
    <tr style="text-align: right;">
      <th></th>
      <th></th>
      <th>count</th>
    </tr>
    <tr>
      <th>year</th>
      <th>month</th>
      <th></th>
    </tr>
  </thead>
  <tbody>
    <tr>
      <th rowspan="8" valign="top">2011</th>
      <th>3 </th>
      <td>   1</td>
    </tr>
    <tr>
      <th>4 </th>
      <td>   2</td>
    </tr>
    <tr>
      <th>5 </th>
      <td>   1</td>
    </tr>
    <tr>
      <th>6 </th>
      <td>   1</td>
    </tr>
    <tr>
      <th>9 </th>
      <td>   1</td>
    </tr>
    <tr>
      <th>10</th>
      <td>   4</td>
    </tr>
    <tr>
      <th>11</th>
      <td>   2</td>
    </tr>
    <tr>
      <th>12</th>
      <td>   1</td>
    </tr>
    <tr>
      <th rowspan="12" valign="top">2012</th>
      <th>1 </th>
      <td>   6</td>
    </tr>
    <tr>
      <th>2 </th>
      <td>   4</td>
    </tr>
    <tr>
      <th>3 </th>
      <td>  29</td>
    </tr>
    <tr>
      <th>4 </th>
      <td>  27</td>
    </tr>
    <tr>
      <th>5 </th>
      <td>  44</td>
    </tr>
    <tr>
      <th>6 </th>
      <td>  50</td>
    </tr>
    <tr>
      <th>7 </th>
      <td>  67</td>
    </tr>
    <tr>
      <th>8 </th>
      <td>  91</td>
    </tr>
    <tr>
      <th>9 </th>
      <td>  94</td>
    </tr>
    <tr>
      <th>10</th>
      <td> 105</td>
    </tr>
    <tr>
      <th>11</th>
      <td> 121</td>
    </tr>
    <tr>
      <th>12</th>
      <td> 128</td>
    </tr>
    <tr>
      <th rowspan="2" valign="top">2013</th>
      <th>1 </th>
      <td> 161</td>
    </tr>
    <tr>
      <th>2 </th>
      <td>  12</td>
    </tr>
  </tbody>
</table>
</div>
</div>

</div>
</div>

</div>
</div>

</div>
<div class="cell border-box-sizing code_cell vbox">
<div class="input hbox">
<div class="prompt input_prompt">
In&nbsp;[96]:
</div>
<div class="input_area box-flex1">
<div class="highlight"><pre><span class="n">result</span><span class="o">.</span><span class="n">unstack</span><span class="p">(</span><span class="s">&#39;year&#39;</span><span class="p">)</span>
</pre></div>

</div>
</div>

<div class="vbox output_wrapper">
<div class="output vbox">


<div class="hbox output_area"><div class="prompt output_prompt">
    Out[96]:</div>
<div class="box-flex1 output_subarea output_pyout">

<div class="output_html rendered_html">
<div style="max-height:1000px;max-width:1500px;overflow:auto;">
<table border="1" class="dataframe">
  <thead>
    <tr>
      <th></th>
      <th colspan="3" halign="left">count</th>
    </tr>
    <tr>
      <th>year</th>
      <th>2011</th>
      <th>2012</th>
      <th>2013</th>
    </tr>
    <tr>
      <th>month</th>
      <th></th>
      <th></th>
      <th></th>
    </tr>
  </thead>
  <tbody>
    <tr>
      <th>1 </th>
      <td>NaN</td>
      <td>   6</td>
      <td> 161</td>
    </tr>
    <tr>
      <th>2 </th>
      <td>NaN</td>
      <td>   4</td>
      <td>  12</td>
    </tr>
    <tr>
      <th>3 </th>
      <td>  1</td>
      <td>  29</td>
      <td> NaN</td>
    </tr>
    <tr>
      <th>4 </th>
      <td>  2</td>
      <td>  27</td>
      <td> NaN</td>
    </tr>
    <tr>
      <th>5 </th>
      <td>  1</td>
      <td>  44</td>
      <td> NaN</td>
    </tr>
    <tr>
      <th>6 </th>
      <td>  1</td>
      <td>  50</td>
      <td> NaN</td>
    </tr>
    <tr>
      <th>7 </th>
      <td>NaN</td>
      <td>  67</td>
      <td> NaN</td>
    </tr>
    <tr>
      <th>8 </th>
      <td>NaN</td>
      <td>  91</td>
      <td> NaN</td>
    </tr>
    <tr>
      <th>9 </th>
      <td>  1</td>
      <td>  94</td>
      <td> NaN</td>
    </tr>
    <tr>
      <th>10</th>
      <td>  4</td>
      <td> 105</td>
      <td> NaN</td>
    </tr>
    <tr>
      <th>11</th>
      <td>  2</td>
      <td> 121</td>
      <td> NaN</td>
    </tr>
    <tr>
      <th>12</th>
      <td>  1</td>
      <td> 128</td>
      <td> NaN</td>
    </tr>
  </tbody>
</table>
</div>
</div>

</div>
</div>

</div>
</div>

</div>
<div class="cell border-box-sizing code_cell vbox">
<div class="input hbox">
<div class="prompt input_prompt">
In&nbsp;[97]:
</div>
<div class="input_area box-flex1">
<div class="highlight"><pre><span class="n">result</span><span class="o">.</span><span class="n">unstack</span><span class="p">(</span><span class="s">&#39;year&#39;</span><span class="p">)</span><span class="o">.</span><span class="n">stack</span><span class="p">(</span><span class="s">&#39;year&#39;</span><span class="p">)</span>
</pre></div>

</div>
</div>

<div class="vbox output_wrapper">
<div class="output vbox">


<div class="hbox output_area"><div class="prompt output_prompt">
    Out[97]:</div>
<div class="box-flex1 output_subarea output_pyout">

<div class="output_html rendered_html">
<div style="max-height:1000px;max-width:1500px;overflow:auto;">
<table border="1" class="dataframe">
  <thead>
    <tr style="text-align: right;">
      <th></th>
      <th></th>
      <th>count</th>
    </tr>
    <tr>
      <th>month</th>
      <th>year</th>
      <th></th>
    </tr>
  </thead>
  <tbody>
    <tr>
      <th rowspan="2" valign="top">1 </th>
      <th>2012</th>
      <td>   6</td>
    </tr>
    <tr>
      <th>2013</th>
      <td> 161</td>
    </tr>
    <tr>
      <th rowspan="2" valign="top">2 </th>
      <th>2012</th>
      <td>   4</td>
    </tr>
    <tr>
      <th>2013</th>
      <td>  12</td>
    </tr>
    <tr>
      <th rowspan="2" valign="top">3 </th>
      <th>2011</th>
      <td>   1</td>
    </tr>
    <tr>
      <th>2012</th>
      <td>  29</td>
    </tr>
    <tr>
      <th rowspan="2" valign="top">4 </th>
      <th>2011</th>
      <td>   2</td>
    </tr>
    <tr>
      <th>2012</th>
      <td>  27</td>
    </tr>
    <tr>
      <th rowspan="2" valign="top">5 </th>
      <th>2011</th>
      <td>   1</td>
    </tr>
    <tr>
      <th>2012</th>
      <td>  44</td>
    </tr>
    <tr>
      <th rowspan="2" valign="top">6 </th>
      <th>2011</th>
      <td>   1</td>
    </tr>
    <tr>
      <th>2012</th>
      <td>  50</td>
    </tr>
    <tr>
      <th>7 </th>
      <th>2012</th>
      <td>  67</td>
    </tr>
    <tr>
      <th>8 </th>
      <th>2012</th>
      <td>  91</td>
    </tr>
    <tr>
      <th rowspan="2" valign="top">9 </th>
      <th>2011</th>
      <td>   1</td>
    </tr>
    <tr>
      <th>2012</th>
      <td>  94</td>
    </tr>
    <tr>
      <th rowspan="2" valign="top">10</th>
      <th>2011</th>
      <td>   4</td>
    </tr>
    <tr>
      <th>2012</th>
      <td> 105</td>
    </tr>
    <tr>
      <th rowspan="2" valign="top">11</th>
      <th>2011</th>
      <td>   2</td>
    </tr>
    <tr>
      <th>2012</th>
      <td> 121</td>
    </tr>
    <tr>
      <th rowspan="2" valign="top">12</th>
      <th>2011</th>
      <td>   1</td>
    </tr>
    <tr>
      <th>2012</th>
      <td> 128</td>
    </tr>
  </tbody>
</table>
</div>
</div>

</div>
</div>

</div>
</div>

</div>
<div class="cell border-box-sizing code_cell vbox">
<div class="input hbox">
<div class="prompt input_prompt">
In&nbsp;[98]:
</div>
<div class="input_area box-flex1">
<div class="highlight"><pre><span class="n">stats</span> <span class="o">=</span> <span class="p">[</span><span class="s">&#39;count&#39;</span><span class="p">,</span> <span class="s">&#39;sum&#39;</span><span class="p">,</span> <span class="s">&#39;mean&#39;</span><span class="p">,</span> <span class="s">&#39;median&#39;</span><span class="p">]</span>
<span class="n">result</span> <span class="o">=</span> <span class="n">grouped</span><span class="o">.</span><span class="n">agg</span><span class="p">(</span><span class="n">stats</span><span class="p">)</span>
<span class="n">result</span><span class="o">.</span><span class="n">index</span><span class="o">.</span><span class="n">names</span> <span class="o">=</span> <span class="p">[</span><span class="s">&#39;year&#39;</span><span class="p">,</span> <span class="s">&#39;month&#39;</span><span class="p">]</span>
<span class="n">result</span>
</pre></div>

</div>
</div>

<div class="vbox output_wrapper">
<div class="output vbox">


<div class="hbox output_area"><div class="prompt output_prompt">
    Out[98]:</div>
<div class="box-flex1 output_subarea output_pyout">

<div class="output_html rendered_html">
<div style="max-height:1000px;max-width:1500px;overflow:auto;">
<table border="1" class="dataframe">
  <thead>
    <tr style="text-align: right;">
      <th></th>
      <th></th>
      <th>count</th>
      <th>sum</th>
      <th>mean</th>
      <th>median</th>
    </tr>
    <tr>
      <th>year</th>
      <th>month</th>
      <th></th>
      <th></th>
      <th></th>
      <th></th>
    </tr>
  </thead>
  <tbody>
    <tr>
      <th rowspan="8" valign="top">2011</th>
      <th>3 </th>
      <td>   1</td>
      <td>  1128</td>
      <td> 1128.000000</td>
      <td> 1128.0</td>
    </tr>
    <tr>
      <th>4 </th>
      <td>   2</td>
      <td>  3914</td>
      <td> 1957.000000</td>
      <td> 1957.0</td>
    </tr>
    <tr>
      <th>5 </th>
      <td>   1</td>
      <td>  6454</td>
      <td> 6454.000000</td>
      <td> 6454.0</td>
    </tr>
    <tr>
      <th>6 </th>
      <td>   1</td>
      <td>  2035</td>
      <td> 2035.000000</td>
      <td> 2035.0</td>
    </tr>
    <tr>
      <th>9 </th>
      <td>   1</td>
      <td>   960</td>
      <td>  960.000000</td>
      <td>  960.0</td>
    </tr>
    <tr>
      <th>10</th>
      <td>   4</td>
      <td>  8590</td>
      <td> 2147.500000</td>
      <td> 1989.5</td>
    </tr>
    <tr>
      <th>11</th>
      <td>   2</td>
      <td>  1203</td>
      <td>  601.500000</td>
      <td>  601.5</td>
    </tr>
    <tr>
      <th>12</th>
      <td>   1</td>
      <td>   799</td>
      <td>  799.000000</td>
      <td>  799.0</td>
    </tr>
    <tr>
      <th rowspan="12" valign="top">2012</th>
      <th>1 </th>
      <td>   6</td>
      <td>  4901</td>
      <td>  816.833333</td>
      <td>  544.5</td>
    </tr>
    <tr>
      <th>2 </th>
      <td>   4</td>
      <td>  3137</td>
      <td>  784.250000</td>
      <td>  505.0</td>
    </tr>
    <tr>
      <th>3 </th>
      <td>  29</td>
      <td> 19587</td>
      <td>  675.413793</td>
      <td>  533.0</td>
    </tr>
    <tr>
      <th>4 </th>
      <td>  27</td>
      <td> 16477</td>
      <td>  610.259259</td>
      <td>  487.0</td>
    </tr>
    <tr>
      <th>5 </th>
      <td>  44</td>
      <td> 24072</td>
      <td>  547.090909</td>
      <td>  430.0</td>
    </tr>
    <tr>
      <th>6 </th>
      <td>  50</td>
      <td> 21305</td>
      <td>  426.100000</td>
      <td>  272.5</td>
    </tr>
    <tr>
      <th>7 </th>
      <td>  67</td>
      <td> 28852</td>
      <td>  430.626866</td>
      <td>  289.0</td>
    </tr>
    <tr>
      <th>8 </th>
      <td>  91</td>
      <td> 26752</td>
      <td>  293.978022</td>
      <td>  206.0</td>
    </tr>
    <tr>
      <th>9 </th>
      <td>  94</td>
      <td> 21712</td>
      <td>  230.978723</td>
      <td>  157.5</td>
    </tr>
    <tr>
      <th>10</th>
      <td> 105</td>
      <td> 16909</td>
      <td>  161.038095</td>
      <td>  125.0</td>
    </tr>
    <tr>
      <th>11</th>
      <td> 121</td>
      <td> 13561</td>
      <td>  112.074380</td>
      <td>   93.0</td>
    </tr>
    <tr>
      <th>12</th>
      <td> 128</td>
      <td> 10972</td>
      <td>   85.718750</td>
      <td>   66.0</td>
    </tr>
    <tr>
      <th rowspan="2" valign="top">2013</th>
      <th>1 </th>
      <td> 161</td>
      <td> 10106</td>
      <td>   62.770186</td>
      <td>   52.0</td>
    </tr>
    <tr>
      <th>2 </th>
      <td>  12</td>
      <td>   414</td>
      <td>   34.500000</td>
      <td>   34.0</td>
    </tr>
  </tbody>
</table>
</div>
</div>

</div>
</div>

</div>
</div>

</div>
<div class="cell border-box-sizing code_cell vbox">
<div class="input hbox">
<div class="prompt input_prompt">
In&nbsp;[99]:
</div>
<div class="input_area box-flex1">
<div class="highlight"><pre><span class="n">pd</span><span class="o">.</span><span class="n">options</span><span class="o">.</span><span class="n">display</span><span class="o">.</span><span class="n">max_columns</span> <span class="o">=</span> <span class="mi">20</span>
<span class="n">pd</span><span class="o">.</span><span class="n">options</span><span class="o">.</span><span class="n">display</span><span class="o">.</span><span class="n">line_width</span> <span class="o">=</span> <span class="mi">1000</span>
<span class="n">result</span><span class="o">.</span><span class="n">unstack</span><span class="p">(</span><span class="s">&#39;year&#39;</span><span class="p">)</span>
</pre></div>

</div>
</div>

<div class="vbox output_wrapper">
<div class="output vbox">


<div class="hbox output_area"><div class="prompt output_prompt">
    Out[99]:</div>
<div class="box-flex1 output_subarea output_pyout">

<div class="output_html rendered_html">
<div style="max-height:1000px;max-width:1500px;overflow:auto;">
<table border="1" class="dataframe">
  <thead>
    <tr>
      <th></th>
      <th colspan="3" halign="left">count</th>
      <th colspan="3" halign="left">sum</th>
      <th colspan="3" halign="left">mean</th>
      <th colspan="3" halign="left">median</th>
    </tr>
    <tr>
      <th>year</th>
      <th>2011</th>
      <th>2012</th>
      <th>2013</th>
      <th>2011</th>
      <th>2012</th>
      <th>2013</th>
      <th>2011</th>
      <th>2012</th>
      <th>2013</th>
      <th>2011</th>
      <th>2012</th>
      <th>2013</th>
    </tr>
    <tr>
      <th>month</th>
      <th></th>
      <th></th>
      <th></th>
      <th></th>
      <th></th>
      <th></th>
      <th></th>
      <th></th>
      <th></th>
      <th></th>
      <th></th>
      <th></th>
    </tr>
  </thead>
  <tbody>
    <tr>
      <th>1 </th>
      <td>NaN</td>
      <td>   6</td>
      <td> 161</td>
      <td>  NaN</td>
      <td>  4901</td>
      <td> 10106</td>
      <td>    NaN</td>
      <td> 816.833333</td>
      <td> 62.770186</td>
      <td>    NaN</td>
      <td> 544.5</td>
      <td> 52</td>
    </tr>
    <tr>
      <th>2 </th>
      <td>NaN</td>
      <td>   4</td>
      <td>  12</td>
      <td>  NaN</td>
      <td>  3137</td>
      <td>   414</td>
      <td>    NaN</td>
      <td> 784.250000</td>
      <td> 34.500000</td>
      <td>    NaN</td>
      <td> 505.0</td>
      <td> 34</td>
    </tr>
    <tr>
      <th>3 </th>
      <td>  1</td>
      <td>  29</td>
      <td> NaN</td>
      <td> 1128</td>
      <td> 19587</td>
      <td>   NaN</td>
      <td> 1128.0</td>
      <td> 675.413793</td>
      <td>       NaN</td>
      <td> 1128.0</td>
      <td> 533.0</td>
      <td>NaN</td>
    </tr>
    <tr>
      <th>4 </th>
      <td>  2</td>
      <td>  27</td>
      <td> NaN</td>
      <td> 3914</td>
      <td> 16477</td>
      <td>   NaN</td>
      <td> 1957.0</td>
      <td> 610.259259</td>
      <td>       NaN</td>
      <td> 1957.0</td>
      <td> 487.0</td>
      <td>NaN</td>
    </tr>
    <tr>
      <th>5 </th>
      <td>  1</td>
      <td>  44</td>
      <td> NaN</td>
      <td> 6454</td>
      <td> 24072</td>
      <td>   NaN</td>
      <td> 6454.0</td>
      <td> 547.090909</td>
      <td>       NaN</td>
      <td> 6454.0</td>
      <td> 430.0</td>
      <td>NaN</td>
    </tr>
    <tr>
      <th>6 </th>
      <td>  1</td>
      <td>  50</td>
      <td> NaN</td>
      <td> 2035</td>
      <td> 21305</td>
      <td>   NaN</td>
      <td> 2035.0</td>
      <td> 426.100000</td>
      <td>       NaN</td>
      <td> 2035.0</td>
      <td> 272.5</td>
      <td>NaN</td>
    </tr>
    <tr>
      <th>7 </th>
      <td>NaN</td>
      <td>  67</td>
      <td> NaN</td>
      <td>  NaN</td>
      <td> 28852</td>
      <td>   NaN</td>
      <td>    NaN</td>
      <td> 430.626866</td>
      <td>       NaN</td>
      <td>    NaN</td>
      <td> 289.0</td>
      <td>NaN</td>
    </tr>
    <tr>
      <th>8 </th>
      <td>NaN</td>
      <td>  91</td>
      <td> NaN</td>
      <td>  NaN</td>
      <td> 26752</td>
      <td>   NaN</td>
      <td>    NaN</td>
      <td> 293.978022</td>
      <td>       NaN</td>
      <td>    NaN</td>
      <td> 206.0</td>
      <td>NaN</td>
    </tr>
    <tr>
      <th>9 </th>
      <td>  1</td>
      <td>  94</td>
      <td> NaN</td>
      <td>  960</td>
      <td> 21712</td>
      <td>   NaN</td>
      <td>  960.0</td>
      <td> 230.978723</td>
      <td>       NaN</td>
      <td>  960.0</td>
      <td> 157.5</td>
      <td>NaN</td>
    </tr>
    <tr>
      <th>10</th>
      <td>  4</td>
      <td> 105</td>
      <td> NaN</td>
      <td> 8590</td>
      <td> 16909</td>
      <td>   NaN</td>
      <td> 2147.5</td>
      <td> 161.038095</td>
      <td>       NaN</td>
      <td> 1989.5</td>
      <td> 125.0</td>
      <td>NaN</td>
    </tr>
    <tr>
      <th>11</th>
      <td>  2</td>
      <td> 121</td>
      <td> NaN</td>
      <td> 1203</td>
      <td> 13561</td>
      <td>   NaN</td>
      <td>  601.5</td>
      <td> 112.074380</td>
      <td>       NaN</td>
      <td>  601.5</td>
      <td>  93.0</td>
      <td>NaN</td>
    </tr>
    <tr>
      <th>12</th>
      <td>  1</td>
      <td> 128</td>
      <td> NaN</td>
      <td>  799</td>
      <td> 10972</td>
      <td>   NaN</td>
      <td>  799.0</td>
      <td>  85.718750</td>
      <td>       NaN</td>
      <td>  799.0</td>
      <td>  66.0</td>
      <td>NaN</td>
    </tr>
  </tbody>
</table>
</div>
</div>

</div>
</div>

</div>
</div>

</div>
<div class="cell border-box-sizing code_cell vbox">
<div class="input hbox">
<div class="prompt input_prompt">
In&nbsp;[100]:
</div>
<div class="input_area box-flex1">
<div class="highlight"><pre><span class="n">views</span><span class="o">.</span><span class="n">groupby</span><span class="p">(</span><span class="n">year</span><span class="p">)</span><span class="o">.</span><span class="n">agg</span><span class="p">({</span><span class="s">&#39;foo&#39;</span><span class="p">:</span> <span class="n">np</span><span class="o">.</span><span class="n">mean</span><span class="p">})</span>
</pre></div>

</div>
</div>

<div class="vbox output_wrapper">
<div class="output vbox">


<div class="hbox output_area"><div class="prompt output_prompt">
    Out[100]:</div>
<div class="box-flex1 output_subarea output_pyout">

<div class="output_html rendered_html">
<div style="max-height:1000px;max-width:1500px;overflow:auto;">
<table border="1" class="dataframe">
  <thead>
    <tr style="text-align: right;">
      <th></th>
      <th>foo</th>
    </tr>
  </thead>
  <tbody>
    <tr>
      <th>2011</th>
      <td> 1929.461538</td>
    </tr>
    <tr>
      <th>2012</th>
      <td>  271.849869</td>
    </tr>
    <tr>
      <th>2013</th>
      <td>   60.809249</td>
    </tr>
  </tbody>
</table>
</div>
</div>

</div>
</div>

</div>
</div>

</div>
<div class="cell border-box-sizing code_cell vbox">
<div class="input hbox">
<div class="prompt input_prompt">
In&nbsp;[101]:
</div>
<div class="input_area box-flex1">
<div class="highlight"><pre><span class="c"># BLACK MAGIC!</span>

<span class="k">def</span> <span class="nf">q</span><span class="p">(</span><span class="n">q</span><span class="p">):</span>
    <span class="k">def</span> <span class="nf">f</span><span class="p">(</span><span class="n">x</span><span class="p">):</span>
        <span class="k">return</span> <span class="n">x</span><span class="o">.</span><span class="n">quantile</span><span class="p">(</span><span class="n">q</span><span class="p">)</span>
    <span class="n">f</span><span class="o">.</span><span class="n">__name__</span> <span class="o">=</span> <span class="s">&#39;quantile_</span><span class="si">%d</span><span class="s">&#39;</span> <span class="o">%</span> <span class="nb">int</span><span class="p">(</span><span class="n">q</span> <span class="o">*</span> <span class="mi">100</span><span class="p">)</span>
    <span class="k">return</span> <span class="n">f</span>
    
<span class="n">views</span><span class="o">.</span><span class="n">groupby</span><span class="p">(</span><span class="n">year</span><span class="p">)</span><span class="o">.</span><span class="n">agg</span><span class="p">([</span><span class="n">q</span><span class="p">(</span><span class="mf">0.1</span><span class="p">),</span> <span class="n">q</span><span class="p">(</span><span class="mf">0.5</span><span class="p">),</span> <span class="n">q</span><span class="p">(</span><span class="mf">0.9</span><span class="p">)])</span>
</pre></div>

</div>
</div>

<div class="vbox output_wrapper">
<div class="output vbox">


<div class="hbox output_area"><div class="prompt output_prompt">
    Out[101]:</div>
<div class="box-flex1 output_subarea output_pyout">

<div class="output_html rendered_html">
<div style="max-height:1000px;max-width:1500px;overflow:auto;">
<table border="1" class="dataframe">
  <thead>
    <tr style="text-align: right;">
      <th></th>
      <th>quantile_10</th>
      <th>quantile_50</th>
      <th>quantile_90</th>
    </tr>
  </thead>
  <tbody>
    <tr>
      <th>2011</th>
      <td> 466.2</td>
      <td> 1128</td>
      <td> 3965.0</td>
    </tr>
    <tr>
      <th>2012</th>
      <td>  58.0</td>
      <td>  143</td>
      <td>  599.0</td>
    </tr>
    <tr>
      <th>2013</th>
      <td>  29.0</td>
      <td>   51</td>
      <td>   88.8</td>
    </tr>
  </tbody>
</table>
</div>
</div>

</div>
</div>

</div>
</div>

</div>
<div class="cell border-box-sizing code_cell vbox">
<div class="input hbox">
<div class="prompt input_prompt">
In&nbsp;[102]:
</div>
<div class="input_area box-flex1">
<div class="highlight"><pre><span class="n">np</span><span class="o">.</span><span class="n">random</span><span class="o">.</span><span class="n">seed</span><span class="p">(</span><span class="mi">130612001</span><span class="p">)</span>
<span class="n">attendees</span> <span class="o">=</span> <span class="nb">open</span><span class="p">(</span><span class="s">&#39;attendees.txt&#39;</span><span class="p">)</span><span class="o">.</span><span class="n">read</span><span class="p">()</span><span class="o">.</span><span class="n">split</span><span class="p">()</span>
<span class="n">np</span><span class="o">.</span><span class="n">random</span><span class="o">.</span><span class="n">shuffle</span><span class="p">(</span><span class="n">attendees</span><span class="p">)</span>
<span class="n">attendees</span> <span class="o">=</span> <span class="n">pd</span><span class="o">.</span><span class="n">Series</span><span class="p">(</span><span class="n">attendees</span><span class="p">)</span>
<span class="n">attendees</span><span class="p">[:</span><span class="mi">7</span><span class="p">]</span>
</pre></div>

</div>
</div>

<div class="vbox output_wrapper">
<div class="output vbox">


<div class="hbox output_area"><div class="prompt output_prompt">
    Out[102]:</div>
<div class="box-flex1 output_subarea output_pyout">


<pre>
0         khattri.vaibhav@gmail.com
1               giangdh89@gmail.com
2          johnchoo.lives@gmail.com
3    kukkillayavu@gis.a-star.edu.sg
4          wonglz@i2r.a-star.edu.sg
5          chenhl@i2r.a-star.edu.sg
6              kuanwh1996@gmail.com
dtype: object
</pre>

</div>
</div>

</div>
</div>

</div>
<div class="cell border-box-sizing code_cell vbox">
<div class="input hbox">
<div class="prompt input_prompt">
In&nbsp;[103]:
</div>
<div class="input_area box-flex1">
<div class="highlight"><pre><span class="n">views</span><span class="o">.</span><span class="n">resample</span><span class="p">(</span><span class="s">&#39;A&#39;</span><span class="p">,</span> <span class="n">how</span><span class="o">=</span><span class="s">&#39;sum&#39;</span><span class="p">)</span>
</pre></div>

</div>
</div>

<div class="vbox output_wrapper">
<div class="output vbox">


<div class="hbox output_area"><div class="prompt output_prompt">
    Out[103]:</div>
<div class="box-flex1 output_subarea output_pyout">


<pre>
PostTime
2011-12-31     25083
2012-12-31    208237
2013-12-31     10520
Freq: A-DEC, dtype: int64
</pre>

</div>
</div>

</div>
</div>

</div>
<div class="cell border-box-sizing code_cell vbox">
<div class="input hbox">
<div class="prompt input_prompt">
In&nbsp;[104]:
</div>
<div class="input_area box-flex1">
<div class="highlight"><pre><span class="n">views</span><span class="o">.</span><span class="n">resample</span><span class="p">(</span><span class="s">&#39;M&#39;</span><span class="p">,</span> <span class="n">how</span><span class="o">=</span><span class="s">&#39;sum&#39;</span><span class="p">)</span>
</pre></div>

</div>
</div>

<div class="vbox output_wrapper">
<div class="output vbox">


<div class="hbox output_area"><div class="prompt output_prompt">
    Out[104]:</div>
<div class="box-flex1 output_subarea output_pyout">


<pre>
PostTime
2011-03-31     1128
2011-04-30     3914
2011-05-31     6454
2011-06-30     2035
2011-07-31      NaN
2011-08-31      NaN
2011-09-30      960
2011-10-31     8590
2011-11-30     1203
2011-12-31      799
2012-01-31     4901
2012-02-29     3137
2012-03-31    19587
2012-04-30    16477
2012-05-31    24072
2012-06-30    21305
2012-07-31    28852
2012-08-31    26752
2012-09-30    21712
2012-10-31    16909
2012-11-30    13561
2012-12-31    10972
2013-01-31    10106
2013-02-28      414
Freq: M, dtype: float64
</pre>

</div>
</div>

</div>
</div>

</div>
<div class="cell border-box-sizing code_cell vbox">
<div class="input hbox">
<div class="prompt input_prompt">
In&nbsp;[105]:
</div>
<div class="input_area box-flex1">
<div class="highlight"><pre><span class="n">views</span><span class="o">.</span><span class="n">groupby</span><span class="p">(</span><span class="n">year</span><span class="p">)</span><span class="o">.</span><span class="n">sum</span><span class="p">()</span>
</pre></div>

</div>
</div>

<div class="vbox output_wrapper">
<div class="output vbox">


<div class="hbox output_area"><div class="prompt output_prompt">
    Out[105]:</div>
<div class="box-flex1 output_subarea output_pyout">


<pre>
2011     25083
2012    208237
2013     10520
dtype: int64
</pre>

</div>
</div>

</div>
</div>

</div>
<div class="text_cell_render border-box-sizing rendered_html">
<h2 id="grouping-tables">Grouping tables</h2>
</div>
<div class="cell border-box-sizing code_cell vbox">
<div class="input hbox">
<div class="prompt input_prompt">
In&nbsp;[106]:
</div>
<div class="input_area box-flex1">
<div class="highlight"><pre><span class="n">answers</span><span class="o">.</span><span class="n">DisplayName</span>
</pre></div>

</div>
</div>

<div class="vbox output_wrapper">
<div class="output vbox">


<div class="hbox output_area"><div class="prompt output_prompt">
    Out[106]:</div>
<div class="box-flex1 output_subarea output_pyout">


<pre>
0     Calvin Cheng
1     Calvin Cheng
2     Calvin Cheng
3     Calvin Cheng
4     Calvin Cheng
5     Calvin Cheng
6     Calvin Cheng
7     Calvin Cheng
8     Calvin Cheng
9     Calvin Cheng
10    Calvin Cheng
11    Calvin Cheng
12    Calvin Cheng
13    Calvin Cheng
14     Andy Hayden
...
1314                   Tom
1315       Henry Gomersall
1316          milkypostman
1317              RParadox
1318             Mr. Squig
1319                Austin
1320            waitingkuo
1321              Victor K
1322                monkut
1323           Hyperboreus
1324             Dan Allan
1325               mankoff
1326    Yaroslav Halchenko
1327        Felix Zumstein
1328            dantes_419
Name: DisplayName, Length: 1329, dtype: object
</pre>

</div>
</div>

</div>
</div>

</div>
<div class="cell border-box-sizing code_cell vbox">
<div class="input hbox">
<div class="prompt input_prompt">
In&nbsp;[107]:
</div>
<div class="input_area box-flex1">
<div class="highlight"><pre><span class="n">answers</span><span class="o">.</span><span class="n">groupby</span><span class="p">(</span><span class="s">&#39;DisplayName&#39;</span><span class="p">)</span><span class="o">.</span><span class="n">size</span><span class="p">()</span>
</pre></div>

</div>
</div>

<div class="vbox output_wrapper">
<div class="output vbox">


<div class="hbox output_area"><div class="prompt output_prompt">
    Out[107]:</div>
<div class="box-flex1 output_subarea output_pyout">


<pre>
DisplayName
0xc0de                 1
Aaron                  1
Aaron Digulla          1
Abe                    1
Abhi                   1
Abhranil Das           1
Abraham D Flaxman      1
Adam                   1
Adam Greenhall         1
Adobe                  1
Akavall                1
Alexander Stefanov     1
Alok                   2
Aman                  18
Amyunimus              1
...
user1569050    1
user1763885    1
user1827356    1
user1843099    3
user1917577    1
user1988295    1
user333700     3
user948652     2
vartec         1
velotron       1
waitingkuo     1
wiseveri       1
zach           4
zarthur        1
Óscar López    1
Length: 319, dtype: int64
</pre>

</div>
</div>

</div>
</div>

</div>
<div class="cell border-box-sizing code_cell vbox">
<div class="input hbox">
<div class="prompt input_prompt">
In&nbsp;[108]:
</div>
<div class="input_area box-flex1">
<div class="highlight"><pre><span class="n">num_answers</span> <span class="o">=</span> <span class="n">answers</span><span class="o">.</span><span class="n">groupby</span><span class="p">(</span><span class="s">&#39;DisplayName&#39;</span><span class="p">)</span><span class="o">.</span><span class="n">size</span><span class="p">()</span>
<span class="n">num_answers</span><span class="o">.</span><span class="n">order</span><span class="p">(</span><span class="n">ascending</span><span class="o">=</span><span class="bp">False</span><span class="p">)</span>
</pre></div>

</div>
</div>

<div class="vbox output_wrapper">
<div class="output vbox">


<div class="hbox output_area"><div class="prompt output_prompt">
    Out[108]:</div>
<div class="box-flex1 output_subarea output_pyout">


<pre>
DisplayName
Wes McKinney        208
Andy Hayden         116
Chang She            89
Wouter Overmeire     72
crewbum              40
BrenBarn             37
DSM                  35
Zelazny7             34
eumiro               31
unutbu               30
root                 20
bmu                  18
Matti John           18
Aman                 18
Rutger Kassies       14
...
Anurag Uniyal         1
Anaphory              1
Amyunimus             1
Alexander Stefanov    1
Akavall               1
Adobe                 1
Adam Greenhall        1
Adam                  1
Abraham D Flaxman     1
Abhranil Das          1
Abhi                  1
Abe                   1
Aaron Digulla         1
Aaron                 1
0xc0de                1
Length: 319, dtype: int64
</pre>

</div>
</div>

</div>
</div>

</div>
<div class="cell border-box-sizing code_cell vbox">
<div class="input hbox">
<div class="prompt input_prompt">
In&nbsp;[109]:
</div>
<div class="input_area box-flex1">
<div class="highlight"><pre><span class="n">answers</span><span class="o">.</span><span class="n">Score</span>
</pre></div>

</div>
</div>

<div class="vbox output_wrapper">
<div class="output vbox">


<div class="hbox output_area"><div class="prompt output_prompt">
    Out[109]:</div>
<div class="box-flex1 output_subarea output_pyout">


<pre>
0     2
1     0
2     1
3     2
4     1
5     1
6     0
7     2
8     1
9     0
10    2
11    2
12    0
13    0
14    2
...
1314    3
1315    4
1316    0
1317    1
1318    0
1319    1
1320    2
1321    2
1322    2
1323    1
1324    2
1325    4
1326    4
1327    1
1328    0
Name: Score, Length: 1329, dtype: int64
</pre>

</div>
</div>

</div>
</div>

</div>
<div class="cell border-box-sizing code_cell vbox">
<div class="input hbox">
<div class="prompt input_prompt">
In&nbsp;[110]:
</div>
<div class="input_area box-flex1">
<div class="highlight"><pre><span class="k">def</span> <span class="nf">sortd</span><span class="p">(</span><span class="bp">self</span><span class="p">):</span>
    <span class="k">return</span> <span class="bp">self</span><span class="o">.</span><span class="n">order</span><span class="p">(</span><span class="n">ascending</span><span class="o">=</span><span class="bp">False</span><span class="p">)</span>
<span class="n">pd</span><span class="o">.</span><span class="n">Series</span><span class="o">.</span><span class="n">sortd</span> <span class="o">=</span> <span class="n">sortd</span>
</pre></div>

</div>
</div>

</div>
<div class="cell border-box-sizing code_cell vbox">
<div class="input hbox">
<div class="prompt input_prompt">
In&nbsp;[111]:
</div>
<div class="input_area box-flex1">
<div class="highlight"><pre><span class="c"># pd.options.display.max_rows = 1000</span>
<span class="n">by_name</span> <span class="o">=</span> <span class="n">answers</span><span class="o">.</span><span class="n">groupby</span><span class="p">(</span><span class="s">&#39;DisplayName&#39;</span><span class="p">)</span>
<span class="n">result</span> <span class="o">=</span> <span class="n">by_name</span><span class="p">[</span><span class="s">&#39;Score&#39;</span><span class="p">]</span><span class="o">.</span><span class="n">agg</span><span class="p">([</span><span class="s">&#39;mean&#39;</span><span class="p">,</span> <span class="s">&#39;count&#39;</span><span class="p">])</span>

<span class="n">result</span> <span class="o">=</span> <span class="n">result</span><span class="o">.</span><span class="n">sort</span><span class="p">(</span><span class="s">&#39;mean&#39;</span><span class="p">,</span> <span class="n">ascending</span><span class="o">=</span><span class="bp">False</span><span class="p">)</span>
<span class="n">result</span><span class="p">[:</span><span class="mi">20</span><span class="p">]</span>
</pre></div>

</div>
</div>

<div class="vbox output_wrapper">
<div class="output vbox">


<div class="hbox output_area"><div class="prompt output_prompt">
    Out[111]:</div>
<div class="box-flex1 output_subarea output_pyout">

<div class="output_html rendered_html">
<div style="max-height:1000px;max-width:1500px;overflow:auto;">
<table border="1" class="dataframe">
  <thead>
    <tr style="text-align: right;">
      <th></th>
      <th>mean</th>
      <th>count</th>
    </tr>
    <tr>
      <th>DisplayName</th>
      <th></th>
      <th></th>
    </tr>
  </thead>
  <tbody>
    <tr>
      <th>gcalmettes</th>
      <td> 16.000000</td>
      <td> 1</td>
    </tr>
    <tr>
      <th>Dirk Eddelbuettel</th>
      <td> 12.000000</td>
      <td> 1</td>
    </tr>
    <tr>
      <th>Matthew Dowle</th>
      <td> 10.000000</td>
      <td> 2</td>
    </tr>
    <tr>
      <th>tr33hous</th>
      <td>  9.000000</td>
      <td> 1</td>
    </tr>
    <tr>
      <th>Dani Arribas-Bel</th>
      <td>  8.000000</td>
      <td> 1</td>
    </tr>
    <tr>
      <th>Lennart Regebro</th>
      <td>  8.000000</td>
      <td> 1</td>
    </tr>
    <tr>
      <th>Joe Kington</th>
      <td>  7.000000</td>
      <td> 1</td>
    </tr>
    <tr>
      <th>minrk</th>
      <td>  6.000000</td>
      <td> 1</td>
    </tr>
    <tr>
      <th>lexual</th>
      <td>  6.000000</td>
      <td> 1</td>
    </tr>
    <tr>
      <th>Bi Rico</th>
      <td>  6.000000</td>
      <td> 2</td>
    </tr>
    <tr>
      <th>Sven Marnach</th>
      <td>  5.000000</td>
      <td> 2</td>
    </tr>
    <tr>
      <th>user1234440</th>
      <td>  5.000000</td>
      <td> 1</td>
    </tr>
    <tr>
      <th>dbaupp</th>
      <td>  5.000000</td>
      <td> 1</td>
    </tr>
    <tr>
      <th>Brian Keegan</th>
      <td>  5.000000</td>
      <td> 1</td>
    </tr>
    <tr>
      <th>luke14free</th>
      <td>  5.000000</td>
      <td> 1</td>
    </tr>
    <tr>
      <th>jseabold</th>
      <td>  5.000000</td>
      <td> 2</td>
    </tr>
    <tr>
      <th>andrew cooke</th>
      <td>  5.000000</td>
      <td> 1</td>
    </tr>
    <tr>
      <th>Nick Crawford</th>
      <td>  5.000000</td>
      <td> 1</td>
    </tr>
    <tr>
      <th>Mike Pennington</th>
      <td>  4.500000</td>
      <td> 2</td>
    </tr>
    <tr>
      <th>ogrisel</th>
      <td>  4.333333</td>
      <td> 3</td>
    </tr>
  </tbody>
</table>
</div>
</div>

</div>
</div>

</div>
</div>

</div>
<div class="cell border-box-sizing code_cell vbox">
<div class="input hbox">
<div class="prompt input_prompt">
In&nbsp;[112]:
</div>
<div class="input_area box-flex1">
<div class="highlight"><pre><span class="n">result</span><span class="p">[</span><span class="s">&#39;count&#39;</span><span class="p">]</span> <span class="o">&gt;=</span> <span class="mi">10</span>
</pre></div>

</div>
</div>

<div class="vbox output_wrapper">
<div class="output vbox">


<div class="hbox output_area"><div class="prompt output_prompt">
    Out[112]:</div>
<div class="box-flex1 output_subarea output_pyout">


<pre>
DisplayName
gcalmettes           False
Dirk Eddelbuettel    False
Matthew Dowle        False
tr33hous             False
Dani Arribas-Bel     False
Lennart Regebro      False
Joe Kington          False
minrk                False
lexual               False
Bi Rico              False
Sven Marnach         False
user1234440          False
dbaupp               False
Brian Keegan         False
luke14free           False
...
gbronner         False
roysc            False
rocketman        False
Ross R           False
Rich Signell     False
Rian             False
Randy Olson      False
Rachel Gallen    False
Jason Morgan     False
nat              False
Jeff Tratner     False
mspadaccino      False
0xc0de           False
velotron         False
Paul Hiemstra    False
Name: count, Length: 319, dtype: bool
</pre>

</div>
</div>

</div>
</div>

</div>
<div class="cell border-box-sizing code_cell vbox">
<div class="input hbox">
<div class="prompt input_prompt">
In&nbsp;[113]:
</div>
<div class="input_area box-flex1">
<div class="highlight"><pre><span class="p">(</span><span class="n">result</span><span class="p">[</span><span class="s">&#39;count&#39;</span><span class="p">]</span> <span class="o">&gt;=</span> <span class="mi">10</span><span class="p">)</span><span class="o">.</span><span class="n">sum</span><span class="p">()</span>
</pre></div>

</div>
</div>

<div class="vbox output_wrapper">
<div class="output vbox">


<div class="hbox output_area"><div class="prompt output_prompt">
    Out[113]:</div>
<div class="box-flex1 output_subarea output_pyout">


<pre>
21
</pre>

</div>
</div>

</div>
</div>

</div>
<div class="cell border-box-sizing code_cell vbox">
<div class="input hbox">
<div class="prompt input_prompt">
In&nbsp;[114]:
</div>
<div class="input_area box-flex1">
<div class="highlight"><pre><span class="n">result</span><span class="p">[</span><span class="n">result</span><span class="p">[</span><span class="s">&#39;count&#39;</span><span class="p">]</span> <span class="o">&gt;=</span> <span class="mi">10</span><span class="p">]</span>
</pre></div>

</div>
</div>

<div class="vbox output_wrapper">
<div class="output vbox">


<div class="hbox output_area"><div class="prompt output_prompt">
    Out[114]:</div>
<div class="box-flex1 output_subarea output_pyout">

<div class="output_html rendered_html">
<div style="max-height:1000px;max-width:1500px;overflow:auto;">
<table border="1" class="dataframe">
  <thead>
    <tr style="text-align: right;">
      <th></th>
      <th>mean</th>
      <th>count</th>
    </tr>
    <tr>
      <th>DisplayName</th>
      <th></th>
      <th></th>
    </tr>
  </thead>
  <tbody>
    <tr>
      <th>Paul H</th>
      <td> 3.454545</td>
      <td>  11</td>
    </tr>
    <tr>
      <th>unutbu</th>
      <td> 3.000000</td>
      <td>  30</td>
    </tr>
    <tr>
      <th>BrenBarn</th>
      <td> 2.675676</td>
      <td>  37</td>
    </tr>
    <tr>
      <th>Wes McKinney</th>
      <td> 2.610577</td>
      <td> 208</td>
    </tr>
    <tr>
      <th>DSM</th>
      <td> 2.371429</td>
      <td>  35</td>
    </tr>
    <tr>
      <th>EMS</th>
      <td> 2.153846</td>
      <td>  13</td>
    </tr>
    <tr>
      <th>Wouter Overmeire</th>
      <td> 2.097222</td>
      <td>  72</td>
    </tr>
    <tr>
      <th>bmu</th>
      <td> 2.055556</td>
      <td>  18</td>
    </tr>
    <tr>
      <th>eumiro</th>
      <td> 1.967742</td>
      <td>  31</td>
    </tr>
    <tr>
      <th>Aman</th>
      <td> 1.888889</td>
      <td>  18</td>
    </tr>
    <tr>
      <th>Zelazny7</th>
      <td> 1.882353</td>
      <td>  34</td>
    </tr>
    <tr>
      <th>Matti John</th>
      <td> 1.666667</td>
      <td>  18</td>
    </tr>
    <tr>
      <th>Andy Hayden</th>
      <td> 1.586207</td>
      <td> 116</td>
    </tr>
    <tr>
      <th>crewbum</th>
      <td> 1.525000</td>
      <td>  40</td>
    </tr>
    <tr>
      <th>root</th>
      <td> 1.500000</td>
      <td>  20</td>
    </tr>
    <tr>
      <th>Jeff</th>
      <td> 1.454545</td>
      <td>  11</td>
    </tr>
    <tr>
      <th>Chang She</th>
      <td> 1.325843</td>
      <td>  89</td>
    </tr>
    <tr>
      <th>Rutger Kassies</th>
      <td> 1.285714</td>
      <td>  14</td>
    </tr>
    <tr>
      <th>lbolla</th>
      <td> 1.272727</td>
      <td>  11</td>
    </tr>
    <tr>
      <th>Calvin Cheng</th>
      <td> 1.000000</td>
      <td>  14</td>
    </tr>
    <tr>
      <th>locojay</th>
      <td> 0.900000</td>
      <td>  10</td>
    </tr>
  </tbody>
</table>
</div>
</div>

</div>
</div>

</div>
</div>

</div>
<div class="cell border-box-sizing code_cell vbox">
<div class="input hbox">
<div class="prompt input_prompt">
In&nbsp;[115]:
</div>
<div class="input_area box-flex1">
<div class="highlight"><pre><span class="n">stats</span> <span class="o">=</span> <span class="p">[</span><span class="s">&#39;mean&#39;</span><span class="p">,</span> <span class="s">&#39;min&#39;</span><span class="p">,</span> <span class="s">&#39;max&#39;</span><span class="p">,</span> <span class="s">&#39;std&#39;</span><span class="p">,</span> <span class="s">&#39;count&#39;</span><span class="p">]</span>
<span class="n">result</span> <span class="o">=</span> <span class="n">by_name</span><span class="p">[</span><span class="s">&#39;Score&#39;</span><span class="p">]</span><span class="o">.</span><span class="n">agg</span><span class="p">(</span><span class="n">stats</span><span class="p">)</span>
<span class="n">result</span> <span class="o">=</span> <span class="n">result</span><span class="o">.</span><span class="n">sort</span><span class="p">(</span><span class="s">&#39;std&#39;</span><span class="p">,</span> <span class="n">ascending</span><span class="o">=</span><span class="bp">False</span><span class="p">)</span>
<span class="n">result</span><span class="p">[</span><span class="n">result</span><span class="p">[</span><span class="s">&#39;count&#39;</span><span class="p">]</span> <span class="o">&gt;=</span> <span class="mi">10</span><span class="p">]</span>
</pre></div>

</div>
</div>

<div class="vbox output_wrapper">
<div class="output vbox">


<div class="hbox output_area"><div class="prompt output_prompt">
    Out[115]:</div>
<div class="box-flex1 output_subarea output_pyout">

<div class="output_html rendered_html">
<div style="max-height:1000px;max-width:1500px;overflow:auto;">
<table border="1" class="dataframe">
  <thead>
    <tr style="text-align: right;">
      <th></th>
      <th>mean</th>
      <th>min</th>
      <th>max</th>
      <th>std</th>
      <th>count</th>
    </tr>
    <tr>
      <th>DisplayName</th>
      <th></th>
      <th></th>
      <th></th>
      <th></th>
      <th></th>
    </tr>
  </thead>
  <tbody>
    <tr>
      <th>Paul H</th>
      <td> 3.454545</td>
      <td> 1</td>
      <td> 18</td>
      <td> 4.926736</td>
      <td>  11</td>
    </tr>
    <tr>
      <th>Wes McKinney</th>
      <td> 2.610577</td>
      <td> 0</td>
      <td> 40</td>
      <td> 4.042920</td>
      <td> 208</td>
    </tr>
    <tr>
      <th>BrenBarn</th>
      <td> 2.675676</td>
      <td> 0</td>
      <td>  9</td>
      <td> 2.055535</td>
      <td>  37</td>
    </tr>
    <tr>
      <th>bmu</th>
      <td> 2.055556</td>
      <td> 0</td>
      <td>  6</td>
      <td> 1.862074</td>
      <td>  18</td>
    </tr>
    <tr>
      <th>unutbu</th>
      <td> 3.000000</td>
      <td> 0</td>
      <td>  8</td>
      <td> 1.819435</td>
      <td>  30</td>
    </tr>
    <tr>
      <th>EMS</th>
      <td> 2.153846</td>
      <td> 0</td>
      <td>  6</td>
      <td> 1.818706</td>
      <td>  13</td>
    </tr>
    <tr>
      <th>Aman</th>
      <td> 1.888889</td>
      <td> 0</td>
      <td>  5</td>
      <td> 1.604732</td>
      <td>  18</td>
    </tr>
    <tr>
      <th>Wouter Overmeire</th>
      <td> 2.097222</td>
      <td> 0</td>
      <td>  6</td>
      <td> 1.584784</td>
      <td>  72</td>
    </tr>
    <tr>
      <th>crewbum</th>
      <td> 1.525000</td>
      <td> 0</td>
      <td>  6</td>
      <td> 1.568725</td>
      <td>  40</td>
    </tr>
    <tr>
      <th>eumiro</th>
      <td> 1.967742</td>
      <td> 0</td>
      <td>  6</td>
      <td> 1.471595</td>
      <td>  31</td>
    </tr>
    <tr>
      <th>DSM</th>
      <td> 2.371429</td>
      <td> 0</td>
      <td>  6</td>
      <td> 1.373825</td>
      <td>  35</td>
    </tr>
    <tr>
      <th>Zelazny7</th>
      <td> 1.882353</td>
      <td> 0</td>
      <td>  5</td>
      <td> 1.365477</td>
      <td>  34</td>
    </tr>
    <tr>
      <th>Chang She</th>
      <td> 1.325843</td>
      <td> 0</td>
      <td>  7</td>
      <td> 1.346505</td>
      <td>  89</td>
    </tr>
    <tr>
      <th>root</th>
      <td> 1.500000</td>
      <td> 0</td>
      <td>  5</td>
      <td> 1.317893</td>
      <td>  20</td>
    </tr>
    <tr>
      <th>Andy Hayden</th>
      <td> 1.586207</td>
      <td> 0</td>
      <td>  6</td>
      <td> 1.305966</td>
      <td> 116</td>
    </tr>
    <tr>
      <th>Rutger Kassies</th>
      <td> 1.285714</td>
      <td> 0</td>
      <td>  4</td>
      <td> 1.204388</td>
      <td>  14</td>
    </tr>
    <tr>
      <th>lbolla</th>
      <td> 1.272727</td>
      <td> 0</td>
      <td>  4</td>
      <td> 1.103713</td>
      <td>  11</td>
    </tr>
    <tr>
      <th>Jeff</th>
      <td> 1.454545</td>
      <td> 0</td>
      <td>  3</td>
      <td> 1.035725</td>
      <td>  11</td>
    </tr>
    <tr>
      <th>locojay</th>
      <td> 0.900000</td>
      <td> 0</td>
      <td>  3</td>
      <td> 0.994429</td>
      <td>  10</td>
    </tr>
    <tr>
      <th>Matti John</th>
      <td> 1.666667</td>
      <td> 0</td>
      <td>  4</td>
      <td> 0.970143</td>
      <td>  18</td>
    </tr>
    <tr>
      <th>Calvin Cheng</th>
      <td> 1.000000</td>
      <td> 0</td>
      <td>  2</td>
      <td> 0.877058</td>
      <td>  14</td>
    </tr>
  </tbody>
</table>
</div>
</div>

</div>
</div>

</div>
</div>

</div>
<div class="cell border-box-sizing code_cell vbox">
<div class="input hbox">
<div class="prompt input_prompt">
In&nbsp;[116]:
</div>
<div class="input_area box-flex1">
<div class="highlight"><pre><span class="n">top_so_users</span> <span class="o">=</span> <span class="n">result</span><span class="p">[</span><span class="n">result</span><span class="p">[</span><span class="s">&#39;count&#39;</span><span class="p">]</span> <span class="o">&gt;=</span> <span class="mi">10</span><span class="p">]</span><span class="o">.</span><span class="n">index</span>
<span class="n">top_so_users</span>
</pre></div>

</div>
</div>

<div class="vbox output_wrapper">
<div class="output vbox">


<div class="hbox output_area"><div class="prompt output_prompt">
    Out[116]:</div>
<div class="box-flex1 output_subarea output_pyout">


<pre>
Index([Paul H, Wes McKinney, BrenBarn, bmu, unutbu, EMS, Aman, Wouter Overmeire, crewbum, eumiro, DSM, Zelazny7, Chang She, root, Andy Hayden, Rutger Kassies, lbolla, Jeff, locojay, Matti John, Calvin Cheng], dtype=object)
</pre>

</div>
</div>

</div>
</div>

</div>
<div class="cell border-box-sizing code_cell vbox">
<div class="input hbox">
<div class="prompt input_prompt">
In&nbsp;[117]:
</div>
<div class="input_area box-flex1">
<div class="highlight"><pre><span class="c"># Doing this 21 times would be slow</span>
<span class="n">answers</span><span class="o">.</span><span class="n">DisplayName</span> <span class="o">==</span> <span class="s">&#39;Wes McKinney&#39;</span>
</pre></div>

</div>
</div>

<div class="vbox output_wrapper">
<div class="output vbox">


<div class="hbox output_area"><div class="prompt output_prompt">
    Out[117]:</div>
<div class="box-flex1 output_subarea output_pyout">


<pre>
0     False
1     False
2     False
3     False
4     False
5     False
6     False
7     False
8     False
9     False
10    False
11    False
12    False
13    False
14    False
...
1314    False
1315    False
1316    False
1317    False
1318    False
1319    False
1320    False
1321    False
1322    False
1323    False
1324    False
1325    False
1326    False
1327    False
1328    False
Name: DisplayName, Length: 1329, dtype: bool
</pre>

</div>
</div>

</div>
</div>

</div>
<div class="cell border-box-sizing code_cell vbox">
<div class="input hbox">
<div class="prompt input_prompt">
In&nbsp;[118]:
</div>
<div class="input_area box-flex1">
<div class="highlight"><pre><span class="s">&#39;Wes McKinney&#39;</span> <span class="ow">in</span> <span class="n">top_so_users</span>
</pre></div>

</div>
</div>

<div class="vbox output_wrapper">
<div class="output vbox">


<div class="hbox output_area"><div class="prompt output_prompt">
    Out[118]:</div>
<div class="box-flex1 output_subarea output_pyout">


<pre>
True
</pre>

</div>
</div>

</div>
</div>

</div>
<div class="cell border-box-sizing code_cell vbox">
<div class="input hbox">
<div class="prompt input_prompt">
In&nbsp;[119]:
</div>
<div class="input_area box-flex1">
<div class="highlight"><pre><span class="n">answers</span><span class="o">.</span><span class="n">DisplayName</span><span class="o">.</span><span class="n">isin</span><span class="p">(</span><span class="n">top_so_users</span><span class="p">)</span>
</pre></div>

</div>
</div>

<div class="vbox output_wrapper">
<div class="output vbox">


<div class="hbox output_area"><div class="prompt output_prompt">
    Out[119]:</div>
<div class="box-flex1 output_subarea output_pyout">


<pre>
0     True
1     True
2     True
3     True
4     True
5     True
6     True
7     True
8     True
9     True
10    True
11    True
12    True
13    True
14    True
...
1314    False
1315    False
1316    False
1317    False
1318    False
1319    False
1320    False
1321    False
1322    False
1323    False
1324    False
1325    False
1326    False
1327    False
1328    False
Name: DisplayName, Length: 1329, dtype: bool
</pre>

</div>
</div>

</div>
</div>

</div>
<div class="cell border-box-sizing code_cell vbox">
<div class="input hbox">
<div class="prompt input_prompt">
In&nbsp;[120]:
</div>
<div class="input_area box-flex1">
<div class="highlight"><pre><span class="n">crit</span> <span class="o">=</span> <span class="n">answers</span><span class="o">.</span><span class="n">DisplayName</span><span class="o">.</span><span class="n">isin</span><span class="p">(</span><span class="n">top_so_users</span><span class="p">)</span>
<span class="n">answers_subset</span> <span class="o">=</span> <span class="n">answers</span><span class="p">[</span><span class="n">crit</span><span class="p">]</span>
<span class="n">answers_subset</span>
</pre></div>

</div>
</div>

<div class="vbox output_wrapper">
<div class="output vbox">


<div class="hbox output_area"><div class="prompt output_prompt">
    Out[120]:</div>
<div class="box-flex1 output_subarea output_pyout">

<div class="output_html rendered_html">
<pre>
&ltclass 'pandas.core.frame.DataFrame'&gt
Int64Index: 850 entries, 0 to 945
Data columns (total 26 columns):
Id_post                  850  non-null values
PostTypeId               850  non-null values
ParentId                 850  non-null values
PostTime                 850  non-null values
Score                    850  non-null values
Body                     850  non-null values
OwnerUserId              850  non-null values
OwnerDisplayName         0  non-null values
LastEditorUserId         238  non-null values
LastEditorDisplayName    1  non-null values
LastEditDate             239  non-null values
LastActivityDate         850  non-null values
CommentCount             556  non-null values
Id_user                  850  non-null values
Reputation               850  non-null values
UserJoinTime             850  non-null values
DisplayName              850  non-null values
LastAccessDate           850  non-null values
WebsiteUrl               414  non-null values
Location                 542  non-null values
AboutMe                  617  non-null values
Views                    850  non-null values
UpVotes                  850  non-null values
DownVotes                850  non-null values
EmailHash                850  non-null values
Age                      419  non-null values
dtypes: datetime64[ns](1), float64(4), int64(9), object(12)
</pre>
</div>

</div>
</div>

</div>
</div>

</div>
<div class="cell border-box-sizing code_cell vbox">
<div class="input hbox">
<div class="prompt input_prompt">
In&nbsp;[121]:
</div>
<div class="input_area box-flex1">
<div class="highlight"><pre><span class="c"># Doh, have to convert to index to do this</span>
<span class="n">year</span> <span class="o">=</span> <span class="n">pd</span><span class="o">.</span><span class="n">DatetimeIndex</span><span class="p">(</span><span class="n">answers_subset</span><span class="o">.</span><span class="n">PostTime</span><span class="p">)</span><span class="o">.</span><span class="n">year</span>
<span class="n">year</span><span class="p">[:</span><span class="mi">20</span><span class="p">]</span>
</pre></div>

</div>
</div>

<div class="vbox output_wrapper">
<div class="output vbox">


<div class="hbox output_area"><div class="prompt output_prompt">
    Out[121]:</div>
<div class="box-flex1 output_subarea output_pyout">


<pre>
array([2012, 2012, 2012, 2012, 2012, 2012, 2012, 2012, 2012, 2012, 2012,
       2012, 2012, 2012, 2012, 2012, 2012, 2012, 2013, 2013], dtype=int32)
</pre>

</div>
</div>

</div>
</div>

</div>
<div class="cell border-box-sizing code_cell vbox">
<div class="input hbox">
<div class="prompt input_prompt">
In&nbsp;[122]:
</div>
<div class="input_area box-flex1">
<div class="highlight"><pre><span class="n">keys</span> <span class="o">=</span> <span class="p">[</span><span class="s">&#39;DisplayName&#39;</span><span class="p">,</span> <span class="n">year</span><span class="p">]</span>

<span class="n">grouped</span> <span class="o">=</span> <span class="n">answers_subset</span><span class="o">.</span><span class="n">groupby</span><span class="p">(</span><span class="n">keys</span><span class="p">)</span>

<span class="n">stats</span> <span class="o">=</span> <span class="p">[</span><span class="s">&#39;mean&#39;</span><span class="p">,</span> <span class="s">&#39;min&#39;</span><span class="p">,</span> <span class="s">&#39;max&#39;</span><span class="p">,</span> <span class="s">&#39;std&#39;</span><span class="p">,</span> <span class="s">&#39;count&#39;</span><span class="p">]</span>
<span class="n">result</span> <span class="o">=</span> <span class="n">grouped</span><span class="p">[</span><span class="s">&#39;Score&#39;</span><span class="p">]</span><span class="o">.</span><span class="n">agg</span><span class="p">(</span><span class="n">stats</span><span class="p">)</span>
<span class="c"># result = result.sort(&#39;std&#39;, ascending=False)</span>
<span class="n">result</span>
</pre></div>

</div>
</div>

<div class="vbox output_wrapper">
<div class="output vbox">


<div class="hbox output_area"><div class="prompt output_prompt">
    Out[122]:</div>
<div class="box-flex1 output_subarea output_pyout">

<div class="output_html rendered_html">
<div style="max-height:1000px;max-width:1500px;overflow:auto;">
<table border="1" class="dataframe">
  <thead>
    <tr style="text-align: right;">
      <th></th>
      <th></th>
      <th>mean</th>
      <th>min</th>
      <th>max</th>
      <th>std</th>
      <th>count</th>
    </tr>
    <tr>
      <th>DisplayName</th>
      <th></th>
      <th></th>
      <th></th>
      <th></th>
      <th></th>
      <th></th>
    </tr>
  </thead>
  <tbody>
    <tr>
      <th rowspan="2" valign="top">Aman</th>
      <th>2012</th>
      <td> 2.000000</td>
      <td> 0</td>
      <td>  5</td>
      <td> 1.581139</td>
      <td>  17</td>
    </tr>
    <tr>
      <th>2013</th>
      <td> 0.000000</td>
      <td> 0</td>
      <td>  0</td>
      <td>      NaN</td>
      <td>   1</td>
    </tr>
    <tr>
      <th rowspan="2" valign="top">Andy Hayden</th>
      <th>2012</th>
      <td> 1.450704</td>
      <td> 0</td>
      <td>  6</td>
      <td> 1.307000</td>
      <td>  71</td>
    </tr>
    <tr>
      <th>2013</th>
      <td> 1.800000</td>
      <td> 0</td>
      <td>  5</td>
      <td> 1.289820</td>
      <td>  45</td>
    </tr>
    <tr>
      <th rowspan="2" valign="top">BrenBarn</th>
      <th>2012</th>
      <td> 2.705882</td>
      <td> 0</td>
      <td>  9</td>
      <td> 2.139519</td>
      <td>  34</td>
    </tr>
    <tr>
      <th>2013</th>
      <td> 2.333333</td>
      <td> 2</td>
      <td>  3</td>
      <td> 0.577350</td>
      <td>   3</td>
    </tr>
    <tr>
      <th>Calvin Cheng</th>
      <th>2012</th>
      <td> 1.000000</td>
      <td> 0</td>
      <td>  2</td>
      <td> 0.877058</td>
      <td>  14</td>
    </tr>
    <tr>
      <th>Chang She</th>
      <th>2012</th>
      <td> 1.325843</td>
      <td> 0</td>
      <td>  7</td>
      <td> 1.346505</td>
      <td>  89</td>
    </tr>
    <tr>
      <th rowspan="2" valign="top">DSM</th>
      <th>2012</th>
      <td> 2.478261</td>
      <td> 0</td>
      <td>  6</td>
      <td> 1.473079</td>
      <td>  23</td>
    </tr>
    <tr>
      <th>2013</th>
      <td> 2.166667</td>
      <td> 0</td>
      <td>  4</td>
      <td> 1.193416</td>
      <td>  12</td>
    </tr>
    <tr>
      <th>EMS</th>
      <th>2012</th>
      <td> 2.153846</td>
      <td> 0</td>
      <td>  6</td>
      <td> 1.818706</td>
      <td>  13</td>
    </tr>
    <tr>
      <th rowspan="2" valign="top">Jeff</th>
      <th>2012</th>
      <td> 1.500000</td>
      <td> 0</td>
      <td>  3</td>
      <td> 1.290994</td>
      <td>   4</td>
    </tr>
    <tr>
      <th>2013</th>
      <td> 1.428571</td>
      <td> 0</td>
      <td>  3</td>
      <td> 0.975900</td>
      <td>   7</td>
    </tr>
    <tr>
      <th>Matti John</th>
      <th>2012</th>
      <td> 1.666667</td>
      <td> 0</td>
      <td>  4</td>
      <td> 0.970143</td>
      <td>  18</td>
    </tr>
    <tr>
      <th rowspan="2" valign="top">Paul H</th>
      <th>2012</th>
      <td> 2.000000</td>
      <td> 1</td>
      <td>  4</td>
      <td> 1.154701</td>
      <td>   7</td>
    </tr>
    <tr>
      <th>2013</th>
      <td> 6.000000</td>
      <td> 1</td>
      <td> 18</td>
      <td> 8.041559</td>
      <td>   4</td>
    </tr>
    <tr>
      <th rowspan="2" valign="top">Rutger Kassies</th>
      <th>2012</th>
      <td> 1.363636</td>
      <td> 0</td>
      <td>  4</td>
      <td> 1.286291</td>
      <td>  11</td>
    </tr>
    <tr>
      <th>2013</th>
      <td> 1.000000</td>
      <td> 0</td>
      <td>  2</td>
      <td> 1.000000</td>
      <td>   3</td>
    </tr>
    <tr>
      <th rowspan="3" valign="top">Wes McKinney</th>
      <th>2011</th>
      <td> 8.125000</td>
      <td> 1</td>
      <td> 21</td>
      <td> 7.180082</td>
      <td>   8</td>
    </tr>
    <tr>
      <th>2012</th>
      <td> 2.450777</td>
      <td> 0</td>
      <td> 40</td>
      <td> 3.780282</td>
      <td> 193</td>
    </tr>
    <tr>
      <th>2013</th>
      <td> 0.714286</td>
      <td> 0</td>
      <td>  2</td>
      <td> 0.951190</td>
      <td>   7</td>
    </tr>
    <tr>
      <th>Wouter Overmeire</th>
      <th>2012</th>
      <td> 2.097222</td>
      <td> 0</td>
      <td>  6</td>
      <td> 1.584784</td>
      <td>  72</td>
    </tr>
    <tr>
      <th rowspan="2" valign="top">Zelazny7</th>
      <th>2012</th>
      <td> 2.125000</td>
      <td> 0</td>
      <td>  5</td>
      <td> 1.726888</td>
      <td>   8</td>
    </tr>
    <tr>
      <th>2013</th>
      <td> 1.807692</td>
      <td> 0</td>
      <td>  5</td>
      <td> 1.265519</td>
      <td>  26</td>
    </tr>
    <tr>
      <th rowspan="2" valign="top">bmu</th>
      <th>2012</th>
      <td> 1.875000</td>
      <td> 0</td>
      <td>  5</td>
      <td> 1.668333</td>
      <td>  16</td>
    </tr>
    <tr>
      <th>2013</th>
      <td> 3.500000</td>
      <td> 1</td>
      <td>  6</td>
      <td> 3.535534</td>
      <td>   2</td>
    </tr>
    <tr>
      <th rowspan="2" valign="top">crewbum</th>
      <th>2012</th>
      <td> 1.354839</td>
      <td> 0</td>
      <td>  6</td>
      <td> 1.427081</td>
      <td>  31</td>
    </tr>
    <tr>
      <th>2013</th>
      <td> 2.111111</td>
      <td> 0</td>
      <td>  5</td>
      <td> 1.964971</td>
      <td>   9</td>
    </tr>
    <tr>
      <th rowspan="2" valign="top">eumiro</th>
      <th>2012</th>
      <td> 1.892857</td>
      <td> 0</td>
      <td>  6</td>
      <td> 1.523624</td>
      <td>  28</td>
    </tr>
    <tr>
      <th>2013</th>
      <td> 2.666667</td>
      <td> 2</td>
      <td>  3</td>
      <td> 0.577350</td>
      <td>   3</td>
    </tr>
    <tr>
      <th>lbolla</th>
      <th>2012</th>
      <td> 1.272727</td>
      <td> 0</td>
      <td>  4</td>
      <td> 1.103713</td>
      <td>  11</td>
    </tr>
    <tr>
      <th rowspan="2" valign="top">locojay</th>
      <th>2012</th>
      <td> 0.777778</td>
      <td> 0</td>
      <td>  3</td>
      <td> 0.971825</td>
      <td>   9</td>
    </tr>
    <tr>
      <th>2013</th>
      <td> 2.000000</td>
      <td> 2</td>
      <td>  2</td>
      <td>      NaN</td>
      <td>   1</td>
    </tr>
    <tr>
      <th rowspan="2" valign="top">root</th>
      <th>2012</th>
      <td> 1.187500</td>
      <td> 0</td>
      <td>  5</td>
      <td> 1.223043</td>
      <td>  16</td>
    </tr>
    <tr>
      <th>2013</th>
      <td> 2.750000</td>
      <td> 2</td>
      <td>  4</td>
      <td> 0.957427</td>
      <td>   4</td>
    </tr>
    <tr>
      <th rowspan="3" valign="top">unutbu</th>
      <th>2011</th>
      <td> 8.000000</td>
      <td> 8</td>
      <td>  8</td>
      <td>      NaN</td>
      <td>   1</td>
    </tr>
    <tr>
      <th>2012</th>
      <td> 3.000000</td>
      <td> 0</td>
      <td>  7</td>
      <td> 1.878673</td>
      <td>  18</td>
    </tr>
    <tr>
      <th>2013</th>
      <td> 2.545455</td>
      <td> 2</td>
      <td>  5</td>
      <td> 0.934199</td>
      <td>  11</td>
    </tr>
  </tbody>
</table>
</div>
</div>

</div>
</div>

</div>
</div>

</div>
<div class="cell border-box-sizing code_cell vbox">
<div class="input hbox">
<div class="prompt input_prompt">
In&nbsp;[123]:
</div>
<div class="input_area box-flex1">
<div class="highlight"><pre><span class="n">np</span><span class="o">.</span><span class="n">log</span><span class="p">(</span><span class="n">users</span><span class="o">.</span><span class="n">Reputation</span><span class="p">)</span><span class="o">.</span><span class="n">hist</span><span class="p">(</span><span class="n">bins</span><span class="o">=</span><span class="mi">100</span><span class="p">)</span>
</pre></div>

</div>
</div>

<div class="vbox output_wrapper">
<div class="output vbox">


<div class="hbox output_area"><div class="prompt output_prompt">
    Out[123]:</div>
<div class="box-flex1 output_subarea output_pyout">


<pre>
&lt;matplotlib.axes.AxesSubplot at 0x1075a5b90&gt;
</pre>

</div>
</div>

<div class="hbox output_area"><div class="prompt"></div>
<div class="box-flex1 output_subarea output_display_data">


<img src="data:image/png;base64,iVBORw0KGgoAAAANSUhEUgAAAXEAAAD9CAYAAABKgkezAAAABHNCSVQICAgIfAhkiAAAAAlwSFlz
AAALEgAACxIB0t1+/AAAGtVJREFUeJzt3W9sE/f9B/C3WYI2FgzJaBza0CUajcg/iFs2pKlsyajT
li0Z7VBVuq0xhD3oVGkMfqvog2lh0iCsIAJbH1QdbTNtatcnhKxj0UDNVV0rVm1JNsTY2KpYCzRx
R5PQZKHQJPd7EEjsxGfffe/OX39975eEZDvn89uO88F5+5uzT9d1HUREpKRFsgMQEZE4DnEiIoVx
iBMRKYxDnIhIYRziREQK4xAnIlJY0iH+0UcfYcOGDaipqUFFRQWefvppAMDw8DBCoRDKyspQX1+P
0dHRtIQlIqJ4vlTrxCcmJrBkyRJMTk7i3nvvxaFDh9DZ2YkVK1bgqaeewsGDBzEyMoLW1tZ0ZSYi
optS1ilLliwBANy4cQNTU1PIz89HZ2cnmpqaAABNTU3o6OhwNyURESWUcohPT0+jpqYGgUAAdXV1
qKysRDQaRSAQAAAEAgFEo1HXgxIR0UI5qTZYtGgR+vr6cPXqVdx///3o7u6O+7rP54PP51twvUSX
ERFRalaOhmJ6dcqyZcvw1a9+FX/5y18QCAQwNDQEABgcHERhYaFhEFX//ehHP5Kegfnl52B+9f6p
nF3XrR/KKukQv3LlyuzKk2vXruH06dMIBoNobGxEe3s7AKC9vR1btmyxfMOZLhKJyI5gC/PLxfzy
qJxdRNI6ZXBwEE1NTZiensb09DS+/e1vY9OmTQgGg3jkkUdw/PhxlJSU4NVXX01XXiIiipF0iFdX
V6Onp2fB5QUFBThz5oxroTJBOByWHcEW5peL+eVRObuIlOvEhXfs8wn1O0REXmZ1dvLP7g1omiY7
gi3MLxfzy6NydhEc4kRECmOdQkSUQVinEBF5CIe4AdV7NeaXi/nlUTm7CA5xIiKFsRMnIsog7MSJ
iDyEQ9yAE72a318we5RHv7/AfigLVO8FmV8ulfOrnF1EykPRkrixsREA+s3TPDQvETmPnbiLZo6p
fusx4ONBRKmxEyci8hAOcQOq92rMLxfzy6NydhEc4kRECmMn7iJ24kRkldXZ6erqlJ07nwQArF5d
gr17/8/NmyIi8iRX65Tjx9fg+PHbceDAITdvxhWq92rMLxfzy6NydhEud+JPAtjh7k0QEXmYq534
TB88BL+/BlevDrlxMxmNnTgRWcV14kREHsIhbkD1Xo355WJ+eVTOLoJDnIhIYezEXcROnIisYidO
ROQhHOIGVO/VmF8u5pdH5ewiOMSJiBTGTtxF7MSJyCpHO/GBgQHU1dWhsrISVVVVOHbsGACgpaUF
xcXFCAaDCAaD6OrqspeaiIiEJB3iubm5OHLkCM6fP4+zZ8/i2WefxYULF+Dz+bB792709vait7cX
DzzwQLrypo3qvRrzy8X88qicXUTSoxgWFRWhqKgIAJCXl4fy8nJcvnwZAFgNEBFlANOdeCQSwZe/
/GWcP38ehw8fxosvvohly5Zh/fr1OHz4MJYvXx6/Y3bi7MSJyDJX1omPj49j69atOHr0KPLy8vDE
E0+gv78ffX19WLlyJfbs2WNwzTCAQ7h+fRxtbW1xv+Zompb15+eTnYfneZ7nM++8pmkIh8MIh8No
aWmBZXoKN27c0Ovr6/UjR44k/Hp/f79eVVW14HIAOqDrwKDu9wdS3UzG6e7utr2Pucdg5nQ6OZFf
JuaXS+X8KmfXdeuzIukrcV3X0dzcjIqKCuzatWv28sHBwdnTJ06cQHV1tfX/PYiIyLaknfgf//hH
fOlLX8LatWtv9rvA/v378fLLL6Ovrw8+nw+lpaV47rnnEAgE4nfMTpydOBFZZrUT5x/7uIhDnIis
4gGwHBL7JoSKmF8u5pdH5ewiOMSJiBTGOsVFrFOIyCrWKUREHsIhbkD1Xo355WJ+eVTOLoJDnIhI
YezEXcROnIisYidOROQhHOIGVO/VmF8u5pdH5ewiOMSJiBTGTlyQ31+AsbERAMDSpfn48MPhBduw
Eyciq6x24kk/2YeMzQxw/eZpn9wwRORZrFMMqN6rMb9czC+PytlFcIgTESmMnbggM303O3Eisorr
xImIPIRD3IDqvRrzy8X88qicXQSHOBGRwtiJC2InTkRuYCdOROQhHOIGVO/VmF8u5pdH5ewiOMSJ
iBTGTlwQO3EicgM7cSIiD+EQN6B6r8b8cjG/PCpnF8EhTkSkMHbigtiJE5Eb2IkTEXkIh7gB1Xs1
5peL+eVRObuIpEN8YGAAdXV1qKysRFVVFY4dOwYAGB4eRigUQllZGerr6zE6OpqWsEREFC9pJz40
NIShoSHU1NRgfHwc99xzDzo6OvDiiy9ixYoVeOqpp3Dw4EGMjIygtbU1fsfsxNmJE5FljnbiRUVF
qKmpAQDk5eWhvLwcly9fRmdnJ5qamgAATU1N6OjosBGZiIhEme7EI5EIent7sWHDBkSjUQQCAQBA
IBBANBo1uFYYwCFcvz6Otra2uK5K07SMPp8q781Lk+5vvkzKn+nnmZ/5Rc/fOp0peczkDYfDCIfD
aGlpgWW6CWNjY/rdd9+tnzhxQtd1XV++fHnc1/Pz8xdcB4AO6DowqPv9ATM3k1G6u7uTfn3u/s2c
Ft3GLanyZzrml0vl/Cpn13XrsyLlOvGPP/4YX/va1/Dggw9i165dAIA1a9ZA0zQUFRVhcHAQdXV1
+Mc//hF3PXbi7MSJyDpHO3Fd19Hc3IyKiorZAQ4AjY2NaG9vBwC0t7djy5YtgnGJiMiOpEP8rbfe
wq9+9St0d3cjGAwiGAyiq6sLe/fuxenTp1FWVobXX38de/fuTVfetIntr1TE/HIxvzwqZxeRk+yL
9957L6anpxN+7cyZM64EIiIi83jsFEHsxInIDTx2igL8/gL4fD74fD74/QXC2xARcYgbcLNXGxsb
wcwrdP3mabFtklG9F2R+uVTOr3J2ERziREQKYycuyE4nzj6diIywEyci8hAOcQOq92rMLxfzy6Ny
dhEc4kRECmMnLoidOBG5gZ24h8heSy779omIQ9yQCr1asrXk6chvdy17Mio8/skwvzwqZxfBIU5E
pDB24oIyoROX3ZvLvn2ibMROnIjIQzjEDajeqzG/XMwvj8rZRXCIExEpzPOduN9fMLuyYunSfHz4
4bCp66W3E88FMLkgo+xOOp23L/p9IlKN1U486Sf7eMHcMjlgbMwnN4yhSWR+Rnep8X0iSj/WKQZU
79WYXy7ml0fl7CI4xImIFOb5Tly01033OnHR/bgpnbcv+74SpQvXiRMReQiHuAHVezXml4v55VE5
uwgOcSIihbETT1snPrfWe8bC68auhZ6/TTo6catrsdmJEzmP68Qz1txa75mhvFDsWmijbdzEtdhE
6mGdYkD1Xo355WJ+eVTOLoJDnIhIYSk78R07duB3v/sdCgsLce7cOQBAS0sLfvGLX+C2224DABw4
cAAPPPBA/I7ZiSdd622m4053J251f+zEiZzn+Drx7du3o6ura8GN7N69G729vejt7V0wwImIKD1S
DvGNGzciPz9/weXZ/kpI9V6N+eVifnlUzi5CuBP/2c9+hnXr1qG5uRmjo6MGW4UBHML16+Noa2uL
e3A1Tcuo80DsaaCvry/F9vHXSbT/hebfnsj2ObOfML9g65h9pMpvJq/T21s5Pz//za0c27/b50Ue
/0w6r3p+lc5rmoZwOIxwOIyWlhZYZWqdeCQSQUNDw2wn/v7778/24T/84Q8xODiI48ePx++Ynbhr
nXiq/YhiJ04kX1qOnVJYWDj7anDnzp145513RHZDREQ2CQ3xwcHB2dMnTpxAdXW1Y4EyReyvPipi
frmYXx6Vs4tI+Reb27ZtwxtvvIErV65g1apV2LdvHzRNQ19fH3w+H0pLS/Hcc8+lIysREc3DY6ew
EzfMy06cKP14PHEiIg/hEDegeq/G/HIxvzwqZxfBoxhSRrF6OFwir2Mnzk7cMK+MTtzO55ISZQN2
4kREHsIhbkD1Xk31/PGHHFCP6o+/yvlVzi6CQ5yISGHsxNmJG+ZlJ06UfuzEiYg8hEPcgLVebe7w
sH5/gVuRLGVwshf0+wsk3D/N0tZyMhpTvZdVOb/K2UVwnbgj5j7JXt6nxLuXYWbdtuz7l5wKGYnc
wE7coU7cjc/MTHc/brWPzqROnJ05ZQt24kREHsIhbkD1Xk31/FwnLpfK+VXOLoJDnIhIYezE2Ykb
3id24kTpx06ciMhDOMQNqN6rJcufaWuqE9MQu/Y9Uxk9ltn8/Ml0KmcXwXXiHqTOmuq5te8zdVHm
UeexpGzFTtyDnbhT3Xc6OnGz909WJ84unpzGTpyIyEM4xA2o3qupnp/rxOVSOb/K2UVwiBMRKYyd
ODtxduI2sBMnp7ETJ1g7NK7VZXzOL/uLXaaXjusRZRMOcQNq92qTALoB6DeXwKXaVsfcq0kz+7ay
fWpzy/Ri96kJXi8zqP38UTu/ytlFcIgTESmMnXiWduJW+mOn74dVIvdb13VT3wO3sRMnpzneie/Y
sQOBQADV1dWzlw0PDyMUCqGsrAz19fUYHR0VS0tERLakHOLbt29HV1dX3GWtra0IhUK4ePEiNm3a
hNbWVtcCyqJ+r6bJDmCTJjuALao/f1TOr3J2ESmH+MaNG5Gfnx93WWdnJ5qamgAATU1N6OjocCcd
ERElJfTGZjQaRSAQAAAEAgFEo1GDLcMADuH69XG0tbXF/Q+paVpGnU/0yi/59vOvo8WdT/xqINH2
yZbsGe8/8SvVRPnm9u/z5cTcTqr9fWJertS3b+XxXrJkaYr9JxK/P+OvL1xiKfL8iM24ZMnS2a8n
Xtq4ME8mPb+t/zyom7+2tjaj8qQ6r2kawuEwwuEwWlpaYJWpNzYjkQgaGhpw7tw5AEB+fj5GRuaW
rhUUFGB4eDh+x3xj07U3Ku2fTs8bqMnYfWxSvbHpxhuuZr6vfGOT7ErLH/sEAgEMDc0M5cHBQRQW
ForsJqPNf1WiHk12AJs02QFsUf35o3J+lbOLEBrijY2NaG9vBwC0t7djy5YtjoYiIiJzUtYp27Zt
wxtvvIErV64gEAjgxz/+Mb7+9a/jkUcewX/+8x+UlJTg1VdfxfLly+N3zDqFdUoSrFOIErNap/CP
fTjEHTvNIc4hTvbxAFgOUb9X02QHsEmTHcAW1Z8/KudXObsIDnEiIoWxTjH4ldnvL8DY2AiWLs3H
hx8Op7we65R01im5mDmaIhzPdev7Pod1CqWX1TqFn3Zv4NZhTvkJ5pno1uFwnf/exH56vRv7J3Ia
65SspckOYJMmO4AtqveyKudXObsIDnEiIoWxE0+5jCxxP8VO3Ph+m+HMY5PeXOzEKR24xJCIyEM4
xLOWJjuATZrsALao3suqnF/l7CI4xMkhsYe8XbzgULBA5n46vblcyQ4ZTCQPO3F24q6fdu/xcKYT
dzIXO3Gyi504EZGHcIhnLU12AJs02QFsUb2XVTm/ytlFcIgTESmMnTg7cddPsxMnMo+dOBGRh3CI
Zy1NdgCbNNkBbFG9l1U5v8rZRSg7xGPX9sauRSYyEvuciV3LLhufy2SHsp246Meqmd0PO/Hs68TT
8f0QeR469Vym7MBOnIjIQzjEs5YmO4BNmuwAtqjey6qcX+XsIjjEiYgUxk6cnbjrp9mJJ8dOnGKx
Eyci8hAOcQsy9VCqiWmyA9ikObQfOYeQXbJkacrD8SZeTpiTEcsNVe6VVc4ugp92bwE/CV1Fk5Dx
Pbt2bXz2dsfG5m439jkUe/mcyRRfJ4rHTtxCJ262U2UnnlmdeCbc12SX8zM7KRY7cSIiD7E1xEtK
SrB27VoEg0F84QtfcCoTOUKTHcAmTXYAT1O5V1Y5uwhbnbjP54OmaSgo4PEeiIhksF2nsLPLVLWy
A9hUKzuAp9XW1sqOIEzl7CJsDXGfz4f77rsP69evx/PPP+9UJiIiMslWnfLWW29h5cqV+O9//4tQ
KIQ1a9Zg48aNMVuEAazA9evjaGtrQ01Nzez/krd6K9HzMzTcesUmur/4fc03d1ninm3u9udf3+r2
xrcvun0bgJok27t9+/Fft/54tFncPtXX5W6f+vmW/LyZ5/PmzQ03lzYCn/pUHk6d+q3wz5fTP6/p
PB/7WGdCHjN5X3rpJQAz7zNa5dgSw3379iEvLw979uyZ2TGXGEpeYtiNmQEif2me2OOhAahLsU1m
LCvMlCWGTv75vqZpytYSKmcH0rjEcGJiAmNjYwCA//3vf/jDH/6A6upq0d2R42plB7CpVnYAT1N5
CKqcXYRwnRKNRvHQQw8BACYnJ/HNb34T9fX1jgUjIqLUhId4aWkp+vr6nMxCjtKg9qtZTXYAT1O5
klA5uwj+xSYRkcJ47JSsfWMzc94Q5LFT1Htjk+ThsVOIlJGT4hC5mXFYWrNSH2aX3MAhnrU02QFs
0mQHSIPYw+Qm+7p+8xC26SNy/JG5w+ymP28srx07hUOciEhh7MTZibt+mp14qsfA2r6NyO7EZd9+
tmAnTkTkIRziWUuTHcAmTXYAT1O5V1Y5uwgOcSIihXGIZ61a2QFsqpUdQMDckkBzl4vt287yPaNl
gPMvT/UXj24uJzSb0YiX/loT4BubfGOTb2xmwGnxxzSWmZ8JK3+ElIyZP1py72fS3v4zHd/YpJs0
2QFs0mQH8DSVe2WVs4vgECciUhjrFNYprp9mncI6xQrWKaxTiIg8g0M8a2myA9ikyQ7gaSr3yipn
F8EhTkSkMA7xrFUrO8BNomuka90IkyXMrBmf28bnW2xx/XoO6urqkq7TFpWOw9V6bZ248MezEZkT
e7hV8R9+ijX3mI6NGT2m8x/3RN8Do+9N4v3PHWp2/vbmxe7DODtZwVfiWUuTHcAmTXYAj9NkBxDG
TpyIiJTBdeJcJ67wadm3nxn3w+3nm5n9m10nns617KriOnEiIg/hEM9amuwANmmyA3icJjuAMHbi
nubsIUOJ3Of2883M/nOSLl80s5TQePmiM/cvHUsbZWEnnrJHVKHjtnpa9u3zfnjtfoh99mjy01Z+
5lXq09mJExF5CId41tJkB7BJkx3A4zTZAYSxEzepq6sLa9aswV133YWDBw86mYkc0Sc7gE2q51ed
uo9/X5+62UUIDfGpqSk8+eST6Orqwt///ne8/PLLuHDhgtPZyJZR2QFsUj2/6tR9/EdH1c0uQmiI
v/POO1i9ejVKSkqQm5uLRx99FCdPnnQ6GxERpSB0AKzLly9j1apVs+eLi4vxpz/9acF2y5Y1YHr6
I3ziE6ze0y8iO4BNEdkBPC4iO4CwSCQiO0JaCQ1xs2s2r159zfJ1LCZxaP++pKfj963K6fab/4y2
yYSMTpyWfftOnZZ9+/NPp3r+GJ1O/HWjnyE7P1vJfubb29sTXOrUvMgsQkP8jjvuwMDAwOz5gYEB
FBcXx22TyeswiYiyhVDPsX79evzrX/9CJBLBjRs38Jvf/AaNjY1OZyMiohSEXonn5OTg5z//Oe6/
/35MTU2hubkZ5eXlTmcjIqIUhN9xfPDBB/HPf/4T//73v/H000/HfU3lNeQDAwOoq6tDZWUlqqqq
cOzYMdmRLJuamkIwGERDQ4PsKJaNjo5i69atKC8vR0VFBc6ePSs7kiUHDhxAZWUlqqur8dhjj+H6
9euyIyW1Y8cOBAIBVFdXz142PDyMUCiEsrIy1NfXZ/SSvUT5f/CDH6C8vBzr1q3Dww8/jKtXr0pM
mFyi/LccPnwYixYtwvDwcNJ9OL5sRPU15Lm5uThy5AjOnz+Ps2fP4tlnn1UqPwAcPXoUFRUVSr55
873vfQ+bN2/GhQsX8Le//U2p3/AikQief/559PT04Ny5c5iamsIrr7wiO1ZS27dvR1dXV9xlra2t
CIVCuHjxIjZt2oTW1lZJ6VJLlL++vh7nz5/HX//6V5SVleHAgQOS0qWWKD8w82Ly9OnT+OxnP5ty
H44PcdXXkBcVFaGmpgYAkJeXh/Lycrz33nuSU5l36dIlnDp1Cjt37lTuzeWrV6/izTffxI4dOwDM
1HbLli2TnMo8v9+P3NxcTExMYHJyEhMTE7jjjjtkx0pq48aNyM/Pj7uss7MTTU1NAICmpiZ0dHTI
iGZKovyhUAiLFs2Mtg0bNuDSpUsyopmSKD8A7N69Gz/96U9N7cPxIZ5oDfnly5edvpm0iEQi6O3t
xYYNG2RHMe373/8+nnnmmdknsUr6+/tx2223Yfv27bj77rvxne98BxMTE7JjmVZQUIA9e/bgzjvv
xO23347ly5fjvvvukx3Lsmg0ikAgAAAIBAKIRqOSE4l74YUXsHnzZtkxLDl58iSKi4uxdu1aU9s7
/pOu4q/wiYyPj2Pr1q04evQo8vLyZMcx5bXXXkNhYSGCwaByr8IBYHJyEj09Pfjud7+Lnp4efPrT
n87oX+Xne/fdd9HW1oZIJIL33nsP4+Pj+PWvfy07li0qHxv/Jz/5CRYvXozHHntMdhTTJiYmsH//
fuzbt2/2slQ/y44PcTNryDPdxx9/jG984xv41re+hS1btsiOY9rbb7+Nzs5OlJaWYtu2bXj99dfx
+OOPy45lWnFxMYqLi/H5z38eALB161b09PRITmXen//8Z3zxi1/EZz7zGeTk5ODhhx/G22+/LTuW
ZYFAAENDM8f/HxwcRGFhoeRE1r300ks4deqUcv+Jvvvuu4hEIli3bh1KS0tx6dIl3HPPPXj//fcN
r+P4EFd9Dbmu62hubkZFRQV27dolO44l+/fvx8DAAPr7+/HKK6/gK1/5Cn75y1/KjmVaUVERVq1a
hYsXLwIAzpw5g8rKSsmpzFuzZg3Onj2La9euQdd1nDlzBhUVFbJjWdbY2Dj7F4/t7e1KvZABZlbH
PfPMMzh58iQ++clPyo5jSXV1NaLRKPr7+9Hf34/i4mL09PQk/49Ud8GpU6f0srIy/XOf+5y+f/9+
N27CNW+++abu8/n0devW6TU1NXpNTY3++9//XnYsyzRN0xsaGmTHsKyvr09fv369vnbtWv2hhx7S
R0dHZUey5ODBg3pFRYVeVVWlP/744/qNGzdkR0rq0Ucf1VeuXKnn5ubqxcXF+gsvvKB/8MEH+qZN
m/S77rpLD4VC+sjIiOyYhubnP378uL569Wr9zjvvnP35feKJJ2THNHQr/+LFi2cf/1ilpaX6Bx98
kHQfrn08GxERuU+9JQxERDSLQ5yISGEc4kRECuMQJyJSGIc4EZHCOMSJiBT2/90DsbFhGYMFAAAA
AElFTkSuQmCC
">

</div>
</div>

</div>
</div>

</div>
<div class="cell border-box-sizing code_cell vbox">
<div class="input hbox">
<div class="prompt input_prompt">
In&nbsp;[124]:
</div>
<div class="input_area box-flex1">
<div class="highlight"><pre><span class="n">buckets</span> <span class="o">=</span> <span class="p">[</span><span class="mi">0</span><span class="p">,</span> <span class="mi">100</span><span class="p">,</span> <span class="mi">1000</span><span class="p">,</span> <span class="mi">10000</span><span class="p">,</span> <span class="mi">1000000</span><span class="p">]</span>
<span class="n">rep_bucket</span> <span class="o">=</span> <span class="n">pd</span><span class="o">.</span><span class="n">cut</span><span class="p">(</span><span class="n">answers</span><span class="o">.</span><span class="n">Reputation</span><span class="p">,</span> <span class="n">buckets</span><span class="p">)</span>
</pre></div>

</div>
</div>

</div>
<div class="cell border-box-sizing code_cell vbox">
<div class="input hbox">
<div class="prompt input_prompt">
In&nbsp;[125]:
</div>
<div class="input_area box-flex1">
<div class="highlight"><pre><span class="n">answers</span><span class="o">.</span><span class="n">groupby</span><span class="p">(</span><span class="n">rep_bucket</span><span class="p">)</span><span class="o">.</span><span class="n">size</span><span class="p">()</span>
</pre></div>

</div>
</div>

<div class="vbox output_wrapper">
<div class="output vbox">


<div class="hbox output_area"><div class="prompt output_prompt">
    Out[125]:</div>
<div class="box-flex1 output_subarea output_pyout">


<pre>
Reputation
(0, 100]            120
(100, 1000]         237
(1000, 10000]       783
(10000, 1000000]    189
dtype: int64
</pre>

</div>
</div>

</div>
</div>

</div>
<div class="cell border-box-sizing code_cell vbox">
<div class="input hbox">
<div class="prompt input_prompt">
In&nbsp;[126]:
</div>
<div class="input_area box-flex1">
<div class="highlight"><pre><span class="nb">len</span><span class="p">(</span><span class="n">answers</span><span class="o">.</span><span class="n">DisplayName</span><span class="o">.</span><span class="n">unique</span><span class="p">())</span>
</pre></div>

</div>
</div>

<div class="vbox output_wrapper">
<div class="output vbox">


<div class="hbox output_area"><div class="prompt output_prompt">
    Out[126]:</div>
<div class="box-flex1 output_subarea output_pyout">


<pre>
319
</pre>

</div>
</div>

</div>
</div>

</div>
<div class="cell border-box-sizing code_cell vbox">
<div class="input hbox">
<div class="prompt input_prompt">
In&nbsp;[127]:
</div>
<div class="input_area box-flex1">
<div class="highlight"><pre><span class="n">grouped</span> <span class="o">=</span> <span class="n">answers</span><span class="o">.</span><span class="n">groupby</span><span class="p">(</span><span class="n">rep_bucket</span><span class="p">)</span>

<span class="k">def</span> <span class="nf">distinct</span><span class="p">(</span><span class="n">names</span><span class="p">):</span>
    <span class="k">return</span> <span class="nb">len</span><span class="p">(</span><span class="n">names</span><span class="o">.</span><span class="n">unique</span><span class="p">())</span>

<span class="n">statistics</span> <span class="o">=</span> <span class="p">{</span>
    <span class="s">&#39;Score&#39;</span><span class="p">:</span> <span class="p">[</span><span class="s">&#39;mean&#39;</span><span class="p">,</span> <span class="s">&#39;median&#39;</span><span class="p">,</span> <span class="s">&#39;count&#39;</span><span class="p">],</span>
    <span class="s">&#39;Age&#39;</span><span class="p">:</span> <span class="p">[</span><span class="s">&#39;min&#39;</span><span class="p">,</span> <span class="s">&#39;max&#39;</span><span class="p">],</span>
    <span class="s">&#39;DisplayName&#39;</span><span class="p">:</span> <span class="p">[</span><span class="n">distinct</span><span class="p">]</span>
<span class="p">}</span>

<span class="n">grouped</span><span class="o">.</span><span class="n">agg</span><span class="p">(</span><span class="n">statistics</span><span class="p">)</span>
</pre></div>

</div>
</div>

<div class="vbox output_wrapper">
<div class="output vbox">


<div class="hbox output_area"><div class="prompt output_prompt">
    Out[127]:</div>
<div class="box-flex1 output_subarea output_pyout">

<div class="output_html rendered_html">
<div style="max-height:1000px;max-width:1500px;overflow:auto;">
<table border="1" class="dataframe">
  <thead>
    <tr>
      <th></th>
      <th colspan="2" halign="left">Age</th>
      <th colspan="3" halign="left">Score</th>
      <th>DisplayName</th>
    </tr>
    <tr>
      <th></th>
      <th>min</th>
      <th>max</th>
      <th>mean</th>
      <th>median</th>
      <th>count</th>
      <th>distinct</th>
    </tr>
    <tr>
      <th>Reputation</th>
      <th></th>
      <th></th>
      <th></th>
      <th></th>
      <th></th>
      <th></th>
    </tr>
  </thead>
  <tbody>
    <tr>
      <th>(0, 100]</th>
      <td> 23</td>
      <td> 45</td>
      <td> 0.966667</td>
      <td> 0</td>
      <td> 120</td>
      <td>  87</td>
    </tr>
    <tr>
      <th>(100, 1000]</th>
      <td> 17</td>
      <td> 46</td>
      <td> 1.413502</td>
      <td> 1</td>
      <td> 237</td>
      <td> 111</td>
    </tr>
    <tr>
      <th>(1000, 10000]</th>
      <td> 19</td>
      <td> 49</td>
      <td> 1.978289</td>
      <td> 1</td>
      <td> 783</td>
      <td>  83</td>
    </tr>
    <tr>
      <th>(10000, 1000000]</th>
      <td> 24</td>
      <td> 64</td>
      <td> 2.470899</td>
      <td> 2</td>
      <td> 189</td>
      <td>  38</td>
    </tr>
  </tbody>
</table>
</div>
</div>

</div>
</div>

</div>
</div>

</div>
<div class="cell border-box-sizing code_cell vbox">
<div class="input hbox">
<div class="prompt input_prompt">
In&nbsp;[128]:
</div>
<div class="input_area box-flex1">
<div class="highlight"><pre><span class="n">users</span><span class="o">.</span><span class="n">irow</span><span class="p">(</span><span class="n">users</span><span class="o">.</span><span class="n">Reputation</span><span class="o">.</span><span class="n">argmax</span><span class="p">())</span>
</pre></div>

</div>
</div>

<div class="vbox output_wrapper">
<div class="output vbox">


<div class="hbox output_area"><div class="prompt output_prompt">
    Out[128]:</div>
<div class="box-flex1 output_subarea output_pyout">


<pre>
Id                                                            20862
Reputation                                                   220371
CreationDate                                    2008-09-23 02:06:20
DisplayName                                  Ignacio Vazquez-Abrams
LastAccessDate                                  2013-02-02 22:20:15
WebsiteUrl                                                      NaN
Location                                                        NaN
AboutMe           &lt;p&gt;&lt;a href=&quot;http://whathaveyoutried.com/&quot; rel=...
Views                                                          5231
UpVotes                                                        1426
DownVotes                                                        63
EmailHash                          2343ae368d3241278581ce6c87f62a25
Age                                                             NaN
Name: 532, dtype: object
</pre>

</div>
</div>

</div>
</div>

</div>
<div class="text_cell_render border-box-sizing rendered_html">
<h2 id="new-dataset-time">New dataset time!</h2>
</div>
<div class="cell border-box-sizing code_cell vbox">
<div class="input hbox">
<div class="prompt input_prompt">
In&nbsp;[129]:
</div>
<div class="input_area box-flex1">
<div class="highlight"><pre><span class="kn">import</span> <span class="nn">json</span>
<span class="n">path</span> <span class="o">=</span> <span class="s">&#39;foods-2011-10-03.json&#39;</span>

<span class="n">db</span> <span class="o">=</span> <span class="n">json</span><span class="o">.</span><span class="n">load</span><span class="p">(</span><span class="nb">open</span><span class="p">(</span><span class="n">path</span><span class="p">))</span>
</pre></div>

</div>
</div>

</div>
<div class="cell border-box-sizing code_cell vbox">
<div class="input hbox">
<div class="prompt input_prompt">
In&nbsp;[130]:
</div>
<div class="input_area box-flex1">
<div class="highlight"><pre><span class="k">print</span> <span class="nb">type</span><span class="p">(</span><span class="n">db</span><span class="p">)</span>
<span class="nb">len</span><span class="p">(</span><span class="n">db</span><span class="p">)</span>
</pre></div>

</div>
</div>

<div class="vbox output_wrapper">
<div class="output vbox">


<div class="hbox output_area"><div class="prompt"></div>
<div class="box-flex1 output_subarea output_stream output_stdout">
<pre>
&lt;type &apos;list&apos;&gt;

</pre>
</div>
</div>

<div class="hbox output_area"><div class="prompt output_prompt">
    Out[130]:</div>
<div class="box-flex1 output_subarea output_pyout">


<pre>
6636
</pre>

</div>
</div>

</div>
</div>

</div>
<div class="cell border-box-sizing code_cell vbox">
<div class="input hbox">
<div class="prompt input_prompt">
In&nbsp;[131]:
</div>
<div class="input_area box-flex1">
<div class="highlight"><pre><span class="n">db</span><span class="p">[</span><span class="mi">0</span><span class="p">]</span>
</pre></div>

</div>
</div>

<div class="vbox output_wrapper">
<div class="output vbox">


<div class="hbox output_area"><div class="prompt output_prompt">
    Out[131]:</div>
<div class="box-flex1 output_subarea output_pyout">


<pre>
{u&apos;description&apos;: u&apos;Cheese, caraway&apos;,
 u&apos;group&apos;: u&apos;Dairy and Egg Products&apos;,
 u&apos;id&apos;: 1008,
 u&apos;manufacturer&apos;: u&apos;&apos;,
 u&apos;nutrients&apos;: [{u&apos;description&apos;: u&apos;Protein&apos;,
   u&apos;group&apos;: u&apos;Composition&apos;,
   u&apos;units&apos;: u&apos;g&apos;,
   u&apos;value&apos;: 25.18},
  {u&apos;description&apos;: u&apos;Total lipid (fat)&apos;,
   u&apos;group&apos;: u&apos;Composition&apos;,
   u&apos;units&apos;: u&apos;g&apos;,
   u&apos;value&apos;: 29.2},
  {u&apos;description&apos;: u&apos;Carbohydrate, by difference&apos;,
   u&apos;group&apos;: u&apos;Composition&apos;,
   u&apos;units&apos;: u&apos;g&apos;,
   u&apos;value&apos;: 3.06},
  {u&apos;description&apos;: u&apos;Ash&apos;, u&apos;group&apos;: u&apos;Other&apos;, u&apos;units&apos;: u&apos;g&apos;, u&apos;value&apos;: 3.28},
  {u&apos;description&apos;: u&apos;Energy&apos;,
   u&apos;group&apos;: u&apos;Energy&apos;,
   u&apos;units&apos;: u&apos;kcal&apos;,
   u&apos;value&apos;: 376.0},
  {u&apos;description&apos;: u&apos;Water&apos;,
   u&apos;group&apos;: u&apos;Composition&apos;,
   u&apos;units&apos;: u&apos;g&apos;,
   u&apos;value&apos;: 39.28},
  {u&apos;description&apos;: u&apos;Energy&apos;,
   u&apos;group&apos;: u&apos;Energy&apos;,
   u&apos;units&apos;: u&apos;kJ&apos;,
   u&apos;value&apos;: 1573.0},
  {u&apos;description&apos;: u&apos;Fiber, total dietary&apos;,
   u&apos;group&apos;: u&apos;Composition&apos;,
   u&apos;units&apos;: u&apos;g&apos;,
   u&apos;value&apos;: 0.0},
  {u&apos;description&apos;: u&apos;Calcium, Ca&apos;,
   u&apos;group&apos;: u&apos;Elements&apos;,
   u&apos;units&apos;: u&apos;mg&apos;,
   u&apos;value&apos;: 673.0},
  {u&apos;description&apos;: u&apos;Iron, Fe&apos;,
   u&apos;group&apos;: u&apos;Elements&apos;,
   u&apos;units&apos;: u&apos;mg&apos;,
   u&apos;value&apos;: 0.64},
  {u&apos;description&apos;: u&apos;Magnesium, Mg&apos;,
   u&apos;group&apos;: u&apos;Elements&apos;,
   u&apos;units&apos;: u&apos;mg&apos;,
   u&apos;value&apos;: 22.0},
  {u&apos;description&apos;: u&apos;Phosphorus, P&apos;,
   u&apos;group&apos;: u&apos;Elements&apos;,
   u&apos;units&apos;: u&apos;mg&apos;,
   u&apos;value&apos;: 490.0},
  {u&apos;description&apos;: u&apos;Potassium, K&apos;,
   u&apos;group&apos;: u&apos;Elements&apos;,
   u&apos;units&apos;: u&apos;mg&apos;,
   u&apos;value&apos;: 93.0},
  {u&apos;description&apos;: u&apos;Sodium, Na&apos;,
   u&apos;group&apos;: u&apos;Elements&apos;,
   u&apos;units&apos;: u&apos;mg&apos;,
   u&apos;value&apos;: 690.0},
  {u&apos;description&apos;: u&apos;Zinc, Zn&apos;,
   u&apos;group&apos;: u&apos;Elements&apos;,
   u&apos;units&apos;: u&apos;mg&apos;,
   u&apos;value&apos;: 2.94},
  {u&apos;description&apos;: u&apos;Copper, Cu&apos;,
   u&apos;group&apos;: u&apos;Elements&apos;,
   u&apos;units&apos;: u&apos;mg&apos;,
   u&apos;value&apos;: 0.024},
  {u&apos;description&apos;: u&apos;Manganese, Mn&apos;,
   u&apos;group&apos;: u&apos;Elements&apos;,
   u&apos;units&apos;: u&apos;mg&apos;,
   u&apos;value&apos;: 0.021},
  {u&apos;description&apos;: u&apos;Selenium, Se&apos;,
   u&apos;group&apos;: u&apos;Elements&apos;,
   u&apos;units&apos;: u&apos;mcg&apos;,
   u&apos;value&apos;: 14.5},
  {u&apos;description&apos;: u&apos;Vitamin A, IU&apos;,
   u&apos;group&apos;: u&apos;Vitamins&apos;,
   u&apos;units&apos;: u&apos;IU&apos;,
   u&apos;value&apos;: 1054.0},
  {u&apos;description&apos;: u&apos;Retinol&apos;,
   u&apos;group&apos;: u&apos;Vitamins&apos;,
   u&apos;units&apos;: u&apos;mcg&apos;,
   u&apos;value&apos;: 262.0},
  {u&apos;description&apos;: u&apos;Vitamin A, RAE&apos;,
   u&apos;group&apos;: u&apos;Vitamins&apos;,
   u&apos;units&apos;: u&apos;mcg_RAE&apos;,
   u&apos;value&apos;: 271.0},
  {u&apos;description&apos;: u&apos;Vitamin C, total ascorbic acid&apos;,
   u&apos;group&apos;: u&apos;Vitamins&apos;,
   u&apos;units&apos;: u&apos;mg&apos;,
   u&apos;value&apos;: 0.0},
  {u&apos;description&apos;: u&apos;Thiamin&apos;,
   u&apos;group&apos;: u&apos;Vitamins&apos;,
   u&apos;units&apos;: u&apos;mg&apos;,
   u&apos;value&apos;: 0.031},
  {u&apos;description&apos;: u&apos;Riboflavin&apos;,
   u&apos;group&apos;: u&apos;Vitamins&apos;,
   u&apos;units&apos;: u&apos;mg&apos;,
   u&apos;value&apos;: 0.45},
  {u&apos;description&apos;: u&apos;Niacin&apos;,
   u&apos;group&apos;: u&apos;Vitamins&apos;,
   u&apos;units&apos;: u&apos;mg&apos;,
   u&apos;value&apos;: 0.18},
  {u&apos;description&apos;: u&apos;Pantothenic acid&apos;,
   u&apos;group&apos;: u&apos;Vitamins&apos;,
   u&apos;units&apos;: u&apos;mg&apos;,
   u&apos;value&apos;: 0.19},
  {u&apos;description&apos;: u&apos;Vitamin B-6&apos;,
   u&apos;group&apos;: u&apos;Vitamins&apos;,
   u&apos;units&apos;: u&apos;mg&apos;,
   u&apos;value&apos;: 0.074},
  {u&apos;description&apos;: u&apos;Folate, total&apos;,
   u&apos;group&apos;: u&apos;Vitamins&apos;,
   u&apos;units&apos;: u&apos;mcg&apos;,
   u&apos;value&apos;: 18.0},
  {u&apos;description&apos;: u&apos;Vitamin B-12&apos;,
   u&apos;group&apos;: u&apos;Vitamins&apos;,
   u&apos;units&apos;: u&apos;mcg&apos;,
   u&apos;value&apos;: 0.27},
  {u&apos;description&apos;: u&apos;Folic acid&apos;,
   u&apos;group&apos;: u&apos;Vitamins&apos;,
   u&apos;units&apos;: u&apos;mcg&apos;,
   u&apos;value&apos;: 0.0},
  {u&apos;description&apos;: u&apos;Folate, food&apos;,
   u&apos;group&apos;: u&apos;Vitamins&apos;,
   u&apos;units&apos;: u&apos;mcg&apos;,
   u&apos;value&apos;: 18.0},
  {u&apos;description&apos;: u&apos;Folate, DFE&apos;,
   u&apos;group&apos;: u&apos;Vitamins&apos;,
   u&apos;units&apos;: u&apos;mcg_DFE&apos;,
   u&apos;value&apos;: 18.0},
  {u&apos;description&apos;: u&apos;Cholesterol&apos;,
   u&apos;group&apos;: u&apos;Other&apos;,
   u&apos;units&apos;: u&apos;mg&apos;,
   u&apos;value&apos;: 93.0},
  {u&apos;description&apos;: u&apos;Fatty acids, total saturated&apos;,
   u&apos;group&apos;: u&apos;Other&apos;,
   u&apos;units&apos;: u&apos;g&apos;,
   u&apos;value&apos;: 18.584},
  {u&apos;description&apos;: u&apos;Fatty acids, total monounsaturated&apos;,
   u&apos;group&apos;: u&apos;Other&apos;,
   u&apos;units&apos;: u&apos;g&apos;,
   u&apos;value&apos;: 8.275},
  {u&apos;description&apos;: u&apos;Fatty acids, total polyunsaturated&apos;,
   u&apos;group&apos;: u&apos;Other&apos;,
   u&apos;units&apos;: u&apos;g&apos;,
   u&apos;value&apos;: 0.83},
  {u&apos;description&apos;: u&apos;Tryptophan&apos;,
   u&apos;group&apos;: u&apos;Amino Acids&apos;,
   u&apos;units&apos;: u&apos;g&apos;,
   u&apos;value&apos;: 0.324},
  {u&apos;description&apos;: u&apos;Threonine&apos;,
   u&apos;group&apos;: u&apos;Amino Acids&apos;,
   u&apos;units&apos;: u&apos;g&apos;,
   u&apos;value&apos;: 0.896},
  {u&apos;description&apos;: u&apos;Isoleucine&apos;,
   u&apos;group&apos;: u&apos;Amino Acids&apos;,
   u&apos;units&apos;: u&apos;g&apos;,
   u&apos;value&apos;: 1.563},
  {u&apos;description&apos;: u&apos;Leucine&apos;,
   u&apos;group&apos;: u&apos;Amino Acids&apos;,
   u&apos;units&apos;: u&apos;g&apos;,
   u&apos;value&apos;: 2.412},
  {u&apos;description&apos;: u&apos;Lysine&apos;,
   u&apos;group&apos;: u&apos;Amino Acids&apos;,
   u&apos;units&apos;: u&apos;g&apos;,
   u&apos;value&apos;: 2.095},
  {u&apos;description&apos;: u&apos;Methionine&apos;,
   u&apos;group&apos;: u&apos;Amino Acids&apos;,
   u&apos;units&apos;: u&apos;g&apos;,
   u&apos;value&apos;: 0.659},
  {u&apos;description&apos;: u&apos;Cystine&apos;,
   u&apos;group&apos;: u&apos;Amino Acids&apos;,
   u&apos;units&apos;: u&apos;g&apos;,
   u&apos;value&apos;: 0.126},
  {u&apos;description&apos;: u&apos;Phenylalanine&apos;,
   u&apos;group&apos;: u&apos;Amino Acids&apos;,
   u&apos;units&apos;: u&apos;g&apos;,
   u&apos;value&apos;: 1.326},
  {u&apos;description&apos;: u&apos;Tyrosine&apos;,
   u&apos;group&apos;: u&apos;Amino Acids&apos;,
   u&apos;units&apos;: u&apos;g&apos;,
   u&apos;value&apos;: 1.216},
  {u&apos;description&apos;: u&apos;Valine&apos;,
   u&apos;group&apos;: u&apos;Amino Acids&apos;,
   u&apos;units&apos;: u&apos;g&apos;,
   u&apos;value&apos;: 1.682},
  {u&apos;description&apos;: u&apos;Arginine&apos;,
   u&apos;group&apos;: u&apos;Amino Acids&apos;,
   u&apos;units&apos;: u&apos;g&apos;,
   u&apos;value&apos;: 0.952},
  {u&apos;description&apos;: u&apos;Histidine&apos;,
   u&apos;group&apos;: u&apos;Amino Acids&apos;,
   u&apos;units&apos;: u&apos;g&apos;,
   u&apos;value&apos;: 0.884},
  {u&apos;description&apos;: u&apos;Alanine&apos;,
   u&apos;group&apos;: u&apos;Amino Acids&apos;,
   u&apos;units&apos;: u&apos;g&apos;,
   u&apos;value&apos;: 0.711},
  {u&apos;description&apos;: u&apos;Aspartic acid&apos;,
   u&apos;group&apos;: u&apos;Amino Acids&apos;,
   u&apos;units&apos;: u&apos;g&apos;,
   u&apos;value&apos;: 1.618},
  {u&apos;description&apos;: u&apos;Glutamic acid&apos;,
   u&apos;group&apos;: u&apos;Amino Acids&apos;,
   u&apos;units&apos;: u&apos;g&apos;,
   u&apos;value&apos;: 6.16},
  {u&apos;description&apos;: u&apos;Glycine&apos;,
   u&apos;group&apos;: u&apos;Amino Acids&apos;,
   u&apos;units&apos;: u&apos;g&apos;,
   u&apos;value&apos;: 0.439},
  {u&apos;description&apos;: u&apos;Proline&apos;,
   u&apos;group&apos;: u&apos;Amino Acids&apos;,
   u&apos;units&apos;: u&apos;g&apos;,
   u&apos;value&apos;: 2.838},
  {u&apos;description&apos;: u&apos;Serine&apos;,
   u&apos;group&apos;: u&apos;Amino Acids&apos;,
   u&apos;units&apos;: u&apos;g&apos;,
   u&apos;value&apos;: 1.472},
  {u&apos;description&apos;: u&apos;Protein&apos;,
   u&apos;group&apos;: u&apos;Composition&apos;,
   u&apos;units&apos;: u&apos;g&apos;,
   u&apos;value&apos;: 25.18},
  {u&apos;description&apos;: u&apos;Total lipid (fat)&apos;,
   u&apos;group&apos;: u&apos;Composition&apos;,
   u&apos;units&apos;: u&apos;g&apos;,
   u&apos;value&apos;: 29.2},
  {u&apos;description&apos;: u&apos;Carbohydrate, by difference&apos;,
   u&apos;group&apos;: u&apos;Composition&apos;,
   u&apos;units&apos;: u&apos;g&apos;,
   u&apos;value&apos;: 3.06},
  {u&apos;description&apos;: u&apos;Ash&apos;, u&apos;group&apos;: u&apos;Other&apos;, u&apos;units&apos;: u&apos;g&apos;, u&apos;value&apos;: 3.28},
  {u&apos;description&apos;: u&apos;Energy&apos;,
   u&apos;group&apos;: u&apos;Energy&apos;,
   u&apos;units&apos;: u&apos;kcal&apos;,
   u&apos;value&apos;: 376.0},
  {u&apos;description&apos;: u&apos;Water&apos;,
   u&apos;group&apos;: u&apos;Composition&apos;,
   u&apos;units&apos;: u&apos;g&apos;,
   u&apos;value&apos;: 39.28},
  {u&apos;description&apos;: u&apos;Energy&apos;,
   u&apos;group&apos;: u&apos;Energy&apos;,
   u&apos;units&apos;: u&apos;kJ&apos;,
   u&apos;value&apos;: 1573.0},
  {u&apos;description&apos;: u&apos;Fiber, total dietary&apos;,
   u&apos;group&apos;: u&apos;Composition&apos;,
   u&apos;units&apos;: u&apos;g&apos;,
   u&apos;value&apos;: 0.0},
  {u&apos;description&apos;: u&apos;Calcium, Ca&apos;,
   u&apos;group&apos;: u&apos;Elements&apos;,
   u&apos;units&apos;: u&apos;mg&apos;,
   u&apos;value&apos;: 673.0},
  {u&apos;description&apos;: u&apos;Iron, Fe&apos;,
   u&apos;group&apos;: u&apos;Elements&apos;,
   u&apos;units&apos;: u&apos;mg&apos;,
   u&apos;value&apos;: 0.64},
  {u&apos;description&apos;: u&apos;Magnesium, Mg&apos;,
   u&apos;group&apos;: u&apos;Elements&apos;,
   u&apos;units&apos;: u&apos;mg&apos;,
   u&apos;value&apos;: 22.0},
  {u&apos;description&apos;: u&apos;Phosphorus, P&apos;,
   u&apos;group&apos;: u&apos;Elements&apos;,
   u&apos;units&apos;: u&apos;mg&apos;,
   u&apos;value&apos;: 490.0},
  {u&apos;description&apos;: u&apos;Potassium, K&apos;,
   u&apos;group&apos;: u&apos;Elements&apos;,
   u&apos;units&apos;: u&apos;mg&apos;,
   u&apos;value&apos;: 93.0},
  {u&apos;description&apos;: u&apos;Sodium, Na&apos;,
   u&apos;group&apos;: u&apos;Elements&apos;,
   u&apos;units&apos;: u&apos;mg&apos;,
   u&apos;value&apos;: 690.0},
  {u&apos;description&apos;: u&apos;Zinc, Zn&apos;,
   u&apos;group&apos;: u&apos;Elements&apos;,
   u&apos;units&apos;: u&apos;mg&apos;,
   u&apos;value&apos;: 2.94},
  {u&apos;description&apos;: u&apos;Copper, Cu&apos;,
   u&apos;group&apos;: u&apos;Elements&apos;,
   u&apos;units&apos;: u&apos;mg&apos;,
   u&apos;value&apos;: 0.024},
  {u&apos;description&apos;: u&apos;Manganese, Mn&apos;,
   u&apos;group&apos;: u&apos;Elements&apos;,
   u&apos;units&apos;: u&apos;mg&apos;,
   u&apos;value&apos;: 0.021},
  {u&apos;description&apos;: u&apos;Selenium, Se&apos;,
   u&apos;group&apos;: u&apos;Elements&apos;,
   u&apos;units&apos;: u&apos;mcg&apos;,
   u&apos;value&apos;: 14.5},
  {u&apos;description&apos;: u&apos;Vitamin A, IU&apos;,
   u&apos;group&apos;: u&apos;Vitamins&apos;,
   u&apos;units&apos;: u&apos;IU&apos;,
   u&apos;value&apos;: 1054.0},
  {u&apos;description&apos;: u&apos;Retinol&apos;,
   u&apos;group&apos;: u&apos;Vitamins&apos;,
   u&apos;units&apos;: u&apos;mcg&apos;,
   u&apos;value&apos;: 262.0},
  {u&apos;description&apos;: u&apos;Vitamin A, RAE&apos;,
   u&apos;group&apos;: u&apos;Vitamins&apos;,
   u&apos;units&apos;: u&apos;mcg_RAE&apos;,
   u&apos;value&apos;: 271.0},
  {u&apos;description&apos;: u&apos;Vitamin C, total ascorbic acid&apos;,
   u&apos;group&apos;: u&apos;Vitamins&apos;,
   u&apos;units&apos;: u&apos;mg&apos;,
   u&apos;value&apos;: 0.0},
  {u&apos;description&apos;: u&apos;Thiamin&apos;,
   u&apos;group&apos;: u&apos;Vitamins&apos;,
   u&apos;units&apos;: u&apos;mg&apos;,
   u&apos;value&apos;: 0.031},
  {u&apos;description&apos;: u&apos;Riboflavin&apos;,
   u&apos;group&apos;: u&apos;Vitamins&apos;,
   u&apos;units&apos;: u&apos;mg&apos;,
   u&apos;value&apos;: 0.45},
  {u&apos;description&apos;: u&apos;Niacin&apos;,
   u&apos;group&apos;: u&apos;Vitamins&apos;,
   u&apos;units&apos;: u&apos;mg&apos;,
   u&apos;value&apos;: 0.18},
  {u&apos;description&apos;: u&apos;Pantothenic acid&apos;,
   u&apos;group&apos;: u&apos;Vitamins&apos;,
   u&apos;units&apos;: u&apos;mg&apos;,
   u&apos;value&apos;: 0.19},
  {u&apos;description&apos;: u&apos;Vitamin B-6&apos;,
   u&apos;group&apos;: u&apos;Vitamins&apos;,
   u&apos;units&apos;: u&apos;mg&apos;,
   u&apos;value&apos;: 0.074},
  {u&apos;description&apos;: u&apos;Folate, total&apos;,
   u&apos;group&apos;: u&apos;Vitamins&apos;,
   u&apos;units&apos;: u&apos;mcg&apos;,
   u&apos;value&apos;: 18.0},
  {u&apos;description&apos;: u&apos;Vitamin B-12&apos;,
   u&apos;group&apos;: u&apos;Vitamins&apos;,
   u&apos;units&apos;: u&apos;mcg&apos;,
   u&apos;value&apos;: 0.27},
  {u&apos;description&apos;: u&apos;Folic acid&apos;,
   u&apos;group&apos;: u&apos;Vitamins&apos;,
   u&apos;units&apos;: u&apos;mcg&apos;,
   u&apos;value&apos;: 0.0},
  {u&apos;description&apos;: u&apos;Folate, food&apos;,
   u&apos;group&apos;: u&apos;Vitamins&apos;,
   u&apos;units&apos;: u&apos;mcg&apos;,
   u&apos;value&apos;: 18.0},
  {u&apos;description&apos;: u&apos;Folate, DFE&apos;,
   u&apos;group&apos;: u&apos;Vitamins&apos;,
   u&apos;units&apos;: u&apos;mcg_DFE&apos;,
   u&apos;value&apos;: 18.0},
  {u&apos;description&apos;: u&apos;Tryptophan&apos;,
   u&apos;group&apos;: u&apos;Amino Acids&apos;,
   u&apos;units&apos;: u&apos;g&apos;,
   u&apos;value&apos;: 0.324},
  {u&apos;description&apos;: u&apos;Threonine&apos;,
   u&apos;group&apos;: u&apos;Amino Acids&apos;,
   u&apos;units&apos;: u&apos;g&apos;,
   u&apos;value&apos;: 0.896},
  {u&apos;description&apos;: u&apos;Isoleucine&apos;,
   u&apos;group&apos;: u&apos;Amino Acids&apos;,
   u&apos;units&apos;: u&apos;g&apos;,
   u&apos;value&apos;: 1.563},
  {u&apos;description&apos;: u&apos;Leucine&apos;,
   u&apos;group&apos;: u&apos;Amino Acids&apos;,
   u&apos;units&apos;: u&apos;g&apos;,
   u&apos;value&apos;: 2.412},
  {u&apos;description&apos;: u&apos;Lysine&apos;,
   u&apos;group&apos;: u&apos;Amino Acids&apos;,
   u&apos;units&apos;: u&apos;g&apos;,
   u&apos;value&apos;: 2.095},
  {u&apos;description&apos;: u&apos;Methionine&apos;,
   u&apos;group&apos;: u&apos;Amino Acids&apos;,
   u&apos;units&apos;: u&apos;g&apos;,
   u&apos;value&apos;: 0.659},
  {u&apos;description&apos;: u&apos;Cystine&apos;,
   u&apos;group&apos;: u&apos;Amino Acids&apos;,
   u&apos;units&apos;: u&apos;g&apos;,
   u&apos;value&apos;: 0.126},
  {u&apos;description&apos;: u&apos;Phenylalanine&apos;,
   u&apos;group&apos;: u&apos;Amino Acids&apos;,
   u&apos;units&apos;: u&apos;g&apos;,
   u&apos;value&apos;: 1.326},
  {u&apos;description&apos;: u&apos;Tyrosine&apos;,
   u&apos;group&apos;: u&apos;Amino Acids&apos;,
   u&apos;units&apos;: u&apos;g&apos;,
   u&apos;value&apos;: 1.216},
  {u&apos;description&apos;: u&apos;Valine&apos;,
   u&apos;group&apos;: u&apos;Amino Acids&apos;,
   u&apos;units&apos;: u&apos;g&apos;,
   u&apos;value&apos;: 1.682},
  {u&apos;description&apos;: u&apos;Arginine&apos;,
   u&apos;group&apos;: u&apos;Amino Acids&apos;,
   u&apos;units&apos;: u&apos;g&apos;,
   u&apos;value&apos;: 0.952},
  {u&apos;description&apos;: u&apos;Histidine&apos;,
   u&apos;group&apos;: u&apos;Amino Acids&apos;,
   u&apos;units&apos;: u&apos;g&apos;,
   u&apos;value&apos;: 0.884},
  {u&apos;description&apos;: u&apos;Alanine&apos;,
   u&apos;group&apos;: u&apos;Amino Acids&apos;,
   u&apos;units&apos;: u&apos;g&apos;,
   u&apos;value&apos;: 0.711},
  {u&apos;description&apos;: u&apos;Aspartic acid&apos;,
   u&apos;group&apos;: u&apos;Amino Acids&apos;,
   u&apos;units&apos;: u&apos;g&apos;,
   u&apos;value&apos;: 1.618},
  {u&apos;description&apos;: u&apos;Glutamic acid&apos;,
   u&apos;group&apos;: u&apos;Amino Acids&apos;,
   u&apos;units&apos;: u&apos;g&apos;,
   u&apos;value&apos;: 6.16},
  {u&apos;description&apos;: u&apos;Glycine&apos;,
   u&apos;group&apos;: u&apos;Amino Acids&apos;,
   u&apos;units&apos;: u&apos;g&apos;,
   u&apos;value&apos;: 0.439},
  {u&apos;description&apos;: u&apos;Proline&apos;,
   u&apos;group&apos;: u&apos;Amino Acids&apos;,
   u&apos;units&apos;: u&apos;g&apos;,
   u&apos;value&apos;: 2.838},
  {u&apos;description&apos;: u&apos;Serine&apos;,
   u&apos;group&apos;: u&apos;Amino Acids&apos;,
   u&apos;units&apos;: u&apos;g&apos;,
   u&apos;value&apos;: 1.472},
  {u&apos;description&apos;: u&apos;Cholesterol&apos;,
   u&apos;group&apos;: u&apos;Other&apos;,
   u&apos;units&apos;: u&apos;mg&apos;,
   u&apos;value&apos;: 93.0},
  {u&apos;description&apos;: u&apos;Fatty acids, total saturated&apos;,
   u&apos;group&apos;: u&apos;Other&apos;,
   u&apos;units&apos;: u&apos;g&apos;,
   u&apos;value&apos;: 18.584},
  {u&apos;description&apos;: u&apos;Fatty acids, total monounsaturated&apos;,
   u&apos;group&apos;: u&apos;Other&apos;,
   u&apos;units&apos;: u&apos;g&apos;,
   u&apos;value&apos;: 8.275},
  {u&apos;description&apos;: u&apos;Fatty acids, total polyunsaturated&apos;,
   u&apos;group&apos;: u&apos;Other&apos;,
   u&apos;units&apos;: u&apos;g&apos;,
   u&apos;value&apos;: 0.83},
  {u&apos;description&apos;: u&apos;Protein&apos;,
   u&apos;group&apos;: u&apos;Composition&apos;,
   u&apos;units&apos;: u&apos;g&apos;,
   u&apos;value&apos;: 25.18},
  {u&apos;description&apos;: u&apos;Total lipid (fat)&apos;,
   u&apos;group&apos;: u&apos;Composition&apos;,
   u&apos;units&apos;: u&apos;g&apos;,
   u&apos;value&apos;: 29.2},
  {u&apos;description&apos;: u&apos;Carbohydrate, by difference&apos;,
   u&apos;group&apos;: u&apos;Composition&apos;,
   u&apos;units&apos;: u&apos;g&apos;,
   u&apos;value&apos;: 3.06},
  {u&apos;description&apos;: u&apos;Ash&apos;, u&apos;group&apos;: u&apos;Other&apos;, u&apos;units&apos;: u&apos;g&apos;, u&apos;value&apos;: 3.28},
  {u&apos;description&apos;: u&apos;Energy&apos;,
   u&apos;group&apos;: u&apos;Energy&apos;,
   u&apos;units&apos;: u&apos;kcal&apos;,
   u&apos;value&apos;: 376.0},
  {u&apos;description&apos;: u&apos;Water&apos;,
   u&apos;group&apos;: u&apos;Composition&apos;,
   u&apos;units&apos;: u&apos;g&apos;,
   u&apos;value&apos;: 39.28},
  {u&apos;description&apos;: u&apos;Energy&apos;,
   u&apos;group&apos;: u&apos;Energy&apos;,
   u&apos;units&apos;: u&apos;kJ&apos;,
   u&apos;value&apos;: 1573.0},
  {u&apos;description&apos;: u&apos;Fiber, total dietary&apos;,
   u&apos;group&apos;: u&apos;Composition&apos;,
   u&apos;units&apos;: u&apos;g&apos;,
   u&apos;value&apos;: 0.0},
  {u&apos;description&apos;: u&apos;Calcium, Ca&apos;,
   u&apos;group&apos;: u&apos;Elements&apos;,
   u&apos;units&apos;: u&apos;mg&apos;,
   u&apos;value&apos;: 673.0},
  {u&apos;description&apos;: u&apos;Iron, Fe&apos;,
   u&apos;group&apos;: u&apos;Elements&apos;,
   u&apos;units&apos;: u&apos;mg&apos;,
   u&apos;value&apos;: 0.64},
  {u&apos;description&apos;: u&apos;Magnesium, Mg&apos;,
   u&apos;group&apos;: u&apos;Elements&apos;,
   u&apos;units&apos;: u&apos;mg&apos;,
   u&apos;value&apos;: 22.0},
  {u&apos;description&apos;: u&apos;Phosphorus, P&apos;,
   u&apos;group&apos;: u&apos;Elements&apos;,
   u&apos;units&apos;: u&apos;mg&apos;,
   u&apos;value&apos;: 490.0},
  {u&apos;description&apos;: u&apos;Potassium, K&apos;,
   u&apos;group&apos;: u&apos;Elements&apos;,
   u&apos;units&apos;: u&apos;mg&apos;,
   u&apos;value&apos;: 93.0},
  {u&apos;description&apos;: u&apos;Sodium, Na&apos;,
   u&apos;group&apos;: u&apos;Elements&apos;,
   u&apos;units&apos;: u&apos;mg&apos;,
   u&apos;value&apos;: 690.0},
  {u&apos;description&apos;: u&apos;Zinc, Zn&apos;,
   u&apos;group&apos;: u&apos;Elements&apos;,
   u&apos;units&apos;: u&apos;mg&apos;,
   u&apos;value&apos;: 2.94},
  {u&apos;description&apos;: u&apos;Copper, Cu&apos;,
   u&apos;group&apos;: u&apos;Elements&apos;,
   u&apos;units&apos;: u&apos;mg&apos;,
   u&apos;value&apos;: 0.024},
  {u&apos;description&apos;: u&apos;Manganese, Mn&apos;,
   u&apos;group&apos;: u&apos;Elements&apos;,
   u&apos;units&apos;: u&apos;mg&apos;,
   u&apos;value&apos;: 0.021},
  {u&apos;description&apos;: u&apos;Selenium, Se&apos;,
   u&apos;group&apos;: u&apos;Elements&apos;,
   u&apos;units&apos;: u&apos;mcg&apos;,
   u&apos;value&apos;: 14.5},
  {u&apos;description&apos;: u&apos;Vitamin A, IU&apos;,
   u&apos;group&apos;: u&apos;Vitamins&apos;,
   u&apos;units&apos;: u&apos;IU&apos;,
   u&apos;value&apos;: 1054.0},
  {u&apos;description&apos;: u&apos;Retinol&apos;,
   u&apos;group&apos;: u&apos;Vitamins&apos;,
   u&apos;units&apos;: u&apos;mcg&apos;,
   u&apos;value&apos;: 262.0},
  {u&apos;description&apos;: u&apos;Vitamin A, RAE&apos;,
   u&apos;group&apos;: u&apos;Vitamins&apos;,
   u&apos;units&apos;: u&apos;mcg_RAE&apos;,
   u&apos;value&apos;: 271.0},
  {u&apos;description&apos;: u&apos;Vitamin C, total ascorbic acid&apos;,
   u&apos;group&apos;: u&apos;Vitamins&apos;,
   u&apos;units&apos;: u&apos;mg&apos;,
   u&apos;value&apos;: 0.0},
  {u&apos;description&apos;: u&apos;Thiamin&apos;,
   u&apos;group&apos;: u&apos;Vitamins&apos;,
   u&apos;units&apos;: u&apos;mg&apos;,
   u&apos;value&apos;: 0.031},
  {u&apos;description&apos;: u&apos;Riboflavin&apos;,
   u&apos;group&apos;: u&apos;Vitamins&apos;,
   u&apos;units&apos;: u&apos;mg&apos;,
   u&apos;value&apos;: 0.45},
  {u&apos;description&apos;: u&apos;Niacin&apos;,
   u&apos;group&apos;: u&apos;Vitamins&apos;,
   u&apos;units&apos;: u&apos;mg&apos;,
   u&apos;value&apos;: 0.18},
  {u&apos;description&apos;: u&apos;Pantothenic acid&apos;,
   u&apos;group&apos;: u&apos;Vitamins&apos;,
   u&apos;units&apos;: u&apos;mg&apos;,
   u&apos;value&apos;: 0.19},
  {u&apos;description&apos;: u&apos;Vitamin B-6&apos;,
   u&apos;group&apos;: u&apos;Vitamins&apos;,
   u&apos;units&apos;: u&apos;mg&apos;,
   u&apos;value&apos;: 0.074},
  {u&apos;description&apos;: u&apos;Folate, total&apos;,
   u&apos;group&apos;: u&apos;Vitamins&apos;,
   u&apos;units&apos;: u&apos;mcg&apos;,
   u&apos;value&apos;: 18.0},
  {u&apos;description&apos;: u&apos;Vitamin B-12&apos;,
   u&apos;group&apos;: u&apos;Vitamins&apos;,
   u&apos;units&apos;: u&apos;mcg&apos;,
   u&apos;value&apos;: 0.27},
  {u&apos;description&apos;: u&apos;Folic acid&apos;,
   u&apos;group&apos;: u&apos;Vitamins&apos;,
   u&apos;units&apos;: u&apos;mcg&apos;,
   u&apos;value&apos;: 0.0},
  {u&apos;description&apos;: u&apos;Folate, food&apos;,
   u&apos;group&apos;: u&apos;Vitamins&apos;,
   u&apos;units&apos;: u&apos;mcg&apos;,
   u&apos;value&apos;: 18.0},
  {u&apos;description&apos;: u&apos;Folate, DFE&apos;,
   u&apos;group&apos;: u&apos;Vitamins&apos;,
   u&apos;units&apos;: u&apos;mcg_DFE&apos;,
   u&apos;value&apos;: 18.0},
  {u&apos;description&apos;: u&apos;Tryptophan&apos;,
   u&apos;group&apos;: u&apos;Amino Acids&apos;,
   u&apos;units&apos;: u&apos;g&apos;,
   u&apos;value&apos;: 0.324},
  {u&apos;description&apos;: u&apos;Threonine&apos;,
   u&apos;group&apos;: u&apos;Amino Acids&apos;,
   u&apos;units&apos;: u&apos;g&apos;,
   u&apos;value&apos;: 0.896},
  {u&apos;description&apos;: u&apos;Isoleucine&apos;,
   u&apos;group&apos;: u&apos;Amino Acids&apos;,
   u&apos;units&apos;: u&apos;g&apos;,
   u&apos;value&apos;: 1.563},
  {u&apos;description&apos;: u&apos;Leucine&apos;,
   u&apos;group&apos;: u&apos;Amino Acids&apos;,
   u&apos;units&apos;: u&apos;g&apos;,
   u&apos;value&apos;: 2.412},
  {u&apos;description&apos;: u&apos;Lysine&apos;,
   u&apos;group&apos;: u&apos;Amino Acids&apos;,
   u&apos;units&apos;: u&apos;g&apos;,
   u&apos;value&apos;: 2.095},
  {u&apos;description&apos;: u&apos;Methionine&apos;,
   u&apos;group&apos;: u&apos;Amino Acids&apos;,
   u&apos;units&apos;: u&apos;g&apos;,
   u&apos;value&apos;: 0.659},
  {u&apos;description&apos;: u&apos;Cystine&apos;,
   u&apos;group&apos;: u&apos;Amino Acids&apos;,
   u&apos;units&apos;: u&apos;g&apos;,
   u&apos;value&apos;: 0.126},
  {u&apos;description&apos;: u&apos;Phenylalanine&apos;,
   u&apos;group&apos;: u&apos;Amino Acids&apos;,
   u&apos;units&apos;: u&apos;g&apos;,
   u&apos;value&apos;: 1.326},
  {u&apos;description&apos;: u&apos;Tyrosine&apos;,
   u&apos;group&apos;: u&apos;Amino Acids&apos;,
   u&apos;units&apos;: u&apos;g&apos;,
   u&apos;value&apos;: 1.216},
  {u&apos;description&apos;: u&apos;Valine&apos;,
   u&apos;group&apos;: u&apos;Amino Acids&apos;,
   u&apos;units&apos;: u&apos;g&apos;,
   u&apos;value&apos;: 1.682},
  {u&apos;description&apos;: u&apos;Arginine&apos;,
   u&apos;group&apos;: u&apos;Amino Acids&apos;,
   u&apos;units&apos;: u&apos;g&apos;,
   u&apos;value&apos;: 0.952},
  {u&apos;description&apos;: u&apos;Histidine&apos;,
   u&apos;group&apos;: u&apos;Amino Acids&apos;,
   u&apos;units&apos;: u&apos;g&apos;,
   u&apos;value&apos;: 0.884},
  {u&apos;description&apos;: u&apos;Alanine&apos;,
   u&apos;group&apos;: u&apos;Amino Acids&apos;,
   u&apos;units&apos;: u&apos;g&apos;,
   u&apos;value&apos;: 0.711},
  {u&apos;description&apos;: u&apos;Aspartic acid&apos;,
   u&apos;group&apos;: u&apos;Amino Acids&apos;,
   u&apos;units&apos;: u&apos;g&apos;,
   u&apos;value&apos;: 1.618},
  {u&apos;description&apos;: u&apos;Glutamic acid&apos;,
   u&apos;group&apos;: u&apos;Amino Acids&apos;,
   u&apos;units&apos;: u&apos;g&apos;,
   u&apos;value&apos;: 6.16},
  {u&apos;description&apos;: u&apos;Glycine&apos;,
   u&apos;group&apos;: u&apos;Amino Acids&apos;,
   u&apos;units&apos;: u&apos;g&apos;,
   u&apos;value&apos;: 0.439},
  {u&apos;description&apos;: u&apos;Proline&apos;,
   u&apos;group&apos;: u&apos;Amino Acids&apos;,
   u&apos;units&apos;: u&apos;g&apos;,
   u&apos;value&apos;: 2.838},
  {u&apos;description&apos;: u&apos;Serine&apos;,
   u&apos;group&apos;: u&apos;Amino Acids&apos;,
   u&apos;units&apos;: u&apos;g&apos;,
   u&apos;value&apos;: 1.472},
  {u&apos;description&apos;: u&apos;Cholesterol&apos;,
   u&apos;group&apos;: u&apos;Other&apos;,
   u&apos;units&apos;: u&apos;mg&apos;,
   u&apos;value&apos;: 93.0},
  {u&apos;description&apos;: u&apos;Fatty acids, total saturated&apos;,
   u&apos;group&apos;: u&apos;Other&apos;,
   u&apos;units&apos;: u&apos;g&apos;,
   u&apos;value&apos;: 18.584},
  {u&apos;description&apos;: u&apos;Fatty acids, total monounsaturated&apos;,
   u&apos;group&apos;: u&apos;Other&apos;,
   u&apos;units&apos;: u&apos;g&apos;,
   u&apos;value&apos;: 8.275},
  {u&apos;description&apos;: u&apos;Fatty acids, total polyunsaturated&apos;,
   u&apos;group&apos;: u&apos;Other&apos;,
   u&apos;units&apos;: u&apos;g&apos;,
   u&apos;value&apos;: 0.83}],
 u&apos;portions&apos;: [{u&apos;amount&apos;: 1, u&apos;grams&apos;: 28.35, u&apos;unit&apos;: u&apos;oz&apos;}],
 u&apos;tags&apos;: []}
</pre>

</div>
</div>

</div>
</div>

</div>
<div class="cell border-box-sizing code_cell vbox">
<div class="input hbox">
<div class="prompt input_prompt">
In&nbsp;[132]:
</div>
<div class="input_area box-flex1">
<div class="highlight"><pre><span class="n">db</span><span class="p">[</span><span class="mi">0</span><span class="p">][</span><span class="s">&#39;nutrients&#39;</span><span class="p">][</span><span class="mi">0</span><span class="p">]</span>
</pre></div>

</div>
</div>

<div class="vbox output_wrapper">
<div class="output vbox">


<div class="hbox output_area"><div class="prompt output_prompt">
    Out[132]:</div>
<div class="box-flex1 output_subarea output_pyout">


<pre>
{u&apos;description&apos;: u&apos;Protein&apos;,
 u&apos;group&apos;: u&apos;Composition&apos;,
 u&apos;units&apos;: u&apos;g&apos;,
 u&apos;value&apos;: 25.18}
</pre>

</div>
</div>

</div>
</div>

</div>
<div class="cell border-box-sizing code_cell vbox">
<div class="input hbox">
<div class="prompt input_prompt">
In&nbsp;[133]:
</div>
<div class="input_area box-flex1">
<div class="highlight"><pre><span class="n">pd</span><span class="o">.</span><span class="n">DataFrame</span><span class="p">([{</span><span class="s">&#39;a&#39;</span><span class="p">:</span> <span class="mi">1</span><span class="p">,</span> <span class="s">&#39;b&#39;</span><span class="p">:</span> <span class="mi">2</span><span class="p">},</span>
              <span class="p">{</span><span class="s">&#39;a&#39;</span><span class="p">:</span> <span class="mi">2</span><span class="p">,</span> <span class="s">&#39;b&#39;</span><span class="p">:</span> <span class="mi">3</span><span class="p">,</span> <span class="s">&#39;c&#39;</span><span class="p">:</span> <span class="mi">4</span><span class="p">}])</span>
</pre></div>

</div>
</div>

<div class="vbox output_wrapper">
<div class="output vbox">


<div class="hbox output_area"><div class="prompt output_prompt">
    Out[133]:</div>
<div class="box-flex1 output_subarea output_pyout">

<div class="output_html rendered_html">
<div style="max-height:1000px;max-width:1500px;overflow:auto;">
<table border="1" class="dataframe">
  <thead>
    <tr style="text-align: right;">
      <th></th>
      <th>a</th>
      <th>b</th>
      <th>c</th>
    </tr>
  </thead>
  <tbody>
    <tr>
      <th>0</th>
      <td> 1</td>
      <td> 2</td>
      <td>NaN</td>
    </tr>
    <tr>
      <th>1</th>
      <td> 2</td>
      <td> 3</td>
      <td>  4</td>
    </tr>
  </tbody>
</table>
</div>
</div>

</div>
</div>

</div>
</div>

</div>
<div class="cell border-box-sizing code_cell vbox">
<div class="input hbox">
<div class="prompt input_prompt">
In&nbsp;[134]:
</div>
<div class="input_area box-flex1">
<div class="highlight"><pre><span class="n">pd</span><span class="o">.</span><span class="n">DataFrame</span><span class="p">(</span><span class="n">db</span><span class="p">[</span><span class="mi">0</span><span class="p">][</span><span class="s">&#39;nutrients&#39;</span><span class="p">])</span>
</pre></div>

</div>
</div>

<div class="vbox output_wrapper">
<div class="output vbox">


<div class="hbox output_area"><div class="prompt output_prompt">
    Out[134]:</div>
<div class="box-flex1 output_subarea output_pyout">

<div class="output_html rendered_html">
<pre>
&ltclass 'pandas.core.frame.DataFrame'&gt
Int64Index: 162 entries, 0 to 161
Data columns (total 4 columns):
description    162  non-null values
group          162  non-null values
units          162  non-null values
value          162  non-null values
dtypes: float64(1), object(3)
</pre>
</div>

</div>
</div>

</div>
</div>

</div>
<div class="cell border-box-sizing code_cell vbox">
<div class="input hbox">
<div class="prompt input_prompt">
In&nbsp;[135]:
</div>
<div class="input_area box-flex1">
<div class="highlight"><pre><span class="n">pd</span><span class="o">.</span><span class="n">DataFrame</span><span class="p">(</span><span class="n">db</span><span class="p">[</span><span class="mi">0</span><span class="p">][</span><span class="s">&#39;nutrients&#39;</span><span class="p">])</span><span class="o">.</span><span class="n">head</span><span class="p">()</span>
</pre></div>

</div>
</div>

<div class="vbox output_wrapper">
<div class="output vbox">


<div class="hbox output_area"><div class="prompt output_prompt">
    Out[135]:</div>
<div class="box-flex1 output_subarea output_pyout">

<div class="output_html rendered_html">
<div style="max-height:1000px;max-width:1500px;overflow:auto;">
<table border="1" class="dataframe">
  <thead>
    <tr style="text-align: right;">
      <th></th>
      <th>description</th>
      <th>group</th>
      <th>units</th>
      <th>value</th>
    </tr>
  </thead>
  <tbody>
    <tr>
      <th>0</th>
      <td>                     Protein</td>
      <td> Composition</td>
      <td>    g</td>
      <td>  25.18</td>
    </tr>
    <tr>
      <th>1</th>
      <td>           Total lipid (fat)</td>
      <td> Composition</td>
      <td>    g</td>
      <td>  29.20</td>
    </tr>
    <tr>
      <th>2</th>
      <td> Carbohydrate, by difference</td>
      <td> Composition</td>
      <td>    g</td>
      <td>   3.06</td>
    </tr>
    <tr>
      <th>3</th>
      <td>                         Ash</td>
      <td>       Other</td>
      <td>    g</td>
      <td>   3.28</td>
    </tr>
    <tr>
      <th>4</th>
      <td>                      Energy</td>
      <td>      Energy</td>
      <td> kcal</td>
      <td> 376.00</td>
    </tr>
  </tbody>
</table>
</div>
</div>

</div>
</div>

</div>
</div>

</div>
<div class="cell border-box-sizing code_cell vbox">
<div class="input hbox">
<div class="prompt input_prompt">
In&nbsp;[136]:
</div>
<div class="input_area box-flex1">
<div class="highlight"><pre><span class="n">db</span><span class="p">[</span><span class="mi">0</span><span class="p">][</span><span class="s">&#39;nutrients&#39;</span><span class="p">][</span><span class="mi">0</span><span class="p">]</span>
</pre></div>

</div>
</div>

<div class="vbox output_wrapper">
<div class="output vbox">


<div class="hbox output_area"><div class="prompt output_prompt">
    Out[136]:</div>
<div class="box-flex1 output_subarea output_pyout">


<pre>
{u&apos;description&apos;: u&apos;Protein&apos;,
 u&apos;group&apos;: u&apos;Composition&apos;,
 u&apos;units&apos;: u&apos;g&apos;,
 u&apos;value&apos;: 25.18}
</pre>

</div>
</div>

</div>
</div>

</div>
<div class="cell border-box-sizing code_cell vbox">
<div class="input hbox">
<div class="prompt input_prompt">
In&nbsp;[137]:
</div>
<div class="input_area box-flex1">
<div class="highlight"><pre><span class="n">db</span><span class="p">[</span><span class="mi">0</span><span class="p">][</span><span class="s">&#39;id&#39;</span><span class="p">]</span>
</pre></div>

</div>
</div>

<div class="vbox output_wrapper">
<div class="output vbox">


<div class="hbox output_area"><div class="prompt output_prompt">
    Out[137]:</div>
<div class="box-flex1 output_subarea output_pyout">


<pre>
1008
</pre>

</div>
</div>

</div>
</div>

</div>
<div class="cell border-box-sizing code_cell vbox">
<div class="input hbox">
<div class="prompt input_prompt">
In&nbsp;[138]:
</div>
<div class="input_area box-flex1">
<div class="highlight"><pre><span class="n">all_nutrients</span> <span class="o">=</span> <span class="p">[]</span>
<span class="k">for</span> <span class="n">rec</span> <span class="ow">in</span> <span class="n">db</span><span class="p">:</span>
    <span class="k">for</span> <span class="n">nutrient</span> <span class="ow">in</span> <span class="n">rec</span><span class="p">[</span><span class="s">&#39;nutrients&#39;</span><span class="p">]:</span>
        <span class="n">nutrient</span><span class="p">[</span><span class="s">&#39;id&#39;</span><span class="p">]</span> <span class="o">=</span> <span class="n">rec</span><span class="p">[</span><span class="s">&#39;id&#39;</span><span class="p">]</span>
        <span class="n">all_nutrients</span><span class="o">.</span><span class="n">append</span><span class="p">(</span><span class="n">nutrient</span><span class="p">)</span>

<span class="n">nutrients</span> <span class="o">=</span> <span class="n">pd</span><span class="o">.</span><span class="n">DataFrame</span><span class="p">(</span><span class="n">all_nutrients</span><span class="p">)</span>
</pre></div>

</div>
</div>

</div>
<div class="cell border-box-sizing code_cell vbox">
<div class="input hbox">
<div class="prompt input_prompt">
In&nbsp;[139]:
</div>
<div class="input_area box-flex1">
<div class="highlight"><pre><span class="n">nutrients</span><span class="o">.</span><span class="n">head</span><span class="p">()</span>
</pre></div>

</div>
</div>

<div class="vbox output_wrapper">
<div class="output vbox">


<div class="hbox output_area"><div class="prompt output_prompt">
    Out[139]:</div>
<div class="box-flex1 output_subarea output_pyout">

<div class="output_html rendered_html">
<div style="max-height:1000px;max-width:1500px;overflow:auto;">
<table border="1" class="dataframe">
  <thead>
    <tr style="text-align: right;">
      <th></th>
      <th>description</th>
      <th>group</th>
      <th>id</th>
      <th>units</th>
      <th>value</th>
    </tr>
  </thead>
  <tbody>
    <tr>
      <th>0</th>
      <td>                     Protein</td>
      <td> Composition</td>
      <td> 1008</td>
      <td>    g</td>
      <td>  25.18</td>
    </tr>
    <tr>
      <th>1</th>
      <td>           Total lipid (fat)</td>
      <td> Composition</td>
      <td> 1008</td>
      <td>    g</td>
      <td>  29.20</td>
    </tr>
    <tr>
      <th>2</th>
      <td> Carbohydrate, by difference</td>
      <td> Composition</td>
      <td> 1008</td>
      <td>    g</td>
      <td>   3.06</td>
    </tr>
    <tr>
      <th>3</th>
      <td>                         Ash</td>
      <td>       Other</td>
      <td> 1008</td>
      <td>    g</td>
      <td>   3.28</td>
    </tr>
    <tr>
      <th>4</th>
      <td>                      Energy</td>
      <td>      Energy</td>
      <td> 1008</td>
      <td> kcal</td>
      <td> 376.00</td>
    </tr>
  </tbody>
</table>
</div>
</div>

</div>
</div>

</div>
</div>

</div>
<div class="cell border-box-sizing code_cell vbox">
<div class="input hbox">
<div class="prompt input_prompt">
In&nbsp;[140]:
</div>
<div class="input_area box-flex1">
<div class="highlight"><pre><span class="n">pd</span><span class="o">.</span><span class="n">DataFrame</span><span class="p">(</span><span class="n">all_nutrients</span><span class="p">,</span> <span class="n">columns</span><span class="o">=</span><span class="p">[</span><span class="s">&#39;value&#39;</span><span class="p">])</span>
</pre></div>

</div>
</div>

<div class="vbox output_wrapper">
<div class="output vbox">


<div class="hbox output_area"><div class="prompt output_prompt">
    Out[140]:</div>
<div class="box-flex1 output_subarea output_pyout">

<div class="output_html rendered_html">
<pre>
&ltclass 'pandas.core.frame.DataFrame'&gt
Int64Index: 389355 entries, 0 to 389354
Data columns (total 1 columns):
value    389355  non-null values
dtypes: float64(1)
</pre>
</div>

</div>
</div>

</div>
</div>

</div>
<div class="cell border-box-sizing code_cell vbox">
<div class="input hbox">
<div class="prompt input_prompt">
In&nbsp;[141]:
</div>
<div class="input_area box-flex1">
<div class="highlight"><pre><span class="n">of_interest</span> <span class="o">=</span> <span class="p">[</span><span class="s">&#39;id&#39;</span><span class="p">,</span> <span class="s">&#39;description&#39;</span><span class="p">,</span> <span class="s">&#39;group&#39;</span><span class="p">]</span>
<span class="n">meta</span> <span class="o">=</span> <span class="n">pd</span><span class="o">.</span><span class="n">DataFrame</span><span class="p">(</span><span class="n">db</span><span class="p">,</span> <span class="n">columns</span><span class="o">=</span><span class="n">of_interest</span><span class="p">)</span>
<span class="n">meta</span>
</pre></div>

</div>
</div>

<div class="vbox output_wrapper">
<div class="output vbox">


<div class="hbox output_area"><div class="prompt output_prompt">
    Out[141]:</div>
<div class="box-flex1 output_subarea output_pyout">

<div class="output_html rendered_html">
<pre>
&ltclass 'pandas.core.frame.DataFrame'&gt
Int64Index: 6636 entries, 0 to 6635
Data columns (total 3 columns):
id             6636  non-null values
description    6636  non-null values
group          6636  non-null values
dtypes: int64(1), object(2)
</pre>
</div>

</div>
</div>

</div>
</div>

</div>
<div class="cell border-box-sizing code_cell vbox">
<div class="input hbox">
<div class="prompt input_prompt">
In&nbsp;[142]:
</div>
<div class="input_area box-flex1">
<div class="highlight"><pre><span class="n">nutrients</span>
</pre></div>

</div>
</div>

<div class="vbox output_wrapper">
<div class="output vbox">


<div class="hbox output_area"><div class="prompt output_prompt">
    Out[142]:</div>
<div class="box-flex1 output_subarea output_pyout">

<div class="output_html rendered_html">
<pre>
&ltclass 'pandas.core.frame.DataFrame'&gt
Int64Index: 389355 entries, 0 to 389354
Data columns (total 5 columns):
description    389355  non-null values
group          389355  non-null values
id             389355  non-null values
units          389355  non-null values
value          389355  non-null values
dtypes: float64(1), int64(1), object(3)
</pre>
</div>

</div>
</div>

</div>
</div>

</div>
<div class="cell border-box-sizing code_cell vbox">
<div class="input hbox">
<div class="prompt input_prompt">
In&nbsp;[143]:
</div>
<div class="input_area box-flex1">
<div class="highlight"><pre><span class="n">mapping</span> <span class="o">=</span> <span class="p">{</span>
    <span class="s">&#39;description&#39;</span><span class="p">:</span> <span class="s">&#39;nutrient&#39;</span><span class="p">,</span>
    <span class="s">&#39;group&#39;</span><span class="p">:</span> <span class="s">&#39;ngroup&#39;</span>
<span class="p">}</span>
<span class="n">nutrients</span> <span class="o">=</span> <span class="n">nutrients</span><span class="o">.</span><span class="n">rename</span><span class="p">(</span><span class="n">columns</span><span class="o">=</span><span class="n">mapping</span><span class="p">)</span>

<span class="c"># COULD HAVE DONE</span>
<span class="c"># nutrients.rename(columns=mapping, inplace=True)</span>

<span class="n">mapping</span> <span class="o">=</span> <span class="p">{</span>
    <span class="s">&#39;description&#39;</span><span class="p">:</span> <span class="s">&#39;food&#39;</span><span class="p">,</span>
    <span class="s">&#39;group&#39;</span><span class="p">:</span> <span class="s">&#39;fgroup&#39;</span>
<span class="p">}</span>
<span class="n">meta</span> <span class="o">=</span> <span class="n">meta</span><span class="o">.</span><span class="n">rename</span><span class="p">(</span><span class="n">columns</span><span class="o">=</span><span class="n">mapping</span><span class="p">)</span>
</pre></div>

</div>
</div>

</div>
<div class="cell border-box-sizing code_cell vbox">
<div class="input hbox">
<div class="prompt input_prompt">
In&nbsp;[144]:
</div>
<div class="input_area box-flex1">
<div class="highlight"><pre><span class="n">data</span> <span class="o">=</span> <span class="n">pd</span><span class="o">.</span><span class="n">merge</span><span class="p">(</span><span class="n">meta</span><span class="p">,</span> <span class="n">nutrients</span><span class="p">,</span> <span class="n">on</span><span class="o">=</span><span class="s">&#39;id&#39;</span><span class="p">)</span>
</pre></div>

</div>
</div>

</div>
<div class="cell border-box-sizing code_cell vbox">
<div class="input hbox">
<div class="prompt input_prompt">
In&nbsp;[145]:
</div>
<div class="input_area box-flex1">
<div class="highlight"><pre><span class="n">data</span>
</pre></div>

</div>
</div>

<div class="vbox output_wrapper">
<div class="output vbox">


<div class="hbox output_area"><div class="prompt output_prompt">
    Out[145]:</div>
<div class="box-flex1 output_subarea output_pyout">

<div class="output_html rendered_html">
<pre>
&ltclass 'pandas.core.frame.DataFrame'&gt
Int64Index: 389355 entries, 0 to 389354
Data columns (total 7 columns):
id          389355  non-null values
food        389355  non-null values
fgroup      389355  non-null values
nutrient    389355  non-null values
ngroup      389355  non-null values
units       389355  non-null values
value       389355  non-null values
dtypes: float64(1), int64(1), object(5)
</pre>
</div>

</div>
</div>

</div>
</div>

</div>
<div class="cell border-box-sizing code_cell vbox">
<div class="input hbox">
<div class="prompt input_prompt">
In&nbsp;[146]:
</div>
<div class="input_area box-flex1">
<div class="highlight"><pre><span class="n">cafdata</span> <span class="o">=</span> <span class="n">data</span><span class="p">[</span><span class="n">data</span><span class="o">.</span><span class="n">nutrient</span> <span class="o">==</span> <span class="s">&#39;Caffeine&#39;</span><span class="p">]</span>
<span class="n">cafdata</span>
</pre></div>

</div>
</div>

<div class="vbox output_wrapper">
<div class="output vbox">


<div class="hbox output_area"><div class="prompt output_prompt">
    Out[146]:</div>
<div class="box-flex1 output_subarea output_pyout">

<div class="output_html rendered_html">
<pre>
&ltclass 'pandas.core.frame.DataFrame'&gt
Int64Index: 3911 entries, 172 to 389312
Data columns (total 7 columns):
id          3911  non-null values
food        3911  non-null values
fgroup      3911  non-null values
nutrient    3911  non-null values
ngroup      3911  non-null values
units       3911  non-null values
value       3911  non-null values
dtypes: float64(1), int64(1), object(5)
</pre>
</div>

</div>
</div>

</div>
</div>

</div>
<div class="cell border-box-sizing code_cell vbox">
<div class="input hbox">
<div class="prompt input_prompt">
In&nbsp;[147]:
</div>
<div class="input_area box-flex1">
<div class="highlight"><pre><span class="n">data</span><span class="o">.</span><span class="n">ix</span><span class="p">[</span><span class="mi">172</span><span class="p">]</span>
</pre></div>

</div>
</div>

<div class="vbox output_wrapper">
<div class="output vbox">


<div class="hbox output_area"><div class="prompt output_prompt">
    Out[147]:</div>
<div class="box-flex1 output_subarea output_pyout">


<pre>
id                            1009
food               Cheese, cheddar
fgroup      Dairy and Egg Products
nutrient                  Caffeine
ngroup                       Other
units                           mg
value                            0
Name: 172, dtype: object
</pre>

</div>
</div>

</div>
</div>

</div>
<div class="cell border-box-sizing code_cell vbox">
<div class="input hbox">
<div class="prompt input_prompt">
In&nbsp;[148]:
</div>
<div class="input_area box-flex1">
<div class="highlight"><pre><span class="n">cafdata</span><span class="o">.</span><span class="n">ix</span><span class="p">[</span><span class="mi">172</span><span class="p">]</span>
</pre></div>

</div>
</div>

<div class="vbox output_wrapper">
<div class="output vbox">


<div class="hbox output_area"><div class="prompt output_prompt">
    Out[148]:</div>
<div class="box-flex1 output_subarea output_pyout">


<pre>
id                            1009
food               Cheese, cheddar
fgroup      Dairy and Egg Products
nutrient                  Caffeine
ngroup                       Other
units                           mg
value                            0
Name: 172, dtype: object
</pre>

</div>
</div>

</div>
</div>

</div>
<div class="cell border-box-sizing code_cell vbox">
<div class="input hbox">
<div class="prompt input_prompt">
In&nbsp;[149]:
</div>
<div class="input_area box-flex1">
<div class="highlight"><pre><span class="n">cafdata</span><span class="o">.</span><span class="n">units</span><span class="o">.</span><span class="n">value_counts</span><span class="p">()</span>
</pre></div>

</div>
</div>

<div class="vbox output_wrapper">
<div class="output vbox">


<div class="hbox output_area"><div class="prompt output_prompt">
    Out[149]:</div>
<div class="box-flex1 output_subarea output_pyout">


<pre>
mg    3911
dtype: int64
</pre>

</div>
</div>

</div>
</div>

</div>
<div class="cell border-box-sizing code_cell vbox">
<div class="input hbox">
<div class="prompt input_prompt">
In&nbsp;[150]:
</div>
<div class="input_area box-flex1">
<div class="highlight"><pre><span class="c"># MAXIMUM IN NUMPY</span>
<span class="n">cafdata</span><span class="o">.</span><span class="n">value</span><span class="o">.</span><span class="n">values</span><span class="o">.</span><span class="n">argmax</span><span class="p">()</span>
</pre></div>

</div>
</div>

<div class="vbox output_wrapper">
<div class="output vbox">


<div class="hbox output_area"><div class="prompt output_prompt">
    Out[150]:</div>
<div class="box-flex1 output_subarea output_pyout">


<pre>
3460
</pre>

</div>
</div>

</div>
</div>

</div>
<div class="cell border-box-sizing code_cell vbox">
<div class="input hbox">
<div class="prompt input_prompt">
In&nbsp;[151]:
</div>
<div class="input_area box-flex1">
<div class="highlight"><pre><span class="c"># INDEX OF THE MAXIMUM VALUE</span>
<span class="n">cafdata</span><span class="o">.</span><span class="n">value</span><span class="o">.</span><span class="n">idxmax</span><span class="p">()</span>
</pre></div>

</div>
</div>

<div class="vbox output_wrapper">
<div class="output vbox">


<div class="hbox output_area"><div class="prompt output_prompt">
    Out[151]:</div>
<div class="box-flex1 output_subarea output_pyout">


<pre>
336702
</pre>

</div>
</div>

</div>
</div>

</div>
<div class="cell border-box-sizing code_cell vbox">
<div class="input hbox">
<div class="prompt input_prompt">
In&nbsp;[152]:
</div>
<div class="input_area box-flex1">
<div class="highlight"><pre><span class="n">data</span><span class="o">.</span><span class="n">ix</span><span class="p">[</span><span class="n">cafdata</span><span class="o">.</span><span class="n">value</span><span class="o">.</span><span class="n">idxmax</span><span class="p">()]</span>
</pre></div>

</div>
</div>

<div class="vbox output_wrapper">
<div class="output vbox">


<div class="hbox output_area"><div class="prompt output_prompt">
    Out[152]:</div>
<div class="box-flex1 output_subarea output_pyout">


<pre>
id                                      14366
food        Tea, instant, unsweetened, powder
fgroup                              Beverages
nutrient                             Caffeine
ngroup                                  Other
units                                      mg
value                                    3680
Name: 336702, dtype: object
</pre>

</div>
</div>

</div>
</div>

</div>
<div class="cell border-box-sizing code_cell vbox">
<div class="input hbox">
<div class="prompt input_prompt">
In&nbsp;[153]:
</div>
<div class="input_area box-flex1">
<div class="highlight"><pre><span class="n">cafdata</span><span class="o">.</span><span class="n">dtypes</span>
</pre></div>

</div>
</div>

<div class="vbox output_wrapper">
<div class="output vbox">


<div class="hbox output_area"><div class="prompt output_prompt">
    Out[153]:</div>
<div class="box-flex1 output_subarea output_pyout">


<pre>
id            int64
food         object
fgroup       object
nutrient     object
ngroup       object
units        object
value       float64
dtype: object
</pre>

</div>
</div>

</div>
</div>

</div>
<div class="cell border-box-sizing code_cell vbox">
<div class="input hbox">
<div class="prompt input_prompt">
In&nbsp;[154]:
</div>
<div class="input_area box-flex1">
<div class="highlight"><pre><span class="k">def</span> <span class="nf">max_value</span><span class="p">(</span><span class="n">group</span><span class="p">):</span>
    <span class="k">return</span> <span class="n">group</span><span class="o">.</span><span class="n">ix</span><span class="p">[</span><span class="n">group</span><span class="p">[</span><span class="s">&#39;value&#39;</span><span class="p">]</span><span class="o">.</span><span class="n">idxmax</span><span class="p">()]</span>

<span class="n">max_value</span><span class="p">(</span><span class="n">cafdata</span><span class="p">)</span>
</pre></div>

</div>
</div>

<div class="vbox output_wrapper">
<div class="output vbox">


<div class="hbox output_area"><div class="prompt output_prompt">
    Out[154]:</div>
<div class="box-flex1 output_subarea output_pyout">


<pre>
id                                      14366
food        Tea, instant, unsweetened, powder
fgroup                              Beverages
nutrient                             Caffeine
ngroup                                  Other
units                                      mg
value                                    3680
Name: 336702, dtype: object
</pre>

</div>
</div>

</div>
</div>

</div>
<div class="cell border-box-sizing code_cell vbox">
<div class="input hbox">
<div class="prompt input_prompt">
In&nbsp;[156]:
</div>
<div class="input_area box-flex1">
<div class="highlight"><pre><span class="n">cafdata</span><span class="o">.</span><span class="n">groupby</span><span class="p">(</span><span class="s">&#39;fgroup&#39;</span><span class="p">)</span><span class="o">.</span><span class="n">apply</span><span class="p">(</span><span class="n">max_value</span><span class="p">)</span><span class="o">.</span><span class="n">dtypes</span>
</pre></div>

</div>
</div>

<div class="vbox output_wrapper">
<div class="output vbox">


<div class="hbox output_area"><div class="prompt output_prompt">
    Out[156]:</div>
<div class="box-flex1 output_subarea output_pyout">


<pre>
id          object
food        object
fgroup      object
nutrient    object
ngroup      object
units       object
value       object
dtype: object
</pre>

</div>
</div>

</div>
</div>

</div>
<div class="cell border-box-sizing code_cell vbox">
<div class="input hbox">
<div class="prompt input_prompt">
In&nbsp;[157]:
</div>
<div class="input_area box-flex1">
<div class="highlight"><pre><span class="n">cafdata</span><span class="o">.</span><span class="n">groupby</span><span class="p">(</span><span class="s">&#39;fgroup&#39;</span><span class="p">)</span><span class="o">.</span><span class="n">apply</span><span class="p">(</span><span class="n">max_value</span><span class="p">)</span>
</pre></div>

</div>
</div>

<div class="vbox output_wrapper">
<div class="output vbox">


<div class="hbox output_area"><div class="prompt output_prompt">
    Out[157]:</div>
<div class="box-flex1 output_subarea output_pyout">

<div class="output_html rendered_html">
<div style="max-height:1000px;max-width:1500px;overflow:auto;">
<table border="1" class="dataframe">
  <thead>
    <tr style="text-align: right;">
      <th></th>
      <th>id</th>
      <th>food</th>
      <th>fgroup</th>
      <th>nutrient</th>
      <th>ngroup</th>
      <th>units</th>
      <th>value</th>
    </tr>
    <tr>
      <th>fgroup</th>
      <th></th>
      <th></th>
      <th></th>
      <th></th>
      <th></th>
      <th></th>
      <th></th>
    </tr>
  </thead>
  <tbody>
    <tr>
      <th>Baby Foods</th>
      <td>  3008</td>
      <td>                     Babyfood, meat, ham, strained</td>
      <td>                        Baby Foods</td>
      <td> Caffeine</td>
      <td> Other</td>
      <td> mg</td>
      <td>    0</td>
    </tr>
    <tr>
      <th>Baked Products</th>
      <td> 18174</td>
      <td>        Cookies, graham crackers, chocolate-coated</td>
      <td>                    Baked Products</td>
      <td> Caffeine</td>
      <td> Other</td>
      <td> mg</td>
      <td>   46</td>
    </tr>
    <tr>
      <th>Beef Products</th>
      <td> 13000</td>
      <td>     Beef, grass-fed, strip steaks, lean only, raw</td>
      <td>                     Beef Products</td>
      <td> Caffeine</td>
      <td> Other</td>
      <td> mg</td>
      <td>    0</td>
    </tr>
    <tr>
      <th>Beverages</th>
      <td> 14366</td>
      <td>                 Tea, instant, unsweetened, powder</td>
      <td>                         Beverages</td>
      <td> Caffeine</td>
      <td> Other</td>
      <td> mg</td>
      <td> 3680</td>
    </tr>
    <tr>
      <th>Breakfast Cereals</th>
      <td>  8294</td>
      <td> Cereals ready-to-eat, QUAKER, QUAKER COCOA BLASTS</td>
      <td>                 Breakfast Cereals</td>
      <td> Caffeine</td>
      <td> Other</td>
      <td> mg</td>
      <td>   21</td>
    </tr>
    <tr>
      <th>Cereal Grains and Pasta</th>
      <td> 20004</td>
      <td>                                    Barley, hulled</td>
      <td>           Cereal Grains and Pasta</td>
      <td> Caffeine</td>
      <td> Other</td>
      <td> mg</td>
      <td>    0</td>
    </tr>
    <tr>
      <th>Dairy and Egg Products</th>
      <td> 43260</td>
      <td> Beverage, instant breakfast powder, chocolate,...</td>
      <td>            Dairy and Egg Products</td>
      <td> Caffeine</td>
      <td> Other</td>
      <td> mg</td>
      <td>   52</td>
    </tr>
    <tr>
      <th>Ethnic Foods</th>
      <td> 35009</td>
      <td>        Whale, beluga, meat, dried (Alaska Native)</td>
      <td>                      Ethnic Foods</td>
      <td> Caffeine</td>
      <td> Other</td>
      <td> mg</td>
      <td>    0</td>
    </tr>
    <tr>
      <th>Fast Foods</th>
      <td> 21030</td>
      <td>               Fast foods, cookies, chocolate chip</td>
      <td>                        Fast Foods</td>
      <td> Caffeine</td>
      <td> Other</td>
      <td> mg</td>
      <td>   11</td>
    </tr>
    <tr>
      <th>Fats and Oils</th>
      <td>  2050</td>
      <td>                                              Lard</td>
      <td>                     Fats and Oils</td>
      <td> Caffeine</td>
      <td> Other</td>
      <td> mg</td>
      <td>    0</td>
    </tr>
    <tr>
      <th>Finfish and Shellfish Products</th>
      <td> 15001</td>
      <td>                      Fish, anchovy, european, raw</td>
      <td>    Finfish and Shellfish Products</td>
      <td> Caffeine</td>
      <td> Other</td>
      <td> mg</td>
      <td>    0</td>
    </tr>
    <tr>
      <th>Fruits and Fruit Juices</th>
      <td>  9002</td>
      <td>                                Acerola juice, raw</td>
      <td>           Fruits and Fruit Juices</td>
      <td> Caffeine</td>
      <td> Other</td>
      <td> mg</td>
      <td>    0</td>
    </tr>
    <tr>
      <th>Lamb, Veal, and Game Products</th>
      <td> 17094</td>
      <td> Veal, leg (top round), separable lean and fat,...</td>
      <td>     Lamb, Veal, and Game Products</td>
      <td> Caffeine</td>
      <td> Other</td>
      <td> mg</td>
      <td>    0</td>
    </tr>
    <tr>
      <th>Legumes and Legume Products</th>
      <td> 16166</td>
      <td>                   Soymilk, chocolate, unfortified</td>
      <td>       Legumes and Legume Products</td>
      <td> Caffeine</td>
      <td> Other</td>
      <td> mg</td>
      <td>    2</td>
    </tr>
    <tr>
      <th>Meals, Entrees, and Sidedishes</th>
      <td> 22247</td>
      <td>                Macaroni and Cheese, canned entree</td>
      <td>    Meals, Entrees, and Sidedishes</td>
      <td> Caffeine</td>
      <td> Other</td>
      <td> mg</td>
      <td>    0</td>
    </tr>
    <tr>
      <th>Nut and Seed Products</th>
      <td> 12014</td>
      <td>     Seeds, pumpkin and squash seed kernels, dried</td>
      <td>             Nut and Seed Products</td>
      <td> Caffeine</td>
      <td> Other</td>
      <td> mg</td>
      <td>    0</td>
    </tr>
    <tr>
      <th>Pork Products</th>
      <td> 10000</td>
      <td> Pork, fresh, enhanced, composite of separable ...</td>
      <td>                     Pork Products</td>
      <td> Caffeine</td>
      <td> Other</td>
      <td> mg</td>
      <td>    0</td>
    </tr>
    <tr>
      <th>Poultry Products</th>
      <td>  5008</td>
      <td> Chicken, broilers or fryers, meat and skin, co...</td>
      <td>                  Poultry Products</td>
      <td> Caffeine</td>
      <td> Other</td>
      <td> mg</td>
      <td>    0</td>
    </tr>
    <tr>
      <th>Restaurant Foods</th>
      <td> 36617</td>
      <td>                Restaurant, Chinese, lemon chicken</td>
      <td>                  Restaurant Foods</td>
      <td> Caffeine</td>
      <td> Other</td>
      <td> mg</td>
      <td>    0</td>
    </tr>
    <tr>
      <th>Sausages and Luncheon Meats</th>
      <td>  7008</td>
      <td>                            Bologna, beef and pork</td>
      <td>       Sausages and Luncheon Meats</td>
      <td> Caffeine</td>
      <td> Other</td>
      <td> mg</td>
      <td>    0</td>
    </tr>
    <tr>
      <th>Snacks</th>
      <td> 25031</td>
      <td> Formulated bar, ZONE PERFECT CLASSIC CRUNCH BA...</td>
      <td>                            Snacks</td>
      <td> Caffeine</td>
      <td> Other</td>
      <td> mg</td>
      <td>   11</td>
    </tr>
    <tr>
      <th>Soups, Sauces, and Gravies</th>
      <td>  3073</td>
      <td>       Soup, cream of asparagus, canned, condensed</td>
      <td>        Soups, Sauces, and Gravies</td>
      <td> Caffeine</td>
      <td> Other</td>
      <td> mg</td>
      <td>    0</td>
    </tr>
    <tr>
      <th>Spices and Herbs</th>
      <td>  1025</td>
      <td>                          Spices, allspice, ground</td>
      <td>                  Spices and Herbs</td>
      <td> Caffeine</td>
      <td> Other</td>
      <td> mg</td>
      <td>    0</td>
    </tr>
    <tr>
      <th>Sweets</th>
      <td> 19268</td>
      <td>       Candies, dark chocolate coated coffee beans</td>
      <td>                            Sweets</td>
      <td> Caffeine</td>
      <td> Other</td>
      <td> mg</td>
      <td>  839</td>
    </tr>
    <tr>
      <th>Vegetables and Vegetable Products</th>
      <td> 11001</td>
      <td>                      Alfalfa seeds, sprouted, raw</td>
      <td> Vegetables and Vegetable Products</td>
      <td> Caffeine</td>
      <td> Other</td>
      <td> mg</td>
      <td>    0</td>
    </tr>
  </tbody>
</table>
</div>
</div>

</div>
</div>

</div>
</div>

</div>
<div class="cell border-box-sizing code_cell vbox">
<div class="input hbox">
<div class="prompt input_prompt">
In&nbsp;[158]:
</div>
<div class="input_area box-flex1">
<div class="highlight"><pre><span class="n">grouped</span> <span class="o">=</span> <span class="n">data</span><span class="o">.</span><span class="n">groupby</span><span class="p">([</span><span class="s">&#39;nutrient&#39;</span><span class="p">,</span> <span class="s">&#39;fgroup&#39;</span><span class="p">])</span>
<span class="n">results</span> <span class="o">=</span> <span class="n">grouped</span><span class="o">.</span><span class="n">apply</span><span class="p">(</span><span class="n">max_value</span><span class="p">)</span>
<span class="n">results</span>
</pre></div>

</div>
</div>

<div class="vbox output_wrapper">
<div class="output vbox">


<div class="hbox output_area"><div class="prompt output_prompt">
    Out[158]:</div>
<div class="box-flex1 output_subarea output_pyout">

<div class="output_html rendered_html">
<pre>
&ltclass 'pandas.core.frame.DataFrame'&gt
MultiIndex: 2246 entries, (Adjusted Protein, Sweets) to (Zinc, Zn, Vegetables and Vegetable Products)
Data columns (total 7 columns):
id          2246  non-null values
food        2246  non-null values
fgroup      2246  non-null values
nutrient    2246  non-null values
ngroup      2246  non-null values
units       2246  non-null values
value       2246  non-null values
dtypes: object(7)
</pre>
</div>

</div>
</div>

</div>
</div>

</div>
<div class="cell border-box-sizing code_cell vbox">
<div class="input hbox">
<div class="prompt input_prompt">
In&nbsp;[159]:
</div>
<div class="input_area box-flex1">
<div class="highlight"><pre><span class="n">pd</span><span class="o">.</span><span class="n">options</span><span class="o">.</span><span class="n">display</span><span class="o">.</span><span class="n">line_width</span> <span class="o">=</span> <span class="mi">10000</span>
<span class="k">def</span> <span class="nf">topn</span><span class="p">(</span><span class="n">group</span><span class="p">,</span> <span class="n">by</span><span class="o">=</span><span class="bp">None</span><span class="p">,</span> <span class="n">n</span><span class="o">=</span><span class="mi">5</span><span class="p">):</span>
    <span class="k">return</span> <span class="n">group</span><span class="o">.</span><span class="n">sort</span><span class="p">(</span><span class="n">by</span><span class="p">,</span> <span class="n">ascending</span><span class="o">=</span><span class="bp">False</span><span class="p">)[:</span><span class="n">n</span><span class="p">]</span>

<span class="n">result</span> <span class="o">=</span> <span class="n">cafdata</span><span class="o">.</span><span class="n">groupby</span><span class="p">(</span><span class="s">&#39;fgroup&#39;</span><span class="p">)</span><span class="o">.</span><span class="n">apply</span><span class="p">(</span><span class="n">topn</span><span class="p">,</span> <span class="n">by</span><span class="o">=</span><span class="s">&#39;value&#39;</span><span class="p">,</span> <span class="n">n</span><span class="o">=</span><span class="mi">3</span><span class="p">)</span>
<span class="n">result</span><span class="o">.</span><span class="n">ix</span><span class="p">[</span><span class="s">&#39;Beverages&#39;</span><span class="p">]</span>
</pre></div>

</div>
</div>

<div class="vbox output_wrapper">
<div class="output vbox">


<div class="hbox output_area"><div class="prompt output_prompt">
    Out[159]:</div>
<div class="box-flex1 output_subarea output_pyout">

<div class="output_html rendered_html">
<div style="max-height:1000px;max-width:1500px;overflow:auto;">
<table border="1" class="dataframe">
  <thead>
    <tr style="text-align: right;">
      <th></th>
      <th>id</th>
      <th>food</th>
      <th>fgroup</th>
      <th>nutrient</th>
      <th>ngroup</th>
      <th>units</th>
      <th>value</th>
    </tr>
  </thead>
  <tbody>
    <tr>
      <th>336702</th>
      <td> 14366</td>
      <td>                 Tea, instant, unsweetened, powder</td>
      <td> Beverages</td>
      <td> Caffeine</td>
      <td> Other</td>
      <td> mg</td>
      <td> 3680</td>
    </tr>
    <tr>
      <th>334542</th>
      <td> 14214</td>
      <td>                  Coffee, instant, regular, powder</td>
      <td> Beverages</td>
      <td> Caffeine</td>
      <td> Other</td>
      <td> mg</td>
      <td> 3142</td>
    </tr>
    <tr>
      <th>336913</th>
      <td> 14375</td>
      <td> Tea, instant, sweetened with sodium saccharin,...</td>
      <td> Beverages</td>
      <td> Caffeine</td>
      <td> Other</td>
      <td> mg</td>
      <td> 2240</td>
    </tr>
  </tbody>
</table>
</div>
</div>

</div>
</div>

</div>
</div>

</div>
<div class="cell border-box-sizing code_cell vbox">
<div class="input hbox">
<div class="prompt input_prompt">
In&nbsp;[160]:
</div>
<div class="input_area box-flex1">
<div class="highlight"><pre><span class="n">data</span><span class="o">.</span><span class="n">nutrient</span><span class="o">.</span><span class="n">unique</span><span class="p">()</span>
</pre></div>

</div>
</div>

<div class="vbox output_wrapper">
<div class="output vbox">


<div class="hbox output_area"><div class="prompt output_prompt">
    Out[160]:</div>
<div class="box-flex1 output_subarea output_pyout">


<pre>
array([u&apos;Protein&apos;, u&apos;Total lipid (fat)&apos;, u&apos;Carbohydrate, by difference&apos;,
       u&apos;Ash&apos;, u&apos;Energy&apos;, u&apos;Water&apos;, u&apos;Fiber, total dietary&apos;,
       u&apos;Calcium, Ca&apos;, u&apos;Iron, Fe&apos;, u&apos;Magnesium, Mg&apos;, u&apos;Phosphorus, P&apos;,
       u&apos;Potassium, K&apos;, u&apos;Sodium, Na&apos;, u&apos;Zinc, Zn&apos;, u&apos;Copper, Cu&apos;,
       u&apos;Manganese, Mn&apos;, u&apos;Selenium, Se&apos;, u&apos;Vitamin A, IU&apos;, u&apos;Retinol&apos;,
       u&apos;Vitamin A, RAE&apos;, u&apos;Vitamin C, total ascorbic acid&apos;, u&apos;Thiamin&apos;,
       u&apos;Riboflavin&apos;, u&apos;Niacin&apos;, u&apos;Pantothenic acid&apos;, u&apos;Vitamin B-6&apos;,
       u&apos;Folate, total&apos;, u&apos;Vitamin B-12&apos;, u&apos;Folic acid&apos;, u&apos;Folate, food&apos;,
       u&apos;Folate, DFE&apos;, u&apos;Cholesterol&apos;, u&apos;Fatty acids, total saturated&apos;,
       u&apos;Fatty acids, total monounsaturated&apos;,
       u&apos;Fatty acids, total polyunsaturated&apos;, u&apos;Tryptophan&apos;, u&apos;Threonine&apos;,
       u&apos;Isoleucine&apos;, u&apos;Leucine&apos;, u&apos;Lysine&apos;, u&apos;Methionine&apos;, u&apos;Cystine&apos;,
       u&apos;Phenylalanine&apos;, u&apos;Tyrosine&apos;, u&apos;Valine&apos;, u&apos;Arginine&apos;, u&apos;Histidine&apos;,
       u&apos;Alanine&apos;, u&apos;Aspartic acid&apos;, u&apos;Glutamic acid&apos;, u&apos;Glycine&apos;,
       u&apos;Proline&apos;, u&apos;Serine&apos;, u&apos;Sucrose&apos;, u&apos;Lactose&apos;, u&apos;Maltose&apos;,
       u&apos;Alcohol, ethyl&apos;, u&apos;Caffeine&apos;, u&apos;Theobromine&apos;, u&apos;Sugars, total&apos;,
       u&apos;Fluoride, F&apos;, u&apos;Carotene, beta&apos;, u&apos;Carotene, alpha&apos;,
       u&apos;Vitamin E (alpha-tocopherol)&apos;, u&apos;Vitamin D&apos;,
       u&apos;Vitamin D3 (cholecalciferol)&apos;, u&apos;Vitamin D (D2 + D3)&apos;,
       u&apos;Cryptoxanthin, beta&apos;, u&apos;Lycopene&apos;, u&apos;Lutein + zeaxanthin&apos;,
       u&apos;Tocopherol, gamma&apos;, u&apos;Tocopherol, delta&apos;, u&apos;Choline, total&apos;,
       u&apos;Vitamin K (phylloquinone)&apos;, u&apos;Betaine&apos;, u&apos;Vitamin E, added&apos;,
       u&apos;Vitamin B-12, added&apos;, u&apos;Dihydrophylloquinone&apos;,
       u&apos;Tocopherol, beta&apos;, u&apos;Phytosterols&apos;, u&apos;Glucose (dextrose)&apos;,
       u&apos;Fructose&apos;, u&apos;Galactose&apos;, u&apos;Fatty acids, total trans&apos;,
       u&apos;Stigmasterol&apos;, u&apos;Campesterol&apos;, u&apos;Beta-sitosterol&apos;,
       u&apos;Fatty acids, total trans-monoenoic&apos;,
       u&apos;Fatty acids, total trans-polyenoic&apos;, u&apos;Hydroxyproline&apos;, u&apos;Starch&apos;,
       u&apos;Menaquinone-4&apos;, u&apos;Vitamin D2 (ergocalciferol)&apos;,
       u&apos;Adjusted Protein&apos;], dtype=object)
</pre>

</div>
</div>

</div>
</div>

</div>
<div class="cell border-box-sizing code_cell vbox">
<div class="input hbox">
<div class="prompt input_prompt">
In&nbsp;[167]:
</div>
<div class="input_area box-flex1">
<div class="highlight"><pre><span class="n">grouped</span> <span class="o">=</span> <span class="n">data</span><span class="o">.</span><span class="n">groupby</span><span class="p">([</span><span class="s">&#39;nutrient&#39;</span><span class="p">,</span> <span class="s">&#39;fgroup&#39;</span><span class="p">])</span>
<span class="n">results</span> <span class="o">=</span> <span class="n">grouped</span><span class="o">.</span><span class="n">apply</span><span class="p">(</span><span class="n">max_value</span><span class="p">)</span>
<span class="n">results</span><span class="o">.</span><span class="n">ix</span><span class="p">[</span><span class="s">&#39;Zinc, Zn&#39;</span><span class="p">]</span>
</pre></div>

</div>
</div>

<div class="vbox output_wrapper">
<div class="output vbox">


<div class="hbox output_area"><div class="prompt output_prompt">
    Out[167]:</div>
<div class="box-flex1 output_subarea output_pyout">

<div class="output_html rendered_html">
<div style="max-height:1000px;max-width:1500px;overflow:auto;">
<table border="1" class="dataframe">
  <thead>
    <tr style="text-align: right;">
      <th></th>
      <th>id</th>
      <th>food</th>
      <th>fgroup</th>
      <th>nutrient</th>
      <th>ngroup</th>
      <th>units</th>
      <th>value</th>
    </tr>
    <tr>
      <th>fgroup</th>
      <th></th>
      <th></th>
      <th></th>
      <th></th>
      <th></th>
      <th></th>
      <th></th>
    </tr>
  </thead>
  <tbody>
    <tr>
      <th>Baby Foods</th>
      <td>  3192</td>
      <td> Babyfood, cereal, oatmeal, with applesauce and...</td>
      <td>                        Baby Foods</td>
      <td> Zinc, Zn</td>
      <td> Elements</td>
      <td> mg</td>
      <td>   7.5</td>
    </tr>
    <tr>
      <th>Baked Products</th>
      <td> 18374</td>
      <td>      Leavening agents, yeast, baker's, compressed</td>
      <td>                    Baked Products</td>
      <td> Zinc, Zn</td>
      <td> Elements</td>
      <td> mg</td>
      <td>  9.97</td>
    </tr>
    <tr>
      <th>Beef Products</th>
      <td> 13981</td>
      <td> Beef, chuck, short ribs, boneless, separable l...</td>
      <td>                     Beef Products</td>
      <td> Zinc, Zn</td>
      <td> Elements</td>
      <td> mg</td>
      <td> 12.28</td>
    </tr>
    <tr>
      <th>Beverages</th>
      <td> 14557</td>
      <td> Chocolate-flavor beverage mix for milk, powder...</td>
      <td>                         Beverages</td>
      <td> Zinc, Zn</td>
      <td> Elements</td>
      <td> mg</td>
      <td>  6.82</td>
    </tr>
    <tr>
      <th>Breakfast Cereals</th>
      <td>  8504</td>
      <td> Cereals ready-to-eat, Ralston Enriched Bran fl...</td>
      <td>                 Breakfast Cereals</td>
      <td> Zinc, Zn</td>
      <td> Elements</td>
      <td> mg</td>
      <td> 64.33</td>
    </tr>
    <tr>
      <th>Cereal Grains and Pasta</th>
      <td> 20078</td>
      <td>                                 Wheat germ, crude</td>
      <td>           Cereal Grains and Pasta</td>
      <td> Zinc, Zn</td>
      <td> Elements</td>
      <td> mg</td>
      <td> 12.29</td>
    </tr>
    <tr>
      <th>Dairy and Egg Products</th>
      <td> 43260</td>
      <td> Beverage, instant breakfast powder, chocolate,...</td>
      <td>            Dairy and Egg Products</td>
      <td> Zinc, Zn</td>
      <td> Elements</td>
      <td> mg</td>
      <td>  15.4</td>
    </tr>
    <tr>
      <th>Ethnic Foods</th>
      <td> 35194</td>
      <td>                          Agave, dried (Southwest)</td>
      <td>                      Ethnic Foods</td>
      <td> Zinc, Zn</td>
      <td> Elements</td>
      <td> mg</td>
      <td>  12.1</td>
    </tr>
    <tr>
      <th>Fast Foods</th>
      <td> 21048</td>
      <td> Fast foods, oysters, battered or breaded, and ...</td>
      <td>                        Fast Foods</td>
      <td> Zinc, Zn</td>
      <td> Elements</td>
      <td> mg</td>
      <td> 11.25</td>
    </tr>
    <tr>
      <th>Fats and Oils</th>
      <td>  2066</td>
      <td>     Salad dressing, russian dressing, low calorie</td>
      <td>                     Fats and Oils</td>
      <td> Zinc, Zn</td>
      <td> Elements</td>
      <td> mg</td>
      <td>  2.41</td>
    </tr>
    <tr>
      <th>Finfish and Shellfish Products</th>
      <td> 15170</td>
      <td>                 Mollusks, oyster, eastern, canned</td>
      <td>    Finfish and Shellfish Products</td>
      <td> Zinc, Zn</td>
      <td> Elements</td>
      <td> mg</td>
      <td> 90.95</td>
    </tr>
    <tr>
      <th>Fruits and Fruit Juices</th>
      <td>  9030</td>
      <td> Apricots, dehydrated (low-moisture), sulfured,...</td>
      <td>           Fruits and Fruit Juices</td>
      <td> Zinc, Zn</td>
      <td> Elements</td>
      <td> mg</td>
      <td>     1</td>
    </tr>
    <tr>
      <th>Lamb, Veal, and Game Products</th>
      <td> 17202</td>
      <td>   Veal, variety meats and by-products, liver, raw</td>
      <td>     Lamb, Veal, and Game Products</td>
      <td> Zinc, Zn</td>
      <td> Elements</td>
      <td> mg</td>
      <td> 12.02</td>
    </tr>
    <tr>
      <th>Legumes and Legume Products</th>
      <td> 16176</td>
      <td> Soy protein isolate, PROTEIN TECHNOLOGIES INTE...</td>
      <td>       Legumes and Legume Products</td>
      <td> Zinc, Zn</td>
      <td> Elements</td>
      <td> mg</td>
      <td>    60</td>
    </tr>
    <tr>
      <th>Meals, Entrees, and Sidedishes</th>
      <td> 22959</td>
      <td> Macaroni and cheese dinner with dry sauce mix,...</td>
      <td>    Meals, Entrees, and Sidedishes</td>
      <td> Zinc, Zn</td>
      <td> Elements</td>
      <td> mg</td>
      <td>  1.42</td>
    </tr>
    <tr>
      <th>Nut and Seed Products</th>
      <td> 12011</td>
      <td> Seeds, cottonseed meal, partially defatted (gl...</td>
      <td>             Nut and Seed Products</td>
      <td> Zinc, Zn</td>
      <td> Elements</td>
      <td> mg</td>
      <td> 12.32</td>
    </tr>
    <tr>
      <th>Pork Products</th>
      <td> 10111</td>
      <td> Pork, fresh, variety meats and by-products, li...</td>
      <td>                     Pork Products</td>
      <td> Zinc, Zn</td>
      <td> Elements</td>
      <td> mg</td>
      <td>  6.72</td>
    </tr>
    <tr>
      <th>Poultry Products</th>
      <td>  5180</td>
      <td> Turkey, all classes, neck, meat only, cooked, ...</td>
      <td>                  Poultry Products</td>
      <td> Zinc, Zn</td>
      <td> Elements</td>
      <td> mg</td>
      <td>  7.12</td>
    </tr>
    <tr>
      <th>Restaurant Foods</th>
      <td> 36608</td>
      <td>             CRACKER BARREL, grilled sirloin steak</td>
      <td>                  Restaurant Foods</td>
      <td> Zinc, Zn</td>
      <td> Elements</td>
      <td> mg</td>
      <td>  5.67</td>
    </tr>
    <tr>
      <th>Sausages and Luncheon Meats</th>
      <td>  7912</td>
      <td>                                 Roast beef spread</td>
      <td>       Sausages and Luncheon Meats</td>
      <td> Zinc, Zn</td>
      <td> Elements</td>
      <td> mg</td>
      <td>  6.08</td>
    </tr>
    <tr>
      <th>Snacks</th>
      <td> 25006</td>
      <td> Formulated bar, MARS SNACKFOOD US, SNICKERS Ma...</td>
      <td>                            Snacks</td>
      <td> Zinc, Zn</td>
      <td> Elements</td>
      <td> mg</td>
      <td> 13.57</td>
    </tr>
    <tr>
      <th>Soups, Sauces, and Gravies</th>
      <td>  6048</td>
      <td>              Soup, oyster stew, canned, condensed</td>
      <td>        Soups, Sauces, and Gravies</td>
      <td> Zinc, Zn</td>
      <td> Elements</td>
      <td> mg</td>
      <td>   8.4</td>
    </tr>
    <tr>
      <th>Spices and Herbs</th>
      <td>  2008</td>
      <td>                            Spices, chervil, dried</td>
      <td>                  Spices and Herbs</td>
      <td> Zinc, Zn</td>
      <td> Elements</td>
      <td> mg</td>
      <td>   8.8</td>
    </tr>
    <tr>
      <th>Sweets</th>
      <td> 19078</td>
      <td>            Baking chocolate, unsweetened, squares</td>
      <td>                            Sweets</td>
      <td> Zinc, Zn</td>
      <td> Elements</td>
      <td> mg</td>
      <td>  9.63</td>
    </tr>
    <tr>
      <th>Vegetables and Vegetable Products</th>
      <td> 11268</td>
      <td>                        Mushrooms, shiitake, dried</td>
      <td> Vegetables and Vegetable Products</td>
      <td> Zinc, Zn</td>
      <td> Elements</td>
      <td> mg</td>
      <td>  7.66</td>
    </tr>
  </tbody>
</table>
</div>
</div>

</div>
</div>

</div>
</div>

</div>
<div class="cell border-box-sizing code_cell vbox">
<div class="input hbox">
<div class="prompt input_prompt">
In&nbsp;[168]:
</div>
<div class="input_area box-flex1">
<div class="highlight"><pre><span class="n">results</span><span class="o">.</span><span class="n">ix</span><span class="p">[</span><span class="s">&#39;Zinc, Zn&#39;</span><span class="p">]</span><span class="o">.</span><span class="n">value</span>
</pre></div>

</div>
</div>

<div class="vbox output_wrapper">
<div class="output vbox">


<div class="hbox output_area"><div class="prompt output_prompt">
    Out[168]:</div>
<div class="box-flex1 output_subarea output_pyout">


<pre>
fgroup
Baby Foods                             7.5
Baked Products                        9.97
Beef Products                        12.28
Beverages                             6.82
Breakfast Cereals                    64.33
Cereal Grains and Pasta              12.29
Dairy and Egg Products                15.4
Ethnic Foods                          12.1
Fast Foods                           11.25
Fats and Oils                         2.41
Finfish and Shellfish Products       90.95
Fruits and Fruit Juices                  1
Lamb, Veal, and Game Products        12.02
Legumes and Legume Products             60
Meals, Entrees, and Sidedishes        1.42
Nut and Seed Products                12.32
Pork Products                         6.72
Poultry Products                      7.12
Restaurant Foods                      5.67
Sausages and Luncheon Meats           6.08
Snacks                               13.57
Soups, Sauces, and Gravies             8.4
Spices and Herbs                       8.8
Sweets                                9.63
Vegetables and Vegetable Products     7.66
Name: value, dtype: object
</pre>

</div>
</div>

</div>
</div>

</div>
<div class="cell border-box-sizing code_cell vbox">
<div class="input hbox">
<div class="prompt input_prompt">
In&nbsp;[169]:
</div>
<div class="input_area box-flex1">
<div class="highlight"><pre><span class="n">results</span><span class="o">.</span><span class="n">ix</span><span class="p">[</span><span class="s">&#39;Zinc, Zn&#39;</span><span class="p">]</span><span class="o">.</span><span class="n">value</span><span class="o">.</span><span class="n">plot</span><span class="p">(</span><span class="n">kind</span><span class="o">=</span><span class="s">&#39;barh&#39;</span><span class="p">)</span>
</pre></div>

</div>
</div>

<div class="vbox output_wrapper">
<div class="output vbox">


<div class="hbox output_area"><div class="prompt output_prompt">
    Out[169]:</div>
<div class="box-flex1 output_subarea output_pyout">


<pre>
&lt;matplotlib.axes.AxesSubplot at 0x10100a190&gt;
</pre>

</div>
</div>

<div class="hbox output_area"><div class="prompt"></div>
<div class="box-flex1 output_subarea output_display_data">


<img src="data:image/png;base64,iVBORw0KGgoAAAANSUhEUgAAAigAAAD5CAYAAAAN8M4mAAAABHNCSVQICAgIfAhkiAAAAAlwSFlz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">

</div>
</div>

</div>
</div>

</div>
<div class="cell border-box-sizing code_cell vbox">
<div class="input hbox">
<div class="prompt input_prompt">
In&nbsp;[170]:
</div>
<div class="input_area box-flex1">
<div class="highlight"><pre><span class="n">plt</span><span class="o">.</span><span class="n">figure</span><span class="p">(</span><span class="n">figsize</span><span class="o">=</span><span class="p">(</span><span class="mi">10</span><span class="p">,</span> <span class="mi">8</span><span class="p">))</span>
<span class="n">medians</span> <span class="o">=</span> <span class="n">data</span><span class="o">.</span><span class="n">groupby</span><span class="p">([</span><span class="s">&#39;nutrient&#39;</span><span class="p">,</span> <span class="s">&#39;fgroup&#39;</span><span class="p">])</span><span class="o">.</span><span class="n">value</span><span class="o">.</span><span class="n">median</span><span class="p">()</span>
<span class="n">medians</span><span class="o">.</span><span class="n">ix</span><span class="p">[</span><span class="s">&#39;Zinc, Zn&#39;</span><span class="p">]</span><span class="o">.</span><span class="n">plot</span><span class="p">(</span><span class="n">kind</span><span class="o">=</span><span class="s">&#39;barh&#39;</span><span class="p">)</span>
</pre></div>

</div>
</div>

<div class="vbox output_wrapper">
<div class="output vbox">


<div class="hbox output_area"><div class="prompt output_prompt">
    Out[170]:</div>
<div class="box-flex1 output_subarea output_pyout">


<pre>
&lt;matplotlib.axes.AxesSubplot at 0x11e151090&gt;
</pre>

</div>
</div>

<div class="hbox output_area"><div class="prompt"></div>
<div class="box-flex1 output_subarea output_display_data">


<img src="data:image/png;base64,iVBORw0KGgoAAAANSUhEUgAAAwIAAAHYCAYAAAD+hl/YAAAABHNCSVQICAgIfAhkiAAAAAlwSFlz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==
">

</div>
</div>

</div>
</div>

</div>
<div class="cell border-box-sizing code_cell vbox">
<div class="input hbox">
<div class="prompt input_prompt">
In&nbsp;[171]:
</div>
<div class="input_area box-flex1">
<div class="highlight"><pre><span class="n">plt</span><span class="o">.</span><span class="n">figure</span><span class="p">(</span><span class="n">figsize</span><span class="o">=</span><span class="p">(</span><span class="mi">10</span><span class="p">,</span> <span class="mi">8</span><span class="p">))</span>
<span class="n">maxes</span> <span class="o">=</span> <span class="n">data</span><span class="o">.</span><span class="n">groupby</span><span class="p">([</span><span class="s">&#39;nutrient&#39;</span><span class="p">,</span> <span class="s">&#39;fgroup&#39;</span><span class="p">])</span><span class="o">.</span><span class="n">value</span><span class="o">.</span><span class="n">max</span><span class="p">()</span>
<span class="n">np</span><span class="o">.</span><span class="n">log</span><span class="p">(</span><span class="n">maxes</span><span class="o">.</span><span class="n">ix</span><span class="p">[</span><span class="s">&#39;Caffeine&#39;</span><span class="p">])</span><span class="o">.</span><span class="n">plot</span><span class="p">(</span><span class="n">kind</span><span class="o">=</span><span class="s">&#39;barh&#39;</span><span class="p">)</span>
</pre></div>

</div>
</div>

<div class="vbox output_wrapper">
<div class="output vbox">


<div class="hbox output_area"><div class="prompt output_prompt">
    Out[171]:</div>
<div class="box-flex1 output_subarea output_pyout">


<pre>
&lt;matplotlib.axes.AxesSubplot at 0x106c3abd0&gt;
</pre>

</div>
</div>

<div class="hbox output_area"><div class="prompt"></div>
<div class="box-flex1 output_subarea output_display_data">


<img src="data:image/png;base64,iVBORw0KGgoAAAANSUhEUgAAAwIAAAHYCAYAAAD+hl/YAAAABHNCSVQICAgIfAhkiAAAAAlwSFlz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">

</div>
</div>

</div>
</div>

</div>
<div class="cell border-box-sizing code_cell vbox">
<div class="input hbox">
<div class="prompt input_prompt">
In&nbsp;[172]:
</div>
<div class="input_area box-flex1">
<div class="highlight"><pre><span class="n">data</span><span class="p">[[</span><span class="s">&#39;food&#39;</span><span class="p">,</span> <span class="s">&#39;nutrient&#39;</span><span class="p">]]</span><span class="o">.</span><span class="n">describe</span><span class="p">()</span>
</pre></div>

</div>
</div>

<div class="vbox output_wrapper">
<div class="output vbox">


<div class="hbox output_area"><div class="prompt output_prompt">
    Out[172]:</div>
<div class="box-flex1 output_subarea output_pyout">

<div class="output_html rendered_html">
<div style="max-height:1000px;max-width:1500px;overflow:auto;">
<table border="1" class="dataframe">
  <thead>
    <tr style="text-align: right;">
      <th></th>
      <th>food</th>
      <th>nutrient</th>
    </tr>
  </thead>
  <tbody>
    <tr>
      <th>count</th>
      <td>                                            389355</td>
      <td> 389355</td>
    </tr>
    <tr>
      <th>unique</th>
      <td>                                              6636</td>
      <td>     94</td>
    </tr>
    <tr>
      <th>top</th>
      <td> Milk, reduced fat, fluid, 2% milkfat, with add...</td>
      <td> Energy</td>
    </tr>
    <tr>
      <th>freq</th>
      <td>                                               270</td>
      <td>  13704</td>
    </tr>
  </tbody>
</table>
</div>
</div>

</div>
</div>

</div>
</div>

</div>
<div class="cell border-box-sizing code_cell vbox">
<div class="input hbox">
<div class="prompt input_prompt">
In&nbsp;[]:
</div>
<div class="input_area box-flex1">
<div class="highlight"><pre>
</pre></div>

</div>
</div>

</div>


     <!-- Footer
     ================================================== -->
      <footer class="footer">
      <p class="pull-right"><a href="#">Back to top</a></p>
      <p>More info on <a href='http://ipython.org'> IPython website </a>.
      <a href="https://github.com/ipython/nbviewer">The code for this site</a> is licensed under  <a href="https://github.com/ipython/nbviewer/blob/master/LICENSE.txt" target="_blank">BSD</a>.
      Some icons from <a href="http://glyphicons.com">Glyphicons Free</a>, built thanks to <a href="http://twitter.github.com/bootstrap/"> Twitter Bootstrap</a></p>
      <p>This web site does not host notebooks, it only renders notebooks available on other websites.
      Thanks to all our <a href="https://github.com/ipython/nbviewer/contributors">contributors</a>.</p>
      </footer>
    </div><!-- /container -->



    <!-- Le javascript
    ================================================== -->
    <!-- Placed at the end of the document so the pages load faster -->

    <!--<script type="text/javascript" src="http://platform.twitter.com/widgets.js"></script>-->
    <script src="/static/js/jquery.js"></script>
    <!--<script src="/static/js/google-code-prettify/prettify.js"></script>-->
    <!--<script src="/static/js/bootstrap-transition.js"></script>-->
    <!--<script src="/static/js/bootstrap-alert.js"></script>-->
    <!--<script src="/static/js/bootstrap-modal.js"></script>-->
    <!--<script src="/static/js/bootstrap-dropdown.js"></script>-->
    <!--<script src="/static/js/bootstrap-scrollspy.js"></script>-->
    <!--<script src="/static/js/bootstrap-tab.js"></script>-->
    <!--<script src="/static/js/bootstrap-tooltip.js"></script>-->
    <!--<script src="/static/js/bootstrap-popover.js"></script>-->
    <!--<script src="/static/js/bootstrap-button.js"></script>-->
    <script src="/static/js/bootstrap-collapse.js"></script>
    <!--<script src="/static/js/bootstrap-carousel.js"></script>-->
    <!--<script src="/static/js/bootstrap-typeahead.js"></script>-->
    <!--<script src="/static/js/application.js"></script>-->


    <!-- Analytics
    ================================================== -->
    <script type="text/javascript">
      var _gaq = _gaq || [];
      _gaq.push(['_setAccount', 'UA-38683231-2']);
      _gaq.push(['_trackPageview']);

      (function() {
        var ga = document.createElement('script'); ga.type = 'text/javascript'; ga.async = true;
        ga.src = ('https:' == document.location.protocol ? 'https://ssl' : 'http://www') + '.google-analytics.com/ga.js';
        var s = document.getElementsByTagName('script')[0]; s.parentNode.insertBefore(ga, s);
      })();

    </script>
    <!--NEW RELIC Stop Perf Measurement-->
    <script type="text/javascript">if(!NREUMQ.f){NREUMQ.f=function(){NREUMQ.push(["load",new Date().getTime()]);var e=document.createElement("script");e.type="text/javascript";e.src=(("http:"===document.location.protocol)?"http:":"https:")+"//"+"js-agent.newrelic.com/nr-100.js";document.body.appendChild(e);if(NREUMQ.a)NREUMQ.a();};NREUMQ.a=window.onload;window.onload=NREUMQ.f;};NREUMQ.push(["nrfj","beacon-5.newrelic.com","7c83165904","1528310","Y1YAMUFQXEZYUEcIVlocJBBdUkZcVl0cBlBHR1gXVl9WUEtsRhNVRw==",11,981,new Date().getTime(),"","","","",""]);</script>
    <!--NEW RELIC End-->
  </body>
</html>